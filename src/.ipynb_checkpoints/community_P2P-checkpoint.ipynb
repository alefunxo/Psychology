{
 "cells": [
  {
   "cell_type": "markdown",
   "metadata": {},
   "source": [
    "# Model description\n",
    "\n",
    "Using prosumpy (a toolkit for the simulation and economic evaluation of self-consumption and solar home battery systems [1]), we artificially create solar communities. Some functions were modified. Across all the script we use DC-coupled PV-battery systems, without taking into account the DC/DC converter efficiency.\n",
    "\n",
    "In first place, we create a solar community where there is no trading among the members, different PV and battery penetration can be used and we evaluate the maximum import/export power to and from the grid as well as the Self-consumption (SC) and Self-sufficiency (SS) ratios for the whole community and the total community bill (as the sum of the individual bills).\n",
    "\n",
    "Then, we include into the solar community users preferences in terms of inclination to trade depending on SOC and electricity prices, according to the answers to the survey conducted to 251 house-owners in Germany (March 2020). We then recalculate the same KPI and compare with the previous case to explore the impact of prosumer preferences in P2P communities.\n",
    "\n",
    "The two models (with and without trading) are implemented in five steps:\n",
    "\n",
    "1. Household selection, including households with PV, battery and other basis of selection (e.g., environmental awareness, risk aversion)\n",
    "2. Run (deterministic) dispatch algorithm per household where self-consumption is maximized (in the case with trading, prosumer preferences are included)\n",
    "3. Run dispatch algorithm for the whole community, using aggregated PV injection and residual demand (in both cases no preferences are applied in this second level and no battery is used). This step allows to know how the electricity will be re-distributed inside the community.\n",
    "4. Recalculate community flows\n",
    "5. Calculate KPIs\n",
    "\n",
    "\n",
    "[1] Quoilin, S. et al., 'Quantifying self-consumption linked to solar home battery systems: Statistical analysis and economic assessment', Applied Energy, Elsevier, 2016, 182, pp. 58-67 (https://github.com/energy-modelling-toolkit/prosumpy))\n"
   ]
  },
  {
   "cell_type": "code",
   "execution_count": 1,
   "metadata": {},
   "outputs": [],
   "source": [
    "import numpy as np\n",
    "import pandas as pd\n",
    "import matplotlib.pyplot as plt \n",
    "import paper_classes_2 as pc\n",
    "import Post_processing as pp\n",
    "import itertools\n",
    "from functools import wraps\n",
    "import time\n"
   ]
  },
  {
   "cell_type": "code",
   "execution_count": 2,
   "metadata": {},
   "outputs": [],
   "source": [
    "def fn_timer(function):\n",
    "    '''Measures the time a function takes to run'''\n",
    "    @wraps(function)\n",
    "    def function_timer(*args, **kwargs):\n",
    "        t0 = time.time()\n",
    "        result = function(*args, **kwargs)\n",
    "        t1 = time.time()\n",
    "        print (\"Total time running %s: %s seconds\" %\n",
    "               (function.__name__, str(t1-t0))\n",
    "               )\n",
    "        return result\n",
    "    return function_timer"
   ]
  },
  {
   "cell_type": "code",
   "execution_count": 3,
   "metadata": {},
   "outputs": [],
   "source": [
    "def plot_dispatch(pv, demand, E, week=30):\n",
    "    \"\"\" Visualize dispatch algorithm for a specific week for a single household\n",
    "    Parameters:\n",
    "        demand (pd.Series): demand production\n",
    "        pv (pd.Series): pv production\n",
    "        E (dict):  Energy flows. Dictionary of pd.Series: res_pv, grid2load, store2inv, LevelOfCharge\n",
    "    \"\"\"\n",
    "\n",
    "    sliced_index = (pv.index.week==week)\n",
    "    pv_sliced = pv[sliced_index]\n",
    "    demand_sliced = demand[sliced_index]\n",
    "    self_consumption = E['inv2load'][sliced_index]\n",
    "    \n",
    "    direct_self_consumption = np.minimum(pv_sliced,demand_sliced)# E['inv2load'][sliced_index]\n",
    "    indirect_self_consumption = self_consumption-direct_self_consumption\n",
    "    res_pv_sliced = E['res_pv'][sliced_index]\n",
    "    grid2load_sliced = E['grid2load'][sliced_index]\n",
    "    store2inv_sliced = E['store2inv'][sliced_index]\n",
    "    LevelOfCharge = E['LevelOfCharge'][sliced_index]\n",
    "    inv2grid = E['inv2grid'][sliced_index]\n",
    "    grid2load = E['grid2load'][sliced_index]\n",
    "    aux=np.maximum(0,self_consumption)\n",
    "\n",
    "    fig, axes = plt.subplots(nrows=3, ncols=1, sharex=True, figsize=(17, 4*3), frameon=False,\n",
    "                             gridspec_kw={'height_ratios': [3, 1, 1], 'hspace': 0.04})\n",
    "\n",
    "    #fig, ax = plt.subplots(figsize=(17, 4))\n",
    "    axes[0].plot(demand_sliced.index, demand_sliced, color='black', lw=2,label='demand')\n",
    "    axes[0].plot(pv_sliced.index, pv_sliced, color='black',ls='--', lw=2,label='PV')\n",
    "    axes[0].fill_between(direct_self_consumption.index, 0, direct_self_consumption, color='orange', alpha=.8, label='DSC')\n",
    "    axes[0].fill_between(pv_sliced.index, self_consumption, pv_sliced , where=pv_sliced<demand_sliced,color='blue', hatch='//',\n",
    "                         alpha=.3,label='ISC')\n",
    "    axes[0].fill_between(pv_sliced.index, direct_self_consumption, pv_sliced ,where=pv_sliced>demand_sliced, color='gold', alpha=.3,label='Excess PV')\n",
    "\n",
    "    axes[0].fill_between(grid2load_sliced.index,self_consumption,demand_sliced,color='red',alpha=.2, label='grid2load')\n",
    "        \n",
    "\n",
    "    #axes[0].plot(grid2load_sliced.index, grid2load_sliced, color='red', ls=\":\", lw=1)\n",
    "    axes[0].set_ylim([0, axes[0].get_ylim()[1] ])\n",
    "    axes[0].set_ylabel('Power (kW)')\n",
    "\n",
    "    axes[1].fill_between(LevelOfCharge.index, 0, LevelOfCharge, color='grey', alpha=.2, label='SOC')\n",
    "    axes[1].set_ylabel('State of Charge (kWh)')\n",
    "\n",
    "    axes[2].fill_between(inv2grid.index, 0, inv2grid, color='green', alpha=.2,label='injected2grid')\n",
    "    axes[2].fill_between(inv2grid.index, 0, -grid2load, color='red', alpha=.2,label='grid drawn')\n",
    "    axes[2].set_ylabel('In/out from grid (kW)')\n",
    "    axes[0].legend()\n",
    "    axes[1].legend()\n",
    "    axes[2].legend()\n",
    "    return\n",
    "\n"
   ]
  },
  {
   "cell_type": "code",
   "execution_count": 4,
   "metadata": {},
   "outputs": [],
   "source": [
    "def plot_dispatch_comm(pv, demand, E, week=30,flag=False):\n",
    "    \"\"\" Visualize dispatch algorithm for a specific week for the whole community\n",
    "    Parameters:\n",
    "        demand (pd.Series): demand production\n",
    "        pv (pd.Series): pv production\n",
    "        E (dict):  Energy flows. Dictionary of pd.Series: res_pv, grid2load, store2inv, LevelOfCharge\n",
    "        flag (bool): fill_between\n",
    "    \"\"\"\n",
    "\n",
    "    sliced_index = (pv.index.week==week)\n",
    "    pv_sliced = pv[sliced_index]\n",
    "    demand_sliced = demand[sliced_index]\n",
    "    self_consumption = E['inv2load'][sliced_index]\n",
    "    \n",
    "    direct_self_consumption = np.minimum(pv_sliced,demand_sliced)# E['inv2load'][sliced_index]\n",
    "    indirect_self_consumption = self_consumption-direct_self_consumption\n",
    "    res_pv_sliced = E['res_pv'][sliced_index]\n",
    "    grid2load_sliced = E['grid2load'][sliced_index]\n",
    "    store2inv_sliced = E['store2inv'][sliced_index]\n",
    "    LevelOfCharge = E['LevelOfCharge'][sliced_index]\n",
    "    inv2grid = E['inv2grid'][sliced_index]\n",
    "    grid2load = E['grid2load'][sliced_index]\n",
    "    aux=np.maximum(0,self_consumption)\n",
    "\n",
    "    fig, axes = plt.subplots(nrows=3, ncols=1, sharex=True, figsize=(17, 4*3), frameon=False,\n",
    "                             gridspec_kw={'height_ratios': [3, 1, 1], 'hspace': 0.04})\n",
    "\n",
    "    #fig, ax = plt.subplots(figsize=(17, 4))\n",
    "    axes[0].plot(demand_sliced.index, demand_sliced, color='black', lw=2,label='demand')\n",
    "        \n",
    "    if flag:\n",
    "        axes[0].plot(pv_sliced.index, pv_sliced, color='green', lw=2,label='pv')\n",
    "        axes[0].plot(direct_self_consumption.index, direct_self_consumption, color='yellow', lw=2,label='DSC')\n",
    "        axes[0].plot(indirect_self_consumption.index, indirect_self_consumption, color='orange', lw=2,label='ISC')\n",
    "        axes[0].plot(grid2load_sliced.index, grid2load_sliced, color='red', lw=2,label='grid')\n",
    "\n",
    "    else:\n",
    "        axes[0].fill_between(direct_self_consumption.index, 0, direct_self_consumption, color='orange', alpha=.8, label='DSC')\n",
    "        axes[0].fill_between(pv_sliced.index, self_consumption, pv_sliced ,where=pv_sliced<demand_sliced, color='blue', hatch='//',\n",
    "                             alpha=.3,label='ISC')\n",
    "        axes[0].fill_between(pv_sliced.index, direct_self_consumption, pv_sliced , color='gold', alpha=.3,label='Excess PV')\n",
    "\n",
    "        axes[0].fill_between(grid2load_sliced.index,self_consumption,demand_sliced,color='red',alpha=.2, label='grid2load')\n",
    "    axes[0].set_ylim([0, axes[0].get_ylim()[1] ])\n",
    "    axes[0].set_ylabel('Power (kW)')\n",
    "\n",
    "    axes[1].fill_between(LevelOfCharge.index, 0, LevelOfCharge, color='grey', alpha=.2, label='SOC')\n",
    "    axes[1].set_ylabel('State of Charge (kWh)')\n",
    "\n",
    "    axes[2].fill_between(inv2grid.index, 0, inv2grid, color='green', alpha=.2,label='injected2grid')\n",
    "    axes[2].fill_between(inv2grid.index, 0, -grid2load, color='red', alpha=.2,label='grid drawn')\n",
    "    axes[2].set_ylabel('In/out from grid (kW)')\n",
    "    axes[0].legend()\n",
    "    axes[1].legend()\n",
    "    axes[2].legend()\n",
    "    return"
   ]
  },
  {
   "cell_type": "code",
   "execution_count": 37,
   "metadata": {},
   "outputs": [],
   "source": [
    "def print_analysis(pv, demand, param, E,isCommunity=False):\n",
    "    \"\"\" Print statistics and information of the dispatched solution\n",
    "    Arguments\n",
    "        pv (pd.Series): PV timeseries\n",
    "        demand (pd.Series): demand timeseries\n",
    "        param (dict): dictionary of technical parameters\n",
    "        E (dict): dictionary of energy flows as estimated by the algorithm\n",
    "    Returns\n",
    "        none\n",
    "    \"\"\"\n",
    "    timestep = param['timestep']\n",
    "    SelfConsumption = np.sum(E['inv2load']) * timestep\n",
    "    TotalFromGrid = np.sum(E['grid2load']) * timestep\n",
    "    TotalToGrid = np.sum(E['inv2grid']) * timestep\n",
    "    TotalLoad = demand.sum() * timestep\n",
    "    TotalPV = pv.sum() * timestep\n",
    "    TotalBatteryGeneration = np.sum(E['store2inv']) * timestep\n",
    "    TotalBatteryConsumption = np.sum(E['pv2store']) * timestep\n",
    "    \n",
    "    if 'inverter_losses' in E.keys():\n",
    "        BatteryLosses=E['battery_losses'].sum()\n",
    "        InverterLosses=E['inverter_losses'].sum()\n",
    "    else:\n",
    "        BatteryLosses = TotalBatteryConsumption - TotalBatteryGeneration\n",
    "        InverterLosses = (TotalPV - BatteryLosses) * (1 - param['InverterEfficiency'])\n",
    "    SelfConsumptionRate = SelfConsumption / TotalPV * 100             # in %\n",
    "    SelfSufficiencyRate = SelfConsumption / TotalLoad * 100\n",
    "    \n",
    "    print ('Total yearly consumption: {:1g} kWh'.format(TotalLoad))\n",
    "    print ('Total PV production: {:1g} kWh'.format(TotalPV))\n",
    "    print ('Self Consumption: {:1g} kWh'.format(SelfConsumption))\n",
    "    print ('Total fed to the grid: {:1g} kWh'.format(TotalToGrid))\n",
    "    print ('Total bought from the grid: {:1g} kWh'.format(TotalFromGrid))\n",
    "    print ('Self consumption rate (SCR): {:.3g}%'.format(SelfConsumptionRate))\n",
    "    print ('Self sufficiency rate (SSR): {:.3g}%'.format(SelfSufficiencyRate))\n",
    "    print ('Amount of energy provided by the battery: {:1g} kWh'.format(TotalBatteryGeneration))\n",
    "    print ('Total battery losses: {:1g} kWh'.format(BatteryLosses))\n",
    "    print ('Total inverter losses: {:1g} kWh'.format(InverterLosses))\n",
    "    print ('Total inverter losses: {:1g} kWh'.format(InverterLosses))\n",
    "    print ('Total inverter losses: {:1g} kWh'.format(InverterLosses))\n",
    "    print('Maximum power injected into the grid is {}'.format(E['inv2grid'].max()))\n",
    "    print('Maximum power drained from the grid is {}'.format(E['grid2load'].max()))\n",
    "    if isCommunity==False:\n",
    "        AverageDepth = TotalBatteryGeneration / (365 * param['BatteryCapacity'])\n",
    "        Nfullcycles = 365 * AverageDepth\n",
    "        residue = TotalPV + TotalFromGrid - TotalToGrid - BatteryLosses - InverterLosses - TotalLoad\n",
    "        print ('Number of equivalent full cycles per year: {:1g} '.format(Nfullcycles))\n",
    "        print ('Average Charging/Discharging depth: {:1g}'.format(AverageDepth))\n",
    "        print ('Residue (check): {:1g} kWh'.format(residue))"
   ]
  },
  {
   "cell_type": "code",
   "execution_count": 6,
   "metadata": {},
   "outputs": [],
   "source": [
    "def dispatch_max_sc(pv, demand, param, return_series=False):\n",
    "    \"\"\" Self consumption maximization pv + battery dispatch algorithm.\n",
    "    The dispatch of the storage capacity is performed in such a way to maximize self-consumption:\n",
    "    the battery is charged when the PV power is higher than the load and as long as it is not fully charged.\n",
    "    It is discharged as soon as the PV power is lower than the load and as long as it is not fully discharged.\n",
    "    Arguments:\n",
    "        pv (pd.Series): Vector of PV generation, in kW DC (i.e. before the inverter)\n",
    "        demand (pd.Series): Vector of household consumption, kW\n",
    "        param (dict): Dictionary with the simulation parameters:\n",
    "                timestep (float): Simulation time step (in hours)\n",
    "                BatteryCapacity: Available battery capacity (i.e. only the the available DOD), kWh\n",
    "                BatteryEfficiency: Battery round-trip efficiency, -\n",
    "                InverterEfficiency: Inverter efficiency, -\n",
    "                MaxPower: Maximum battery charging or discharging powers (assumed to be equal), kW\n",
    "        return_series(bool): if True then the return will be a dictionary of series. Otherwise it will be a dictionary of ndarrays.\n",
    "                        It is reccommended to return ndarrays if speed is an issue (e.g. for batch runs).\n",
    "    Returns:\n",
    "        dict: Dictionary of Time series\n",
    "    \"\"\"\n",
    "\n",
    "    bat_size_e_adj = param['BatteryCapacity']\n",
    "    bat_size_p_adj = param['MaxPower']\n",
    "    n_bat = param['BatteryEfficiency']\n",
    "    n_inv = param['InverterEfficiency']\n",
    "    timestep = param['timestep']\n",
    "    # We work with np.ndarrays as they are much faster than pd.Series\n",
    "    Nsteps = len(pv)\n",
    "    LevelOfCharge = np.zeros(Nsteps)\n",
    "    pv2store = np.zeros(Nsteps)\n",
    "    #inv2grid = np.zeros(Nsteps)\n",
    "    store2inv = np.zeros(Nsteps)\n",
    "    grid2store = np.zeros(Nsteps) # TODO Always zero for now.\n",
    "\n",
    "    #Load served by PV\n",
    "    pv2inv = np.minimum(pv, demand / n_inv)  # DC direct self-consumption\n",
    "\n",
    "    #Residual load\n",
    "    res_load = (demand - pv2inv * n_inv)  # AC\n",
    "    inv2load = pv2inv * n_inv  # AC\n",
    "\n",
    "    #Excess PV\n",
    "    res_pv = np.maximum(pv - demand/n_inv, 0)  # DC\n",
    "\n",
    "    #PV to storage after eff losses\n",
    "    pv2inv = pv2inv.values\n",
    "\n",
    "    #first timestep = 0\n",
    "    LevelOfCharge[0] = 0  # bat_size_e_adj / 2  # DC\n",
    "\n",
    "    for i in range(1,Nsteps):\n",
    "        #PV to storage\n",
    "        if LevelOfCharge[i-1] >= bat_size_e_adj:  # if battery is full\n",
    "                pv2store[i] = 0\n",
    "        else: #if battery is not full\n",
    "            if LevelOfCharge[i-1] + res_pv[i] * n_bat * timestep > bat_size_e_adj:  # if battery will be full after putting excess\n",
    "                pv2store[i] = min((bat_size_e_adj - LevelOfCharge[i-1]) / timestep, bat_size_p_adj)\n",
    "            else:\n",
    "#                pv2store[i] = min(res_pv[i], bat_size_p_adj)\n",
    "                pv2store[i] = min(res_pv[i] * n_bat, bat_size_p_adj)\n",
    "        #Storage to load\n",
    "        if pv2store[i]==0:# modification to original algorithm (The battery cannot charge and discharge at the same time)\n",
    "            store2inv[i] = min(bat_size_p_adj,  # DC\n",
    "                       res_load[i] / n_inv/n_bat,\n",
    "                       LevelOfCharge[i-1] / timestep)*n_bat #modif to original, store2inv=pv2store*n_bat\n",
    "\n",
    "        #SOC\n",
    "        LevelOfCharge[i] = min(LevelOfCharge[i-1] - (store2inv[i]/n_bat - pv2store[i] - grid2store[i]) * timestep,  # DC\n",
    "                               bat_size_e_adj)#modif to original, store2inv=pv2store*n_bat\n",
    "\n",
    "    pv2inv = pv2inv + res_pv - pv2store\n",
    "    inv2load = inv2load + store2inv * n_inv  # AC\n",
    "    inv2grid = (res_pv - pv2store) * n_inv  # AC\n",
    "    grid2load = demand - inv2load  # AC\n",
    "\n",
    "    #MaxDischarge = np.minimum(LevelOfCharge[i-1]*BatteryEfficiency/timestep,MaxPower)\n",
    "\n",
    "\n",
    "    #Potential Grid to storage  # TODO: not an option for now in this strategy\n",
    "    # GridPurchase = False\n",
    "\n",
    "    out = {'pv2inv': pv2inv,\n",
    "            'res_pv': res_pv,\n",
    "            'pv2store': pv2store,\n",
    "            'inv2load': inv2load,\n",
    "            'grid2load': grid2load,\n",
    "            'store2inv': store2inv,\n",
    "            'LevelOfCharge': LevelOfCharge,\n",
    "            'inv2grid': inv2grid\n",
    "            # 'grid2store': grid2store\n",
    "            }\n",
    "    if not return_series:\n",
    "        out_pd = {}\n",
    "        for k, v in out.items():  # Create dictionary of pandas series with same index as the input pv\n",
    "            out_pd[k] = pd.Series(v, index=pv.index)\n",
    "        out = out_pd\n",
    "    return out"
   ]
  },
  {
   "cell_type": "code",
   "execution_count": 7,
   "metadata": {},
   "outputs": [],
   "source": [
    "@fn_timer\n",
    "def flag_selection(df,list_product,community_size):\n",
    "    '''\n",
    "    Function that randomly selects the households that will have PV only and those with PV and battery\n",
    "    ''' \n",
    "    list_names=['sub_'+str(i[0])+'_'+str(i[1]) for i in list_product]\n",
    "    for i in list_names:\n",
    "        df[i]=False\n",
    "    dict_pv_df={}\n",
    "    dict_batt_df={}\n",
    "    j=0\n",
    "    l=0\n",
    "    for i in list_pv_penetration: \n",
    "        #print('-----')\n",
    "        dict_pv_df[j]=np.random.choice(df.index,int(len(df)*(i/100)), replace=False)\n",
    "        for k in list_batt_penetration:\n",
    "            #print(int(len(dict_pv_df[j])*(k/100)))\n",
    "            dict_batt_df[l]=np.random.choice(dict_pv_df[j],int(len(dict_pv_df[j])*(k/100)), replace=False)\n",
    "            df.iloc[dict_batt_df[l],l+2]=True\n",
    "            l+=1\n",
    "        j+=1\n",
    "    return df"
   ]
  },
  {
   "cell_type": "code",
   "execution_count": 8,
   "metadata": {},
   "outputs": [],
   "source": [
    "import pickle\n",
    "def save_obj(obj, name ):\n",
    "    with open('../Output/'+name + '.pkl', 'wb') as f:\n",
    "        pickle.dump(obj, f, pickle.HIGHEST_PROTOCOL)\n",
    "\n",
    "def load_obj(name ):\n",
    "    with open('../Output/' + name + '.pkl', 'rb') as f:\n",
    "        return pickle.load(f)"
   ]
  },
  {
   "cell_type": "markdown",
   "metadata": {},
   "source": [
    "# Part I. Creation of the Solar community without trading"
   ]
  },
  {
   "cell_type": "markdown",
   "metadata": {},
   "source": [
    "## 1. Household selection"
   ]
  },
  {
   "cell_type": "markdown",
   "metadata": {},
   "source": [
    "If it is the first time you run this script set first_time to True (to select randomly the demand profiles and the PV sizes), otherwise set it to False"
   ]
  },
  {
   "cell_type": "code",
   "execution_count": 9,
   "metadata": {},
   "outputs": [],
   "source": [
    "first_time=True\n",
    "community_size=50\n",
    "timestep=0.25 # in hours 0.25 is 15 minutes"
   ]
  },
  {
   "cell_type": "code",
   "execution_count": 10,
   "metadata": {},
   "outputs": [],
   "source": [
    "df_CH=pd.read_csv('../Input/df_CH_Marzia3.csv', encoding='utf8', sep=',',usecols=[*range(0, 669)],\n",
    "                              engine='python',date_parser=lambda col: pd.to_datetime(col, utc=True),infer_datetime_format=True,index_col=0)\n",
    "df_CH.index=df_CH.index.tz_convert('Europe/Brussels')\n",
    "if timestep==1:\n",
    "    df_CH=df_CH.resample('1H').sum()\n",
    "else:\n",
    "    df_CH_kW=df_CH/timestep #data must be in kW\n",
    "max_PV=10\n",
    "if first_time:   \n",
    "    path='../Input/'\n",
    "    df_pv_ch=pd.read_excel(path+'PV_beneficiaires_Swiss.xlsx')\n",
    "    df_nat=df_pv_ch[(df_pv_ch['Anlage_Projekt-Bezeichnung']=='natürliche Person')]\n",
    "    df_nat_pv=df_nat[(df_nat['Anlage_Energieträger']=='Photovoltaik')]\n",
    "    df_nat_pv_15=df_nat_pv[df_nat_pv['Leistung [kW]']<max_PV]['Leistung [kW]'].reset_index(drop=True)"
   ]
  },
  {
   "cell_type": "markdown",
   "metadata": {},
   "source": [
    "df_CH contains 667 demand profiles for 2017 (CREM is for 2015, but this dataset was actualize to match 2017). The last column is E_PV which includes the PV generation for 1 kW system in Geneva for 2017. The community will be done selecting 100 out of the 667 profiles. We select only those profiles with a consumption below 7500 kWh per year (647)\n",
    "\n",
    "The PV distribution contains more than 20000 points, we randomly select 100 (lower than 10 kW)."
   ]
  },
  {
   "cell_type": "code",
   "execution_count": 11,
   "metadata": {},
   "outputs": [
    {
     "name": "stdout",
     "output_type": "stream",
     "text": [
      "Total time running flag_selection: 0.011940717697143555 seconds\n",
      "PV_size        286.4\n",
      "name             inf\n",
      "sub_100_100     50.0\n",
      "sub_100_75      37.0\n",
      "sub_100_50      25.0\n",
      "sub_100_25      12.0\n",
      "sub_75_100      37.0\n",
      "sub_75_75       27.0\n",
      "sub_75_50       18.0\n",
      "sub_75_25        9.0\n",
      "sub_50_100      25.0\n",
      "sub_50_75       18.0\n",
      "sub_50_50       12.0\n",
      "sub_50_25        6.0\n",
      "sub_25_100      12.0\n",
      "sub_25_75        9.0\n",
      "sub_25_50        6.0\n",
      "sub_25_25        3.0\n",
      "dtype: float64\n"
     ]
    }
   ],
   "source": [
    "df=pd.DataFrame(df_CH_kW.loc[:,(df_CH_kW.sum()<(7500/timestep))&(df_CH_kW.columns!='E_PV')].sample(n=community_size,axis=1).columns)\n",
    "if first_time:\n",
    "    #df=pd.DataFrame(df_CH.loc[:,(df_CH.sum()<7500)&(df_CH.columns!='E_PV')].sample(n=community_size,axis=1).columns)\n",
    "    selection=pd.concat([df_nat_pv_15.round(1).sample(n=community_size).reset_index(drop=True),df],axis=1)\n",
    "    selection.columns=['PV_size','name']\n",
    "    list_pv_penetration=[100,75,50,25]# %\n",
    "    list_batt_penetration=[100,75,50,25]# %\n",
    "    list_product=list(itertools.product(list_pv_penetration,list_batt_penetration))\n",
    "    flag_selection(selection,list_product,community_size)\n",
    "    print(selection.sum())\n",
    "    selection.to_csv('../Input/selection.csv',index=False)\n",
    "    first_time=False"
   ]
  },
  {
   "cell_type": "code",
   "execution_count": 12,
   "metadata": {},
   "outputs": [],
   "source": [
    "if not first_time:\n",
    "    selection=pd.read_csv('../Input/selection.csv')\n"
   ]
  },
  {
   "cell_type": "markdown",
   "metadata": {},
   "source": [
    "We define the battery parameters (NMC-based) as well as the Inverter efficiency (when only PV is used)"
   ]
  },
  {
   "cell_type": "code",
   "execution_count": 13,
   "metadata": {},
   "outputs": [],
   "source": [
    "param_tech = {'BatteryCapacity': 10,\n",
    "              'BatteryEfficiency': .91,\n",
    "              'InverterEfficiency': .94,\n",
    "              'timestep': timestep,\n",
    "              'MaxPower': 4\n",
    "             }\n",
    "param_tech_no_batt = {'BatteryCapacity': 0,\n",
    "              'BatteryEfficiency': .91,\n",
    "              'InverterEfficiency': .94,\n",
    "              'timestep': timestep,\n",
    "              'MaxPower': 0\n",
    "             }"
   ]
  },
  {
   "cell_type": "markdown",
   "metadata": {},
   "source": [
    "Select the PV and battery penetration. In this model there is no battery export."
   ]
  },
  {
   "cell_type": "code",
   "execution_count": 14,
   "metadata": {},
   "outputs": [],
   "source": [
    "pv_penetration=50\n",
    "batt_penetration=50"
   ]
  },
  {
   "cell_type": "markdown",
   "metadata": {},
   "source": [
    "## 2. Run the dispatch algorithm for every household\n",
    "\n",
    "We iterate through the community and get the dispatching for the PV and battery for every household"
   ]
  },
  {
   "cell_type": "code",
   "execution_count": 15,
   "metadata": {},
   "outputs": [
    {
     "name": "stdout",
     "output_type": "stream",
     "text": [
      "012345678910111213141516171819202122232425262728293031323334353637383940414243444546474849"
     ]
    }
   ],
   "source": [
    "nested_out={}\n",
    "j=0\n",
    "k=0\n",
    "PV_size_comm=0\n",
    "for i in selection.index:\n",
    "    print(i, end='')\n",
    "    if selection.loc[i,'sub_'+str(pv_penetration)+'_100']:#all with PV\n",
    "        PV_size_comm+=selection.PV_size[i]\n",
    "        if selection.loc[i,'sub_'+str(pv_penetration)+'_'+str(batt_penetration)]: #if battery\n",
    "            nested_out[i]=dispatch_max_sc(df_CH_kW.E_PV*selection.PV_size[i],df_CH_kW.loc[:,str(selection.name[i])],param_tech)\n",
    "            j+=1\n",
    "        else: #if only PV battery=0 kWh\n",
    "            nested_out[i]=dispatch_max_sc(df_CH_kW.E_PV*selection.PV_size[i],df_CH_kW.loc[:,str(selection.name[i])],param_tech_no_batt)\n",
    "            k+=1\n",
    "    else: #No PV\n",
    "        nested_out[i]=dispatch_max_sc(df_CH_kW.E_PV*0,df_CH_kW.loc[:,str(selection.name[i])],param_tech_no_batt)\n",
    "    "
   ]
  },
  {
   "cell_type": "markdown",
   "metadata": {},
   "source": [
    "The data from the community is aggregated in a single dictionary"
   ]
  },
  {
   "cell_type": "code",
   "execution_count": 16,
   "metadata": {},
   "outputs": [],
   "source": [
    "#get all the data in a single dict\n",
    "pv2inv=pd.DataFrame()\n",
    "res_pv=pd.DataFrame()\n",
    "pv2store=pd.DataFrame()\n",
    "inv2load=pd.DataFrame()\n",
    "grid2load=pd.DataFrame()\n",
    "store2inv=pd.DataFrame()\n",
    "LevelOfCharge=pd.DataFrame()\n",
    "inv2grid=pd.DataFrame()\n",
    "for i in nested_out.keys():\n",
    "    pv2inv['pv2inv'+str(i)]=nested_out[i]['pv2inv']\n",
    "    pv2store['pv2store'+str(i)]=nested_out[i]['pv2store']\n",
    "    inv2load['inv2load'+str(i)]=nested_out[i]['inv2load']\n",
    "    store2inv['store2inv'+str(i)]=nested_out[i]['store2inv']\n",
    "    LevelOfCharge['LevelOfCharge'+str(i)]=nested_out[i]['LevelOfCharge']\n",
    "    res_pv['res_pv'+str(i)]=nested_out[i]['res_pv']#not important, recalculated later\n",
    "    inv2grid['inv2grid'+str(i)]=nested_out[i]['inv2grid']#not important, recalculated later\n",
    "    grid2load['grid2load'+str(i)]=nested_out[i]['grid2load']#not important, recalculated later\n",
    "nested_dict={'pv2inv':pv2inv.sum(axis=1),'res_pv':res_pv.sum(axis=1),'pv2store':pv2store.sum(axis=1),'inv2load':inv2load.sum(axis=1),\n",
    "             'grid2load':grid2load.sum(axis=1),'store2inv':store2inv.sum(axis=1),'LevelOfCharge':LevelOfCharge.sum(axis=1),'inv2grid':inv2grid.sum(axis=1)}"
   ]
  },
  {
   "cell_type": "markdown",
   "metadata": {},
   "source": [
    "Now calculate how the excess of PV will be absorbed in the remaining load of the community (all households without batteries)"
   ]
  },
  {
   "cell_type": "code",
   "execution_count": null,
   "metadata": {},
   "outputs": [],
   "source": []
  },
  {
   "cell_type": "markdown",
   "metadata": {},
   "source": [
    "## 3. Run the dispatch algorithm for the whole community\n",
    "\n",
    "Using aggregated PV injection and residual demand"
   ]
  },
  {
   "cell_type": "code",
   "execution_count": 17,
   "metadata": {},
   "outputs": [],
   "source": [
    "out_comm_res=dispatch_max_sc(nested_dict['inv2grid'],nested_dict['grid2load'],param_tech_no_batt)"
   ]
  },
  {
   "cell_type": "markdown",
   "metadata": {},
   "source": [
    "## 4. Calculate community energy flows\n",
    "\n",
    "Finally, we create the dictionary combining the results from the households with PV, PV and battery and without PV or battery.\n",
    "\n",
    "(Some comments here would be useful)"
   ]
  },
  {
   "cell_type": "code",
   "execution_count": 18,
   "metadata": {},
   "outputs": [],
   "source": [
    "out_comm_final={}\n",
    "out_comm_final['pv2inv']=nested_dict['pv2inv'] # DC PV\n",
    "out_comm_final['pv2store']=nested_dict['pv2store'] # DC PV 2 batt\n",
    "out_comm_final['inv2load']=(nested_dict['inv2load']+out_comm_res['inv2load'])\n",
    "out_comm_final['store2inv']=nested_dict['store2inv']\n",
    "out_comm_final['LevelOfCharge']=nested_dict['LevelOfCharge']\n",
    "out_comm_final['res_pv']=out_comm_res['res_pv']\n",
    "out_comm_final['inv2grid']=out_comm_res['inv2grid']\n",
    "out_comm_final['grid2load']=out_comm_res['grid2load']\n",
    "out_comm_final['battery_losses']=nested_dict['pv2store']-nested_dict['store2inv']\n",
    "out_comm_final['inverter_losses']=(nested_dict['pv2inv']+nested_dict['pv2store']-out_comm_final['battery_losses']+out_comm_res['pv2inv']+out_comm_res['pv2store'])*(1-param_tech['InverterEfficiency'])\n",
    "out_comm_final['PV_size_comm']=PV_size_comm\n",
    "out_comm_final['df']=df_CH\n",
    "out_comm_final['param_tech']=param_tech\n",
    "out_comm_final['nested_dict']=nested_dict\n",
    "out_comm_final['pv_penetration']=pv_penetration\n",
    "out_comm_final['batt_penetration']=batt_penetration\n",
    "out_comm_final['selection']=selection\n"
   ]
  },
  {
   "cell_type": "markdown",
   "metadata": {},
   "source": [
    "## 5. Calculate KPIs\n",
    "\n",
    "Run the analysis of the community with the PV size equals to the sum of all PV sizes and with the aggregated demand"
   ]
  },
  {
   "cell_type": "markdown",
   "metadata": {},
   "source": [
    "## Results of the solar community without trading\n",
    "\n",
    "Bill is missing"
   ]
  },
  {
   "cell_type": "code",
   "execution_count": 38,
   "metadata": {},
   "outputs": [
    {
     "name": "stdout",
     "output_type": "stream",
     "text": [
      "Total yearly consumption: 143436 kWh\n",
      "Total PV production: 216360 kWh\n",
      "Self Consumption: 69767.6 kWh\n",
      "Total fed to the grid: 122374 kWh\n",
      "Total bought from the grid: 73668.4 kWh\n",
      "Self consumption rate (SCR): 32.2%\n",
      "Self sufficiency rate (SSR): 48.6%\n",
      "Amount of energy provided by the battery: 18801.7 kWh\n",
      "Total battery losses: 7560.75 kWh\n",
      "Total inverter losses: 89315.6 kWh\n",
      "Total inverter losses: 89315.6 kWh\n",
      "Total inverter losses: 89315.6 kWh\n",
      "Maximum power injected into the grid is 162.51835623439663\n",
      "Maximum power drained from the grid is 42.32\n"
     ]
    }
   ],
   "source": [
    "print_analysis(df_CH_kW.E_PV*PV_size_comm, df_CH_kW.loc[:,df.iloc[:,0]].sum(axis=1),param_tech_no_batt,out_comm_final,isCommunity=True)"
   ]
  },
  {
   "cell_type": "code",
   "execution_count": 20,
   "metadata": {},
   "outputs": [
    {
     "name": "stderr",
     "output_type": "stream",
     "text": [
      "/home/alejandropena/.conda/envs/alenv/lib/python3.7/site-packages/pandas/plotting/_converter.py:129: FutureWarning: Using an implicitly registered datetime converter for a matplotlib plotting method. The converter was registered by pandas on import. Future versions of pandas will require you to explicitly register matplotlib converters.\n",
      "\n",
      "To register the converters:\n",
      "\t>>> from pandas.plotting import register_matplotlib_converters\n",
      "\t>>> register_matplotlib_converters()\n",
      "  warnings.warn(msg, FutureWarning)\n"
     ]
    },
    {
     "name": "stdout",
     "output_type": "stream",
     "text": [
      "inv2grid max is 115.60063519972056\n",
      "grid2load max is 33.760000000000005\n"
     ]
    },
    {
     "data": {
      "image/png": "[encoded data removed]",
      "text/plain": [
       "<Figure size 1224x864 with 3 Axes>"
      ]
     },
     "metadata": {
      "needs_background": "light"
     },
     "output_type": "display_data"
    }
   ],
   "source": [
    "plot_dispatch_comm(df_CH_kW.E_PV*PV_size_comm, df_CH_kW.loc[:,df.iloc[:,0]].sum(axis=1),out_comm_final, week=1,flag=0)"
   ]
  },
  {
   "cell_type": "code",
   "execution_count": 35,
   "metadata": {},
   "outputs": [],
   "source": [
    "#plot_dispatch_comm(df_CH_kW.E_PV*PV_size_comm, df_CH_kW.loc[:,df.iloc[:,0]].sum(axis=1),out_comm_final, week=1,flag=1)"
   ]
  },
  {
   "cell_type": "code",
   "execution_count": 36,
   "metadata": {},
   "outputs": [],
   "source": [
    "# Single household test\n",
    "#hhNumber=15\n",
    "\n",
    "#out_aux=dispatch_max_sc(df_CH_kW.E_PV*selection.PV_size[hhNumber],df_CH_kW.loc[:,str(selection.name[hhNumber])],param_tech)\n",
    "\n",
    "#out_aux.keys()\n",
    "\n",
    "#(out_aux['pv2store']-out_aux['store2inv']).sum()*timestep\n",
    "\n",
    "#selection.PV_size[hhNumber]\n",
    "\n",
    "#print_analysis(df_CH_kW.E_PV*selection.PV_size[hhNumber],df_CH_kW.loc[:,str(selection.name[hhNumber])],param_tech,out_aux)\n",
    "\n",
    "#plot_dispatch(df_CH_kW.E_PV*selection.PV_size[hhNumber],df_CH_kW.loc[:,str(selection.name[hhNumber])],out_aux,week=4)"
   ]
  },
  {
   "cell_type": "markdown",
   "metadata": {},
   "source": [
    "# --------------------------------------------------------------------------------------------------"
   ]
  },
  {
   "cell_type": "markdown",
   "metadata": {},
   "source": [
    "# Part II. Solar communities with P2P trading and prosumer behaviour"
   ]
  },
  {
   "cell_type": "code",
   "execution_count": null,
   "metadata": {},
   "outputs": [],
   "source": []
  },
  {
   "cell_type": "markdown",
   "metadata": {},
   "source": [
    "## 1. Household selection\n",
    "\n",
    "We use the same selection than in Part I. However, we need to include the prosumer preferences now."
   ]
  },
  {
   "cell_type": "code",
   "execution_count": null,
   "metadata": {},
   "outputs": [],
   "source": []
  },
  {
   "cell_type": "markdown",
   "metadata": {},
   "source": [
    "## 2. Run the dispatch algorithm for every household (with prosumer preferences)\n",
    "\n",
    "We iterate through the community and get the dispatching for the PV and battery for every household"
   ]
  },
  {
   "cell_type": "code",
   "execution_count": null,
   "metadata": {},
   "outputs": [],
   "source": []
  },
  {
   "cell_type": "markdown",
   "metadata": {},
   "source": [
    "## 3. Dispatch algorithm for the whole community.\n",
    "\n",
    "Using aggregated PV and battery injection and residual demand"
   ]
  },
  {
   "cell_type": "code",
   "execution_count": null,
   "metadata": {},
   "outputs": [],
   "source": []
  },
  {
   "cell_type": "markdown",
   "metadata": {},
   "source": [
    "## 4. Calculate community energy flows"
   ]
  },
  {
   "cell_type": "code",
   "execution_count": null,
   "metadata": {},
   "outputs": [],
   "source": []
  },
  {
   "cell_type": "markdown",
   "metadata": {},
   "source": [
    "## 5. Calculate KPIs"
   ]
  },
  {
   "cell_type": "code",
   "execution_count": null,
   "metadata": {},
   "outputs": [],
   "source": []
  },
  {
   "cell_type": "code",
   "execution_count": null,
   "metadata": {},
   "outputs": [],
   "source": []
  },
  {
   "cell_type": "code",
   "execution_count": null,
   "metadata": {},
   "outputs": [],
   "source": []
  },
  {
   "cell_type": "code",
   "execution_count": null,
   "metadata": {},
   "outputs": [],
   "source": []
  },
  {
   "cell_type": "code",
   "execution_count": null,
   "metadata": {},
   "outputs": [],
   "source": []
  },
  {
   "cell_type": "code",
   "execution_count": null,
   "metadata": {},
   "outputs": [],
   "source": []
  },
  {
   "cell_type": "code",
   "execution_count": null,
   "metadata": {},
   "outputs": [],
   "source": []
  },
  {
   "cell_type": "code",
   "execution_count": null,
   "metadata": {},
   "outputs": [],
   "source": []
  },
  {
   "cell_type": "code",
   "execution_count": null,
   "metadata": {},
   "outputs": [],
   "source": []
  },
  {
   "cell_type": "code",
   "execution_count": null,
   "metadata": {},
   "outputs": [],
   "source": []
  },
  {
   "cell_type": "code",
   "execution_count": null,
   "metadata": {},
   "outputs": [],
   "source": []
  },
  {
   "cell_type": "code",
   "execution_count": null,
   "metadata": {},
   "outputs": [],
   "source": []
  },
  {
   "cell_type": "code",
   "execution_count": null,
   "metadata": {},
   "outputs": [],
   "source": []
  },
  {
   "cell_type": "code",
   "execution_count": null,
   "metadata": {},
   "outputs": [],
   "source": []
  },
  {
   "cell_type": "code",
   "execution_count": null,
   "metadata": {},
   "outputs": [],
   "source": []
  },
  {
   "cell_type": "code",
   "execution_count": null,
   "metadata": {},
   "outputs": [],
   "source": []
  },
  {
   "cell_type": "code",
   "execution_count": null,
   "metadata": {},
   "outputs": [],
   "source": []
  },
  {
   "cell_type": "code",
   "execution_count": null,
   "metadata": {},
   "outputs": [],
   "source": []
  },
  {
   "cell_type": "code",
   "execution_count": null,
   "metadata": {},
   "outputs": [],
   "source": []
  },
  {
   "cell_type": "code",
   "execution_count": null,
   "metadata": {},
   "outputs": [],
   "source": []
  },
  {
   "cell_type": "code",
   "execution_count": null,
   "metadata": {},
   "outputs": [],
   "source": []
  },
  {
   "cell_type": "code",
   "execution_count": null,
   "metadata": {},
   "outputs": [],
   "source": []
  },
  {
   "cell_type": "code",
   "execution_count": null,
   "metadata": {},
   "outputs": [],
   "source": []
  },
  {
   "cell_type": "code",
   "execution_count": null,
   "metadata": {},
   "outputs": [],
   "source": []
  },
  {
   "cell_type": "code",
   "execution_count": null,
   "metadata": {},
   "outputs": [],
   "source": []
  },
  {
   "cell_type": "code",
   "execution_count": null,
   "metadata": {},
   "outputs": [],
   "source": []
  },
  {
   "cell_type": "code",
   "execution_count": null,
   "metadata": {},
   "outputs": [],
   "source": []
  },
  {
   "cell_type": "code",
   "execution_count": null,
   "metadata": {},
   "outputs": [],
   "source": []
  },
  {
   "cell_type": "code",
   "execution_count": null,
   "metadata": {},
   "outputs": [],
   "source": []
  },
  {
   "cell_type": "code",
   "execution_count": null,
   "metadata": {},
   "outputs": [],
   "source": []
  },
  {
   "cell_type": "code",
   "execution_count": null,
   "metadata": {},
   "outputs": [],
   "source": []
  }
 ],
 "metadata": {
  "kernelspec": {
   "display_name": "alenv",
   "language": "python",
   "name": "alenv"
  },
  "language_info": {
   "codemirror_mode": {
    "name": "ipython",
    "version": 3
   },
   "file_extension": ".py",
   "mimetype": "text/x-python",
   "name": "python",
   "nbconvert_exporter": "python",
   "pygments_lexer": "ipython3",
   "version": "3.7.2"
  }
 },
 "nbformat": 4,
 "nbformat_minor": 4
}
