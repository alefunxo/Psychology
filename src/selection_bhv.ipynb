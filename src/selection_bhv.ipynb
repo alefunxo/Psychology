{
 "cells": [
  {
   "cell_type": "code",
   "execution_count": 5,
   "metadata": {},
   "outputs": [],
   "source": [
    "import pandas as pd\n",
    "import numpy as np\n",
    "import matplotlib.pyplot as plt\n",
    "import import_ipynb\n",
    "\n",
    "%load_ext autoreload\n",
    "%autoreload 2\n",
    "import P2P_functions as p2p"
   ]
  },
  {
   "cell_type": "code",
   "execution_count": 6,
   "metadata": {},
   "outputs": [],
   "source": [
    "df_bhv=pd.read_csv('../Input/table_bhv.csv',index_col=[0])\n",
    "selection=pd.read_csv('/data/home/alejandropena/Psychology/Input/selection_DE.csv')"
   ]
  },
  {
   "cell_type": "code",
   "execution_count": 7,
   "metadata": {},
   "outputs": [
    {
     "data": {
      "text/html": [
       "<div>\n",
       "<style scoped>\n",
       "    .dataframe tbody tr th:only-of-type {\n",
       "        vertical-align: middle;\n",
       "    }\n",
       "\n",
       "    .dataframe tbody tr th {\n",
       "        vertical-align: top;\n",
       "    }\n",
       "\n",
       "    .dataframe thead th {\n",
       "        text-align: right;\n",
       "    }\n",
       "</style>\n",
       "<table border=\"1\" class=\"dataframe\">\n",
       "  <thead>\n",
       "    <tr style=\"text-align: right;\">\n",
       "      <th></th>\n",
       "      <th>PV_size</th>\n",
       "      <th>name</th>\n",
       "      <th>sub_100_100</th>\n",
       "      <th>sub_100_75</th>\n",
       "      <th>sub_100_50</th>\n",
       "      <th>sub_100_25</th>\n",
       "      <th>sub_100_0</th>\n",
       "      <th>sub_75_100</th>\n",
       "      <th>sub_75_75</th>\n",
       "      <th>sub_75_50</th>\n",
       "      <th>...</th>\n",
       "      <th>sub_50_100</th>\n",
       "      <th>sub_50_75</th>\n",
       "      <th>sub_50_50</th>\n",
       "      <th>sub_50_25</th>\n",
       "      <th>sub_50_0</th>\n",
       "      <th>sub_25_100</th>\n",
       "      <th>sub_25_75</th>\n",
       "      <th>sub_25_50</th>\n",
       "      <th>sub_25_25</th>\n",
       "      <th>sub_25_0</th>\n",
       "    </tr>\n",
       "  </thead>\n",
       "  <tbody>\n",
       "    <tr>\n",
       "      <th>0</th>\n",
       "      <td>5.0</td>\n",
       "      <td>52</td>\n",
       "      <td>True</td>\n",
       "      <td>False</td>\n",
       "      <td>False</td>\n",
       "      <td>False</td>\n",
       "      <td>False</td>\n",
       "      <td>False</td>\n",
       "      <td>False</td>\n",
       "      <td>False</td>\n",
       "      <td>...</td>\n",
       "      <td>True</td>\n",
       "      <td>True</td>\n",
       "      <td>False</td>\n",
       "      <td>False</td>\n",
       "      <td>False</td>\n",
       "      <td>False</td>\n",
       "      <td>False</td>\n",
       "      <td>False</td>\n",
       "      <td>False</td>\n",
       "      <td>False</td>\n",
       "    </tr>\n",
       "    <tr>\n",
       "      <th>1</th>\n",
       "      <td>8.0</td>\n",
       "      <td>13</td>\n",
       "      <td>True</td>\n",
       "      <td>True</td>\n",
       "      <td>False</td>\n",
       "      <td>False</td>\n",
       "      <td>False</td>\n",
       "      <td>False</td>\n",
       "      <td>False</td>\n",
       "      <td>False</td>\n",
       "      <td>...</td>\n",
       "      <td>True</td>\n",
       "      <td>True</td>\n",
       "      <td>False</td>\n",
       "      <td>False</td>\n",
       "      <td>False</td>\n",
       "      <td>False</td>\n",
       "      <td>False</td>\n",
       "      <td>False</td>\n",
       "      <td>False</td>\n",
       "      <td>False</td>\n",
       "    </tr>\n",
       "    <tr>\n",
       "      <th>2</th>\n",
       "      <td>7.1</td>\n",
       "      <td>19</td>\n",
       "      <td>True</td>\n",
       "      <td>True</td>\n",
       "      <td>False</td>\n",
       "      <td>True</td>\n",
       "      <td>False</td>\n",
       "      <td>True</td>\n",
       "      <td>True</td>\n",
       "      <td>False</td>\n",
       "      <td>...</td>\n",
       "      <td>False</td>\n",
       "      <td>False</td>\n",
       "      <td>False</td>\n",
       "      <td>False</td>\n",
       "      <td>False</td>\n",
       "      <td>False</td>\n",
       "      <td>False</td>\n",
       "      <td>False</td>\n",
       "      <td>False</td>\n",
       "      <td>False</td>\n",
       "    </tr>\n",
       "    <tr>\n",
       "      <th>3</th>\n",
       "      <td>5.4</td>\n",
       "      <td>56</td>\n",
       "      <td>True</td>\n",
       "      <td>False</td>\n",
       "      <td>True</td>\n",
       "      <td>False</td>\n",
       "      <td>False</td>\n",
       "      <td>True</td>\n",
       "      <td>True</td>\n",
       "      <td>False</td>\n",
       "      <td>...</td>\n",
       "      <td>False</td>\n",
       "      <td>False</td>\n",
       "      <td>False</td>\n",
       "      <td>False</td>\n",
       "      <td>False</td>\n",
       "      <td>True</td>\n",
       "      <td>True</td>\n",
       "      <td>False</td>\n",
       "      <td>True</td>\n",
       "      <td>False</td>\n",
       "    </tr>\n",
       "    <tr>\n",
       "      <th>4</th>\n",
       "      <td>4.6</td>\n",
       "      <td>38</td>\n",
       "      <td>True</td>\n",
       "      <td>True</td>\n",
       "      <td>False</td>\n",
       "      <td>False</td>\n",
       "      <td>False</td>\n",
       "      <td>True</td>\n",
       "      <td>True</td>\n",
       "      <td>False</td>\n",
       "      <td>...</td>\n",
       "      <td>False</td>\n",
       "      <td>False</td>\n",
       "      <td>False</td>\n",
       "      <td>False</td>\n",
       "      <td>False</td>\n",
       "      <td>False</td>\n",
       "      <td>False</td>\n",
       "      <td>False</td>\n",
       "      <td>False</td>\n",
       "      <td>False</td>\n",
       "    </tr>\n",
       "  </tbody>\n",
       "</table>\n",
       "<p>5 rows × 22 columns</p>\n",
       "</div>"
      ],
      "text/plain": [
       "   PV_size  name  sub_100_100  sub_100_75  sub_100_50  sub_100_25  sub_100_0  \\\n",
       "0      5.0    52         True       False       False       False      False   \n",
       "1      8.0    13         True        True       False       False      False   \n",
       "2      7.1    19         True        True       False        True      False   \n",
       "3      5.4    56         True       False        True       False      False   \n",
       "4      4.6    38         True        True       False       False      False   \n",
       "\n",
       "   sub_75_100  sub_75_75  sub_75_50  ...  sub_50_100  sub_50_75  sub_50_50  \\\n",
       "0       False      False      False  ...        True       True      False   \n",
       "1       False      False      False  ...        True       True      False   \n",
       "2        True       True      False  ...       False      False      False   \n",
       "3        True       True      False  ...       False      False      False   \n",
       "4        True       True      False  ...       False      False      False   \n",
       "\n",
       "   sub_50_25  sub_50_0  sub_25_100  sub_25_75  sub_25_50  sub_25_25  sub_25_0  \n",
       "0      False     False       False      False      False      False     False  \n",
       "1      False     False       False      False      False      False     False  \n",
       "2      False     False       False      False      False      False     False  \n",
       "3      False     False        True       True      False       True     False  \n",
       "4      False     False       False      False      False      False     False  \n",
       "\n",
       "[5 rows x 22 columns]"
      ]
     },
     "execution_count": 7,
     "metadata": {},
     "output_type": "execute_result"
    }
   ],
   "source": [
    "selection.head()"
   ]
  },
  {
   "cell_type": "code",
   "execution_count": 8,
   "metadata": {},
   "outputs": [
    {
     "data": {
      "text/plain": [
       "58"
      ]
     },
     "execution_count": 8,
     "metadata": {},
     "output_type": "execute_result"
    }
   ],
   "source": [
    "len(selection.groupby('name').count().PV_size)"
   ]
  },
  {
   "cell_type": "code",
   "execution_count": 9,
   "metadata": {},
   "outputs": [],
   "source": [
    "tmp_pair=pd.DataFrame(map(lambda X: dict({'id':X[0],'hh':X[1]}), list(zip(list(selection.name.unique()),list(df_bhv[df_bhv.will==1].hh.unique())))))\n",
    "\n",
    "df_bhv_paired=pd.merge(left=tmp_pair, right=df_bhv, left_on='hh', right_on='hh')\n",
    "\n",
    "df_bhv_paired.Price/=100\n",
    "\n",
    "df_bhv_paired['Price_binned']=(np.digitize(df_bhv_paired.Price,[0.04,0.12,0.20,0.28]))\n",
    "\n",
    "df_bhv_paired['SOC_binned']=(np.digitize(df_bhv_paired.SOC,[30,60,90]))"
   ]
  },
  {
   "cell_type": "code",
   "execution_count": null,
   "metadata": {},
   "outputs": [],
   "source": []
  },
  {
   "cell_type": "code",
   "execution_count": 10,
   "metadata": {},
   "outputs": [
    {
     "data": {
      "text/plain": [
       "58"
      ]
     },
     "execution_count": 10,
     "metadata": {},
     "output_type": "execute_result"
    }
   ],
   "source": [
    "len(selection.name.unique())"
   ]
  },
  {
   "cell_type": "markdown",
   "metadata": {},
   "source": [
    "# Select from those willing to participate the higher x% and lower x% of people that want to sell"
   ]
  },
  {
   "cell_type": "code",
   "execution_count": 11,
   "metadata": {},
   "outputs": [],
   "source": [
    "df_p2p=df_bhv[df_bhv.will]"
   ]
  },
  {
   "cell_type": "code",
   "execution_count": 12,
   "metadata": {},
   "outputs": [
    {
     "data": {
      "text/plain": [
       "<matplotlib.lines.Line2D at 0x7fd741e2bf60>"
      ]
     },
     "execution_count": 12,
     "metadata": {},
     "output_type": "execute_result"
    },
    {
     "data": {
      "image/png": "[encoded data removed]",
      "text/plain": [
       "<Figure size 432x288 with 1 Axes>"
      ]
     },
     "metadata": {
      "needs_background": "light"
     },
     "output_type": "display_data"
    }
   ],
   "source": [
    "df_p2p.groupby('hh').sum().sell.sort_values().plot(kind='bar')\n",
    "plt.axhline(df_p2p.groupby('hh').sum().sell.median()-df_p2p.groupby('hh').sum().sell.std(),color='red')\n",
    "plt.axhline(df_p2p.groupby('hh').sum().sell.median()+df_p2p.groupby('hh').sum().sell.std(),color='red')"
   ]
  },
  {
   "cell_type": "code",
   "execution_count": 13,
   "metadata": {},
   "outputs": [],
   "source": [
    "upper=df_p2p.groupby('hh').sum().sell.median()+df_p2p.groupby('hh').sum().sell.std()\n",
    "lower=df_p2p.groupby('hh').sum().sell.median()-df_p2p.groupby('hh').sum().sell.std()\n",
    "\n",
    "sell_group=df_p2p.groupby('hh').sum().sell\n",
    "\n",
    "low_sell_group=sell_group[sell_group<lower]\n",
    "high_sell_group=sell_group[sell_group>upper]"
   ]
  },
  {
   "cell_type": "code",
   "execution_count": 14,
   "metadata": {},
   "outputs": [
    {
     "data": {
      "text/plain": [
       "29"
      ]
     },
     "execution_count": 14,
     "metadata": {},
     "output_type": "execute_result"
    }
   ],
   "source": [
    "len(low_sell_group)"
   ]
  },
  {
   "cell_type": "code",
   "execution_count": 15,
   "metadata": {},
   "outputs": [
    {
     "data": {
      "text/plain": [
       "23"
      ]
     },
     "execution_count": 15,
     "metadata": {},
     "output_type": "execute_result"
    }
   ],
   "source": [
    "len(high_sell_group)"
   ]
  },
  {
   "cell_type": "code",
   "execution_count": 16,
   "metadata": {},
   "outputs": [
    {
     "data": {
      "text/plain": [
       "Int64Index([  7,  20,  23,  30,  41,  43,  55,  62,  64,  90,  94,  96, 102,\n",
       "            119, 122, 126, 130, 148, 171, 174, 175, 178, 187, 189, 192, 195,\n",
       "            217, 233, 240],\n",
       "           dtype='int64', name='hh')"
      ]
     },
     "execution_count": 16,
     "metadata": {},
     "output_type": "execute_result"
    }
   ],
   "source": [
    "low_sell_group.index"
   ]
  },
  {
   "cell_type": "code",
   "execution_count": 17,
   "metadata": {},
   "outputs": [
    {
     "data": {
      "text/plain": [
       "Int64Index([ 49,  57,  65,  80,  88,  93, 100, 120, 123, 139, 154, 158, 161,\n",
       "            163, 182, 184, 198, 201, 206, 215, 231, 237, 241],\n",
       "           dtype='int64', name='hh')"
      ]
     },
     "execution_count": 17,
     "metadata": {},
     "output_type": "execute_result"
    }
   ],
   "source": [
    "high_sell_group.index"
   ]
  },
  {
   "cell_type": "code",
   "execution_count": 18,
   "metadata": {},
   "outputs": [
    {
     "data": {
      "text/plain": [
       "array([ 49,  57,  65,  80,  88,  93, 100, 120, 123, 139, 154, 158, 161,\n",
       "       163, 182, 184, 198, 201, 206, 215, 231, 237, 241])"
      ]
     },
     "execution_count": 18,
     "metadata": {},
     "output_type": "execute_result"
    }
   ],
   "source": [
    "df_bhv[df_bhv.hh.isin(high_sell_group.index)].hh.unique()"
   ]
  },
  {
   "cell_type": "code",
   "execution_count": 19,
   "metadata": {},
   "outputs": [],
   "source": [
    "tmp_pair=pd.DataFrame(map(lambda X: dict({'id':X[0],'hh':X[1]}), list(zip(list(selection.name.unique()),list(df_bhv[df_bhv.hh.isin(high_sell_group.index)].hh.unique())))))\n",
    "\n",
    "df_bhv_paired=pd.merge(left=tmp_pair, right=df_bhv, left_on='hh', right_on='hh')\n",
    "\n",
    "df_bhv_paired.Price/=100\n",
    "\n",
    "df_bhv_paired['Price_binned']=(np.digitize(df_bhv_paired.Price,[0.04,0.12,0.20,0.28]))\n",
    "\n",
    "df_bhv_paired['SOC_binned']=(np.digitize(df_bhv_paired.SOC,[30,60,90]))"
   ]
  },
  {
   "cell_type": "code",
   "execution_count": 20,
   "metadata": {},
   "outputs": [],
   "source": [
    "dlow=pd.read_csv('df_50_50_DE_0.25_100_low_1000.csv',sep=',')\n",
    "dhigh=pd.read_csv('df_50_50_DE_0.25_100_high_1000.csv',sep=',')\n",
    "dnorm=pd.read_csv('df_50_50_DE_0.25_100_False_1000.csv',sep=',')\n"
   ]
  },
  {
   "cell_type": "code",
   "execution_count": 21,
   "metadata": {},
   "outputs": [
    {
     "data": {
      "text/html": [
       "<div>\n",
       "<style scoped>\n",
       "    .dataframe tbody tr th:only-of-type {\n",
       "        vertical-align: middle;\n",
       "    }\n",
       "\n",
       "    .dataframe tbody tr th {\n",
       "        vertical-align: top;\n",
       "    }\n",
       "\n",
       "    .dataframe thead th {\n",
       "        text-align: right;\n",
       "    }\n",
       "</style>\n",
       "<table border=\"1\" class=\"dataframe\">\n",
       "  <thead>\n",
       "    <tr style=\"text-align: right;\">\n",
       "      <th></th>\n",
       "      <th>Unnamed: 0</th>\n",
       "      <th>index</th>\n",
       "      <th>SCR</th>\n",
       "      <th>SSR</th>\n",
       "      <th>EFC</th>\n",
       "      <th>Demand_peak</th>\n",
       "      <th>Inj_peak</th>\n",
       "      <th>avg_dod</th>\n",
       "      <th>Total_load</th>\n",
       "      <th>TotalPV</th>\n",
       "      <th>...</th>\n",
       "      <th>SCR_hh</th>\n",
       "      <th>SSR_hh</th>\n",
       "      <th>EFC_hh</th>\n",
       "      <th>Demand_peak_hh</th>\n",
       "      <th>Inj_peak_hh</th>\n",
       "      <th>avg_dod_hh</th>\n",
       "      <th>bill_hh</th>\n",
       "      <th>Imported_hh</th>\n",
       "      <th>Exported_hh</th>\n",
       "      <th>Batt_revenue_hh</th>\n",
       "    </tr>\n",
       "  </thead>\n",
       "  <tbody>\n",
       "    <tr>\n",
       "      <th>0</th>\n",
       "      <td>0</td>\n",
       "      <td>No</td>\n",
       "      <td>48.024307</td>\n",
       "      <td>47.891243</td>\n",
       "      <td>NaN</td>\n",
       "      <td>150.758</td>\n",
       "      <td>238.260450</td>\n",
       "      <td>NaN</td>\n",
       "      <td>445550.533983</td>\n",
       "      <td>444316.018156</td>\n",
       "      <td>...</td>\n",
       "      <td>0.000000</td>\n",
       "      <td>0.000000</td>\n",
       "      <td>0.00000</td>\n",
       "      <td>6.546173</td>\n",
       "      <td>0.000000</td>\n",
       "      <td>0.000000</td>\n",
       "      <td>990.350979</td>\n",
       "      <td>4419.411112</td>\n",
       "      <td>0.000000</td>\n",
       "      <td>0.000000</td>\n",
       "    </tr>\n",
       "    <tr>\n",
       "      <th>1</th>\n",
       "      <td>1</td>\n",
       "      <td>PV</td>\n",
       "      <td>48.024307</td>\n",
       "      <td>47.891243</td>\n",
       "      <td>NaN</td>\n",
       "      <td>150.758</td>\n",
       "      <td>238.260450</td>\n",
       "      <td>NaN</td>\n",
       "      <td>445550.533983</td>\n",
       "      <td>444316.018156</td>\n",
       "      <td>...</td>\n",
       "      <td>23.526474</td>\n",
       "      <td>37.170256</td>\n",
       "      <td>0.00000</td>\n",
       "      <td>6.849208</td>\n",
       "      <td>5.127024</td>\n",
       "      <td>0.000000</td>\n",
       "      <td>419.959245</td>\n",
       "      <td>2777.709788</td>\n",
       "      <td>6622.180670</td>\n",
       "      <td>0.000000</td>\n",
       "    </tr>\n",
       "    <tr>\n",
       "      <th>2</th>\n",
       "      <td>2</td>\n",
       "      <td>PV_batt</td>\n",
       "      <td>48.024307</td>\n",
       "      <td>47.891243</td>\n",
       "      <td>NaN</td>\n",
       "      <td>150.758</td>\n",
       "      <td>238.260450</td>\n",
       "      <td>NaN</td>\n",
       "      <td>445550.533983</td>\n",
       "      <td>444316.018156</td>\n",
       "      <td>...</td>\n",
       "      <td>42.272381</td>\n",
       "      <td>79.768962</td>\n",
       "      <td>209.43449</td>\n",
       "      <td>5.461392</td>\n",
       "      <td>5.624778</td>\n",
       "      <td>0.573793</td>\n",
       "      <td>16.283489</td>\n",
       "      <td>1050.417980</td>\n",
       "      <td>5226.079035</td>\n",
       "      <td>248.248288</td>\n",
       "    </tr>\n",
       "    <tr>\n",
       "      <th>3</th>\n",
       "      <td>3</td>\n",
       "      <td>No</td>\n",
       "      <td>47.908610</td>\n",
       "      <td>47.775866</td>\n",
       "      <td>NaN</td>\n",
       "      <td>150.758</td>\n",
       "      <td>238.261045</td>\n",
       "      <td>NaN</td>\n",
       "      <td>445550.533983</td>\n",
       "      <td>444316.018156</td>\n",
       "      <td>...</td>\n",
       "      <td>0.000000</td>\n",
       "      <td>0.000000</td>\n",
       "      <td>0.00000</td>\n",
       "      <td>6.546173</td>\n",
       "      <td>0.000000</td>\n",
       "      <td>0.000000</td>\n",
       "      <td>1237.435111</td>\n",
       "      <td>4419.411112</td>\n",
       "      <td>0.000000</td>\n",
       "      <td>0.000000</td>\n",
       "    </tr>\n",
       "    <tr>\n",
       "      <th>4</th>\n",
       "      <td>4</td>\n",
       "      <td>PV</td>\n",
       "      <td>47.908610</td>\n",
       "      <td>47.775866</td>\n",
       "      <td>NaN</td>\n",
       "      <td>150.758</td>\n",
       "      <td>238.261045</td>\n",
       "      <td>NaN</td>\n",
       "      <td>445550.533983</td>\n",
       "      <td>444316.018156</td>\n",
       "      <td>...</td>\n",
       "      <td>23.526474</td>\n",
       "      <td>37.170256</td>\n",
       "      <td>0.00000</td>\n",
       "      <td>6.849208</td>\n",
       "      <td>5.127024</td>\n",
       "      <td>0.000000</td>\n",
       "      <td>512.871514</td>\n",
       "      <td>2777.709788</td>\n",
       "      <td>6622.180670</td>\n",
       "      <td>0.000000</td>\n",
       "    </tr>\n",
       "  </tbody>\n",
       "</table>\n",
       "<p>5 rows × 37 columns</p>\n",
       "</div>"
      ],
      "text/plain": [
       "   Unnamed: 0    index        SCR        SSR  EFC  Demand_peak    Inj_peak  \\\n",
       "0           0       No  48.024307  47.891243  NaN      150.758  238.260450   \n",
       "1           1       PV  48.024307  47.891243  NaN      150.758  238.260450   \n",
       "2           2  PV_batt  48.024307  47.891243  NaN      150.758  238.260450   \n",
       "3           3       No  47.908610  47.775866  NaN      150.758  238.261045   \n",
       "4           4       PV  47.908610  47.775866  NaN      150.758  238.261045   \n",
       "\n",
       "   avg_dod     Total_load        TotalPV  ...     SCR_hh     SSR_hh  \\\n",
       "0      NaN  445550.533983  444316.018156  ...   0.000000   0.000000   \n",
       "1      NaN  445550.533983  444316.018156  ...  23.526474  37.170256   \n",
       "2      NaN  445550.533983  444316.018156  ...  42.272381  79.768962   \n",
       "3      NaN  445550.533983  444316.018156  ...   0.000000   0.000000   \n",
       "4      NaN  445550.533983  444316.018156  ...  23.526474  37.170256   \n",
       "\n",
       "      EFC_hh  Demand_peak_hh  Inj_peak_hh  avg_dod_hh      bill_hh  \\\n",
       "0    0.00000        6.546173     0.000000    0.000000   990.350979   \n",
       "1    0.00000        6.849208     5.127024    0.000000   419.959245   \n",
       "2  209.43449        5.461392     5.624778    0.573793    16.283489   \n",
       "3    0.00000        6.546173     0.000000    0.000000  1237.435111   \n",
       "4    0.00000        6.849208     5.127024    0.000000   512.871514   \n",
       "\n",
       "   Imported_hh  Exported_hh  Batt_revenue_hh  \n",
       "0  4419.411112     0.000000         0.000000  \n",
       "1  2777.709788  6622.180670         0.000000  \n",
       "2  1050.417980  5226.079035       248.248288  \n",
       "3  4419.411112     0.000000         0.000000  \n",
       "4  2777.709788  6622.180670         0.000000  \n",
       "\n",
       "[5 rows x 37 columns]"
      ]
     },
     "execution_count": 21,
     "metadata": {},
     "output_type": "execute_result"
    }
   ],
   "source": [
    "dlow.head()"
   ]
  },
  {
   "cell_type": "code",
   "execution_count": 22,
   "metadata": {},
   "outputs": [
    {
     "data": {
      "text/html": [
       "<div>\n",
       "<style scoped>\n",
       "    .dataframe tbody tr th:only-of-type {\n",
       "        vertical-align: middle;\n",
       "    }\n",
       "\n",
       "    .dataframe tbody tr th {\n",
       "        vertical-align: top;\n",
       "    }\n",
       "\n",
       "    .dataframe thead th {\n",
       "        text-align: right;\n",
       "    }\n",
       "</style>\n",
       "<table border=\"1\" class=\"dataframe\">\n",
       "  <thead>\n",
       "    <tr style=\"text-align: right;\">\n",
       "      <th></th>\n",
       "      <th>SCR</th>\n",
       "      <th>SSR</th>\n",
       "      <th>bill</th>\n",
       "    </tr>\n",
       "    <tr>\n",
       "      <th>Comm</th>\n",
       "      <th></th>\n",
       "      <th></th>\n",
       "      <th></th>\n",
       "    </tr>\n",
       "  </thead>\n",
       "  <tbody>\n",
       "    <tr>\n",
       "      <th>P2P</th>\n",
       "      <td>50.407961</td>\n",
       "      <td>48.769012</td>\n",
       "      <td>63380.077034</td>\n",
       "    </tr>\n",
       "    <tr>\n",
       "      <th>SC</th>\n",
       "      <td>49.576380</td>\n",
       "      <td>47.912072</td>\n",
       "      <td>80543.569977</td>\n",
       "    </tr>\n",
       "  </tbody>\n",
       "</table>\n",
       "</div>"
      ],
      "text/plain": [
       "            SCR        SSR          bill\n",
       "Comm                                    \n",
       "P2P   50.407961  48.769012  63380.077034\n",
       "SC    49.576380  47.912072  80543.569977"
      ]
     },
     "execution_count": 22,
     "metadata": {},
     "output_type": "execute_result"
    }
   ],
   "source": [
    "\n",
    "dlow.groupby('Comm').median()[['SCR','SSR','bill']]"
   ]
  },
  {
   "cell_type": "code",
   "execution_count": 23,
   "metadata": {},
   "outputs": [
    {
     "data": {
      "text/html": [
       "<div>\n",
       "<style scoped>\n",
       "    .dataframe tbody tr th:only-of-type {\n",
       "        vertical-align: middle;\n",
       "    }\n",
       "\n",
       "    .dataframe tbody tr th {\n",
       "        vertical-align: top;\n",
       "    }\n",
       "\n",
       "    .dataframe thead th {\n",
       "        text-align: right;\n",
       "    }\n",
       "</style>\n",
       "<table border=\"1\" class=\"dataframe\">\n",
       "  <thead>\n",
       "    <tr style=\"text-align: right;\">\n",
       "      <th></th>\n",
       "      <th>SCR</th>\n",
       "      <th>SSR</th>\n",
       "      <th>bill</th>\n",
       "    </tr>\n",
       "    <tr>\n",
       "      <th>Comm</th>\n",
       "      <th></th>\n",
       "      <th></th>\n",
       "      <th></th>\n",
       "    </tr>\n",
       "  </thead>\n",
       "  <tbody>\n",
       "    <tr>\n",
       "      <th>P2P</th>\n",
       "      <td>52.789085</td>\n",
       "      <td>51.057312</td>\n",
       "      <td>63682.324590</td>\n",
       "    </tr>\n",
       "    <tr>\n",
       "      <th>SC</th>\n",
       "      <td>49.576380</td>\n",
       "      <td>47.912072</td>\n",
       "      <td>80543.569977</td>\n",
       "    </tr>\n",
       "  </tbody>\n",
       "</table>\n",
       "</div>"
      ],
      "text/plain": [
       "            SCR        SSR          bill\n",
       "Comm                                    \n",
       "P2P   52.789085  51.057312  63682.324590\n",
       "SC    49.576380  47.912072  80543.569977"
      ]
     },
     "execution_count": 23,
     "metadata": {},
     "output_type": "execute_result"
    }
   ],
   "source": [
    "dhigh.groupby('Comm').median()[['SCR','SSR','bill']]"
   ]
  },
  {
   "cell_type": "code",
   "execution_count": 24,
   "metadata": {},
   "outputs": [
    {
     "data": {
      "text/html": [
       "<div>\n",
       "<style scoped>\n",
       "    .dataframe tbody tr th:only-of-type {\n",
       "        vertical-align: middle;\n",
       "    }\n",
       "\n",
       "    .dataframe tbody tr th {\n",
       "        vertical-align: top;\n",
       "    }\n",
       "\n",
       "    .dataframe thead th {\n",
       "        text-align: right;\n",
       "    }\n",
       "</style>\n",
       "<table border=\"1\" class=\"dataframe\">\n",
       "  <thead>\n",
       "    <tr style=\"text-align: right;\">\n",
       "      <th></th>\n",
       "      <th>SCR</th>\n",
       "      <th>SSR</th>\n",
       "      <th>bill</th>\n",
       "    </tr>\n",
       "    <tr>\n",
       "      <th>Comm</th>\n",
       "      <th></th>\n",
       "      <th></th>\n",
       "      <th></th>\n",
       "    </tr>\n",
       "  </thead>\n",
       "  <tbody>\n",
       "    <tr>\n",
       "      <th>P2P</th>\n",
       "      <td>51.833038</td>\n",
       "      <td>50.089555</td>\n",
       "      <td>62153.930155</td>\n",
       "    </tr>\n",
       "    <tr>\n",
       "      <th>SC</th>\n",
       "      <td>49.576380</td>\n",
       "      <td>47.912072</td>\n",
       "      <td>80543.569977</td>\n",
       "    </tr>\n",
       "  </tbody>\n",
       "</table>\n",
       "</div>"
      ],
      "text/plain": [
       "            SCR        SSR          bill\n",
       "Comm                                    \n",
       "P2P   51.833038  50.089555  62153.930155\n",
       "SC    49.576380  47.912072  80543.569977"
      ]
     },
     "execution_count": 24,
     "metadata": {},
     "output_type": "execute_result"
    }
   ],
   "source": [
    "dnorm.groupby('Comm').median()[['SCR','SSR','bill']]"
   ]
  },
  {
   "cell_type": "code",
   "execution_count": 25,
   "metadata": {},
   "outputs": [
    {
     "data": {
      "text/plain": [
       "(6000, 37)"
      ]
     },
     "execution_count": 25,
     "metadata": {},
     "output_type": "execute_result"
    }
   ],
   "source": [
    "dnorm.shape"
   ]
  },
  {
   "cell_type": "code",
   "execution_count": 26,
   "metadata": {},
   "outputs": [
    {
     "data": {
      "text/html": [
       "<div>\n",
       "<style scoped>\n",
       "    .dataframe tbody tr th:only-of-type {\n",
       "        vertical-align: middle;\n",
       "    }\n",
       "\n",
       "    .dataframe tbody tr th {\n",
       "        vertical-align: top;\n",
       "    }\n",
       "\n",
       "    .dataframe thead th {\n",
       "        text-align: right;\n",
       "    }\n",
       "</style>\n",
       "<table border=\"1\" class=\"dataframe\">\n",
       "  <thead>\n",
       "    <tr style=\"text-align: right;\">\n",
       "      <th></th>\n",
       "      <th></th>\n",
       "      <th>SCR_hh</th>\n",
       "      <th>SSR_hh</th>\n",
       "      <th>bill_hh</th>\n",
       "    </tr>\n",
       "    <tr>\n",
       "      <th>Comm</th>\n",
       "      <th>index</th>\n",
       "      <th></th>\n",
       "      <th></th>\n",
       "      <th></th>\n",
       "    </tr>\n",
       "  </thead>\n",
       "  <tbody>\n",
       "    <tr>\n",
       "      <th rowspan=\"3\" valign=\"top\">P2P</th>\n",
       "      <th>No</th>\n",
       "      <td>0.000000</td>\n",
       "      <td>0.000000</td>\n",
       "      <td>1049.230691</td>\n",
       "    </tr>\n",
       "    <tr>\n",
       "      <th>PV</th>\n",
       "      <td>23.631220</td>\n",
       "      <td>39.583187</td>\n",
       "      <td>414.282366</td>\n",
       "    </tr>\n",
       "    <tr>\n",
       "      <th>PV_batt</th>\n",
       "      <td>43.799940</td>\n",
       "      <td>76.706142</td>\n",
       "      <td>22.714373</td>\n",
       "    </tr>\n",
       "    <tr>\n",
       "      <th rowspan=\"3\" valign=\"top\">SC</th>\n",
       "      <th>No</th>\n",
       "      <td>0.000000</td>\n",
       "      <td>0.000000</td>\n",
       "      <td>1312.064752</td>\n",
       "    </tr>\n",
       "    <tr>\n",
       "      <th>PV</th>\n",
       "      <td>23.631220</td>\n",
       "      <td>39.583187</td>\n",
       "      <td>512.389962</td>\n",
       "    </tr>\n",
       "    <tr>\n",
       "      <th>PV_batt</th>\n",
       "      <td>46.389037</td>\n",
       "      <td>81.417207</td>\n",
       "      <td>89.304748</td>\n",
       "    </tr>\n",
       "  </tbody>\n",
       "</table>\n",
       "</div>"
      ],
      "text/plain": [
       "                 SCR_hh     SSR_hh      bill_hh\n",
       "Comm index                                     \n",
       "P2P  No        0.000000   0.000000  1049.230691\n",
       "     PV       23.631220  39.583187   414.282366\n",
       "     PV_batt  43.799940  76.706142    22.714373\n",
       "SC   No        0.000000   0.000000  1312.064752\n",
       "     PV       23.631220  39.583187   512.389962\n",
       "     PV_batt  46.389037  81.417207    89.304748"
      ]
     },
     "execution_count": 26,
     "metadata": {},
     "output_type": "execute_result"
    }
   ],
   "source": [
    "dlow.groupby(['Comm','index']).median()[['SCR_hh','SSR_hh','bill_hh']]"
   ]
  },
  {
   "cell_type": "code",
   "execution_count": 27,
   "metadata": {},
   "outputs": [
    {
     "data": {
      "text/html": [
       "<div>\n",
       "<style scoped>\n",
       "    .dataframe tbody tr th:only-of-type {\n",
       "        vertical-align: middle;\n",
       "    }\n",
       "\n",
       "    .dataframe tbody tr th {\n",
       "        vertical-align: top;\n",
       "    }\n",
       "\n",
       "    .dataframe thead th {\n",
       "        text-align: right;\n",
       "    }\n",
       "</style>\n",
       "<table border=\"1\" class=\"dataframe\">\n",
       "  <thead>\n",
       "    <tr style=\"text-align: right;\">\n",
       "      <th></th>\n",
       "      <th></th>\n",
       "      <th>SCR_hh</th>\n",
       "      <th>SSR_hh</th>\n",
       "      <th>bill_hh</th>\n",
       "    </tr>\n",
       "    <tr>\n",
       "      <th>Comm</th>\n",
       "      <th>index</th>\n",
       "      <th></th>\n",
       "      <th></th>\n",
       "      <th></th>\n",
       "    </tr>\n",
       "  </thead>\n",
       "  <tbody>\n",
       "    <tr>\n",
       "      <th rowspan=\"3\" valign=\"top\">P2P</th>\n",
       "      <th>No</th>\n",
       "      <td>0.000000</td>\n",
       "      <td>0.000000</td>\n",
       "      <td>1049.230691</td>\n",
       "    </tr>\n",
       "    <tr>\n",
       "      <th>PV</th>\n",
       "      <td>23.631220</td>\n",
       "      <td>39.583187</td>\n",
       "      <td>416.274008</td>\n",
       "    </tr>\n",
       "    <tr>\n",
       "      <th>PV_batt</th>\n",
       "      <td>32.069682</td>\n",
       "      <td>55.577586</td>\n",
       "      <td>31.780454</td>\n",
       "    </tr>\n",
       "    <tr>\n",
       "      <th rowspan=\"3\" valign=\"top\">SC</th>\n",
       "      <th>No</th>\n",
       "      <td>0.000000</td>\n",
       "      <td>0.000000</td>\n",
       "      <td>1312.064752</td>\n",
       "    </tr>\n",
       "    <tr>\n",
       "      <th>PV</th>\n",
       "      <td>23.631220</td>\n",
       "      <td>39.583187</td>\n",
       "      <td>512.389962</td>\n",
       "    </tr>\n",
       "    <tr>\n",
       "      <th>PV_batt</th>\n",
       "      <td>46.389037</td>\n",
       "      <td>81.417207</td>\n",
       "      <td>89.304748</td>\n",
       "    </tr>\n",
       "  </tbody>\n",
       "</table>\n",
       "</div>"
      ],
      "text/plain": [
       "                 SCR_hh     SSR_hh      bill_hh\n",
       "Comm index                                     \n",
       "P2P  No        0.000000   0.000000  1049.230691\n",
       "     PV       23.631220  39.583187   416.274008\n",
       "     PV_batt  32.069682  55.577586    31.780454\n",
       "SC   No        0.000000   0.000000  1312.064752\n",
       "     PV       23.631220  39.583187   512.389962\n",
       "     PV_batt  46.389037  81.417207    89.304748"
      ]
     },
     "execution_count": 27,
     "metadata": {},
     "output_type": "execute_result"
    }
   ],
   "source": [
    "dhigh.groupby(['Comm','index']).median()[['SCR_hh','SSR_hh','bill_hh']]"
   ]
  },
  {
   "cell_type": "code",
   "execution_count": 28,
   "metadata": {},
   "outputs": [
    {
     "data": {
      "text/html": [
       "<div>\n",
       "<style scoped>\n",
       "    .dataframe tbody tr th:only-of-type {\n",
       "        vertical-align: middle;\n",
       "    }\n",
       "\n",
       "    .dataframe tbody tr th {\n",
       "        vertical-align: top;\n",
       "    }\n",
       "\n",
       "    .dataframe thead th {\n",
       "        text-align: right;\n",
       "    }\n",
       "</style>\n",
       "<table border=\"1\" class=\"dataframe\">\n",
       "  <thead>\n",
       "    <tr style=\"text-align: right;\">\n",
       "      <th></th>\n",
       "      <th></th>\n",
       "      <th>SCR_hh</th>\n",
       "      <th>SSR_hh</th>\n",
       "      <th>bill_hh</th>\n",
       "    </tr>\n",
       "    <tr>\n",
       "      <th>Comm</th>\n",
       "      <th>index</th>\n",
       "      <th></th>\n",
       "      <th></th>\n",
       "      <th></th>\n",
       "    </tr>\n",
       "  </thead>\n",
       "  <tbody>\n",
       "    <tr>\n",
       "      <th rowspan=\"3\" valign=\"top\">P2P</th>\n",
       "      <th>No</th>\n",
       "      <td>0.000000</td>\n",
       "      <td>0.000000</td>\n",
       "      <td>1049.230691</td>\n",
       "    </tr>\n",
       "    <tr>\n",
       "      <th>PV</th>\n",
       "      <td>23.631220</td>\n",
       "      <td>39.583187</td>\n",
       "      <td>413.946550</td>\n",
       "    </tr>\n",
       "    <tr>\n",
       "      <th>PV_batt</th>\n",
       "      <td>39.734110</td>\n",
       "      <td>69.247830</td>\n",
       "      <td>-25.927731</td>\n",
       "    </tr>\n",
       "    <tr>\n",
       "      <th rowspan=\"3\" valign=\"top\">SC</th>\n",
       "      <th>No</th>\n",
       "      <td>0.000000</td>\n",
       "      <td>0.000000</td>\n",
       "      <td>1312.064752</td>\n",
       "    </tr>\n",
       "    <tr>\n",
       "      <th>PV</th>\n",
       "      <td>23.631220</td>\n",
       "      <td>39.583187</td>\n",
       "      <td>512.389962</td>\n",
       "    </tr>\n",
       "    <tr>\n",
       "      <th>PV_batt</th>\n",
       "      <td>46.389037</td>\n",
       "      <td>81.417207</td>\n",
       "      <td>89.304748</td>\n",
       "    </tr>\n",
       "  </tbody>\n",
       "</table>\n",
       "</div>"
      ],
      "text/plain": [
       "                 SCR_hh     SSR_hh      bill_hh\n",
       "Comm index                                     \n",
       "P2P  No        0.000000   0.000000  1049.230691\n",
       "     PV       23.631220  39.583187   413.946550\n",
       "     PV_batt  39.734110  69.247830   -25.927731\n",
       "SC   No        0.000000   0.000000  1312.064752\n",
       "     PV       23.631220  39.583187   512.389962\n",
       "     PV_batt  46.389037  81.417207    89.304748"
      ]
     },
     "execution_count": 28,
     "metadata": {},
     "output_type": "execute_result"
    }
   ],
   "source": [
    "dnorm.groupby(['Comm','index']).median()[['SCR_hh','SSR_hh','bill_hh']]"
   ]
  },
  {
   "cell_type": "code",
   "execution_count": 29,
   "metadata": {},
   "outputs": [],
   "source": [
    "dnorm['trading']='Normal'\n",
    "dhigh['trading']='High'\n",
    "dlow['trading']='Low'"
   ]
  },
  {
   "cell_type": "code",
   "execution_count": 34,
   "metadata": {},
   "outputs": [
    {
     "data": {
      "text/html": [
       "<div>\n",
       "<style scoped>\n",
       "    .dataframe tbody tr th:only-of-type {\n",
       "        vertical-align: middle;\n",
       "    }\n",
       "\n",
       "    .dataframe tbody tr th {\n",
       "        vertical-align: top;\n",
       "    }\n",
       "\n",
       "    .dataframe thead th {\n",
       "        text-align: right;\n",
       "    }\n",
       "</style>\n",
       "<table border=\"1\" class=\"dataframe\">\n",
       "  <thead>\n",
       "    <tr style=\"text-align: right;\">\n",
       "      <th></th>\n",
       "      <th>trading</th>\n",
       "      <th>Comm</th>\n",
       "      <th>index</th>\n",
       "      <th>SCR_hh</th>\n",
       "      <th>SSR_hh</th>\n",
       "      <th>bill_hh</th>\n",
       "    </tr>\n",
       "  </thead>\n",
       "  <tbody>\n",
       "    <tr>\n",
       "      <th>0</th>\n",
       "      <td>High</td>\n",
       "      <td>P2P</td>\n",
       "      <td>No</td>\n",
       "      <td>0.000000</td>\n",
       "      <td>0.000000</td>\n",
       "      <td>990.350979</td>\n",
       "    </tr>\n",
       "    <tr>\n",
       "      <th>1</th>\n",
       "      <td>High</td>\n",
       "      <td>P2P</td>\n",
       "      <td>PV</td>\n",
       "      <td>23.526474</td>\n",
       "      <td>37.170256</td>\n",
       "      <td>422.323953</td>\n",
       "    </tr>\n",
       "    <tr>\n",
       "      <th>2</th>\n",
       "      <td>High</td>\n",
       "      <td>P2P</td>\n",
       "      <td>PV_batt</td>\n",
       "      <td>31.112226</td>\n",
       "      <td>56.884965</td>\n",
       "      <td>-13.871843</td>\n",
       "    </tr>\n",
       "    <tr>\n",
       "      <th>3</th>\n",
       "      <td>High</td>\n",
       "      <td>SC</td>\n",
       "      <td>No</td>\n",
       "      <td>0.000000</td>\n",
       "      <td>0.000000</td>\n",
       "      <td>1237.435111</td>\n",
       "    </tr>\n",
       "    <tr>\n",
       "      <th>4</th>\n",
       "      <td>High</td>\n",
       "      <td>SC</td>\n",
       "      <td>PV</td>\n",
       "      <td>23.526474</td>\n",
       "      <td>37.170256</td>\n",
       "      <td>512.871514</td>\n",
       "    </tr>\n",
       "  </tbody>\n",
       "</table>\n",
       "</div>"
      ],
      "text/plain": [
       "  trading Comm    index     SCR_hh     SSR_hh      bill_hh\n",
       "0    High  P2P       No   0.000000   0.000000   990.350979\n",
       "1    High  P2P       PV  23.526474  37.170256   422.323953\n",
       "2    High  P2P  PV_batt  31.112226  56.884965   -13.871843\n",
       "3    High   SC       No   0.000000   0.000000  1237.435111\n",
       "4    High   SC       PV  23.526474  37.170256   512.871514"
      ]
     },
     "execution_count": 34,
     "metadata": {},
     "output_type": "execute_result"
    }
   ],
   "source": [
    "d.head()"
   ]
  },
  {
   "cell_type": "code",
   "execution_count": 30,
   "metadata": {},
   "outputs": [],
   "source": [
    "d=pd.concat([dhigh.loc[:,['trading','Comm','index','SCR_hh','SSR_hh','bill_hh']],dnorm.loc[:,['trading','Comm','index','SCR_hh','SSR_hh','bill_hh']],\n",
    "            dlow.loc[:,['trading','Comm','index','SCR_hh','SSR_hh','bill_hh']]])"
   ]
  },
  {
   "cell_type": "code",
   "execution_count": 31,
   "metadata": {},
   "outputs": [],
   "source": [
    "d.to_csv('Optim_trading.csv')"
   ]
  },
  {
   "cell_type": "code",
   "execution_count": 32,
   "metadata": {},
   "outputs": [],
   "source": [
    "d2=pd.concat([dhigh.loc[:,['trading','Comm','SCR','SSR','bill']],dnorm.loc[:,['trading','Comm','SCR','SSR','bill']],\n",
    "              dlow.loc[:,['trading','Comm','SCR','SSR','bill']]])"
   ]
  },
  {
   "cell_type": "code",
   "execution_count": 33,
   "metadata": {},
   "outputs": [],
   "source": [
    "d2.to_csv('Optim_trading_comm.csv')"
   ]
  },
  {
   "cell_type": "code",
   "execution_count": null,
   "metadata": {},
   "outputs": [],
   "source": []
  }
 ],
 "metadata": {
  "kernelspec": {
   "display_name": "alenv",
   "language": "python",
   "name": "alenv"
  },
  "language_info": {
   "codemirror_mode": {
    "name": "ipython",
    "version": 3
   },
   "file_extension": ".py",
   "mimetype": "text/x-python",
   "name": "python",
   "nbconvert_exporter": "python",
   "pygments_lexer": "ipython3",
   "version": "3.7.2"
  }
 },
 "nbformat": 4,
 "nbformat_minor": 4
}
