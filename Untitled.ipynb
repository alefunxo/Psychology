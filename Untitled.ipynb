{
 "cells": [
  {
   "cell_type": "code",
   "execution_count": 16,
   "metadata": {},
   "outputs": [],
   "source": [
    "import numpy as np\n",
    "import pandas as pd\n",
    "import matplotlib.pyplot as plt \n",
    "import paper_classes_2 as pc\n"
   ]
  },
  {
   "cell_type": "code",
   "execution_count": 189,
   "metadata": {},
   "outputs": [],
   "source": [
    "def create_community(inputs):\n",
    "    \n",
    "    '''\n",
    "    Description\n",
    "    -----------\n",
    "    Define the houses with PV and Battery\n",
    "    This function takes the PV and Batt penetration as inputs, reads the df of generation in Munich and the PV_size_distribution, \n",
    "    and RANDOMLY (unless we are in mode test or looking at a particular day of summer or winter) chooses the sizes \n",
    "    for the X houses (RANDOMLY selected unless in test mode) \n",
    "\n",
    "    Parameters\n",
    "    ------\n",
    "    inputs: dict; Dictionary that includes PV_penetration,Batt_penetration, resolution (reso),path,day_selection (day_sel)\n",
    "\n",
    "    Return\n",
    "    ------\n",
    "    inputs: dict; Updated dictionary that includes the demand, pv generation, flag of surplus in the community and the houses that include PV and PV+Batt\n",
    "\n",
    "    TODO\n",
    "    ------\n",
    "\n",
    "    '''\n",
    "    print('################################################')\n",
    "    print('Creating the community')\n",
    "    print('%%%%%%%%%%%%%%%%%%%%%%%')\n",
    "    print('Loading PV combinations')\n",
    "    df_gen_comb=pd.read_csv(inputs['path']+'Input/DE_gen_15_min_Energy.csv', encoding='utf8', sep=',',engine='python',\n",
    "                            date_parser=lambda col: pd.to_datetime(col, utc=True),infer_datetime_format=True,index_col=0)\n",
    "    df_gen_comb.index = df_gen_comb.index.tz_convert('CET')\n",
    "    print('%%%%%%%%%%%%%%%%%%%%%%%')\n",
    "    print('Loading demand')\n",
    "    if inputs['reso']=='1h':\n",
    "        df_demand=pd.read_csv(inputs['path']+'Input/DE_load_15_min_Power.csv', encoding='utf8', sep=',',\n",
    "                              engine='python',date_parser=lambda col: pd.to_datetime(col, utc=True),infer_datetime_format=True,index_col=0)/4\n",
    "        df_demand.index=df_demand.index.tz_convert('CET')\n",
    "        df_demand=df_demand.resample('1H').sum()\n",
    "        #df_demand.index = df_demand.index.tz_localize('UTC').tz_convert('CET')\n",
    "        df_gen_comb=df_gen_comb.resample('1H').sum()\n",
    "        df_demand.index=df_gen_comb.index\n",
    "    else:\n",
    "        df_demand=pd.read_csv(inputs['path']+'Input/DE_load_15_min_Power.csv', encoding='utf8', sep=',',engine='python', \n",
    "                              date_parser=lambda col: pd.to_datetime(col, utc=True),infer_datetime_format=True,index_col=0)/4\n",
    "        df_demand.index=df_demand.index.tz_convert('CET')\n",
    "        #df_demand.index = df_demand.index.tz_localize('UTC').tz_convert('CET')\n",
    "        df_demand.index=df_gen_comb.index\n",
    "    selection_PV=np.random.choice(df_demand.columns,int(np.floor(df_demand.shape[1]*inputs['PV_penetration'])), replace=False)\n",
    "    selection_PV_Batt=np.random.choice(selection_PV,int(np.floor(df_demand.shape[1]*inputs['PV_penetration']*inputs['Batt_penetration'])), replace=False)\n",
    "\n",
    "    #We decide among the whole community which houses will have PV and PV and Batt\n",
    "\n",
    "    if inputs['day_sel'] in ['winter','summer','test']:\n",
    "        selection_PV=['41','24','65','0','69','8','49','63','2','1','14','42','67','10','6','9','38','50']\n",
    "        selection_PV_Batt=['69','41','10','63','50','9','0','49','38','67','1','2','42','24','8','65','6','14']\n",
    "    # We have to define the prices for the community based on PV penetration. We can include some variation in azimuth and angle but in general, I guess, only three or four should be ok. The df loaded has 66 combinations.\n",
    "\n",
    "    # As an example I will take the 66 PV profiles for different azimuths and inclinations, but this input data must be modified once we define the final community\n",
    "\n",
    "    # The PV size for every house must be defined. If the household have a Battery the PV size comes from another distribution\n",
    "    print('%%%%%%%%%%%%%%%%%%%%%%%')\n",
    "    print('Creating distributions')\n",
    "    PV_sizes=pd.read_csv(inputs['path']+'Input/PV_size_distribution.csv',index_col=0,header=None)\n",
    "    PV_sizes_batt=pd.read_csv(inputs['path']+'Input/PV_size_distribution.csv',index_col=0,header=None)#change this input for the real distribution of PV+battery\n",
    "    #The output of this function: should be a combined df with\n",
    "    #df_prices,df_generation,df_demand\n",
    "    count_batt, division_batt = np.histogram(PV_sizes_batt)\n",
    "    prob_size_batt=count_batt/PV_sizes_batt.size\n",
    "    possible_sizes=np.arange(1,11)#for residential we consider from 1 to 10\n",
    "    amount_PV_batt_systems=int(np.floor(inputs['PV_penetration']*inputs['Batt_penetration']*74))\n",
    "    sizes_PV_batt=np.random.choice(possible_sizes,amount_PV_batt_systems, p=prob_size_batt)\n",
    "    #Delete after tests\n",
    "    if inputs['day_sel'] in ['winter','summer','test']:\n",
    "        sizes_PV_batt=[7,7,6,4,10,9,5,6,5,8,6,7,5,10,9,3,5,7]\n",
    "        \n",
    "    # Select the PV profiles randomly and include the size in the name of the columns\n",
    "    newcols_batt=[]\n",
    "    #We select from all the combinations of azimuth and inclination randomly\n",
    "    selection_batt=np.random.choice(df_gen_comb.columns,int(np.floor(inputs['PV_penetration']*inputs['Batt_penetration']*74)))\n",
    "    count, division = np.histogram(PV_sizes)\n",
    "    prob_size=count/PV_sizes.size\n",
    "    amount_PV_systems=int(np.floor(inputs['PV_penetration']*74))\n",
    "    sizes=np.random.choice(possible_sizes,amount_PV_systems, p=prob_size)\n",
    "    if inputs['day_sel'] in ['winter','summer','test']:\n",
    "        sizes=[3,3,9,10,9,6,4,10,3,7,5,10,6,4,10,10,5,9]\n",
    "        selection_batt=['PV_-50_35','PV_-10_20','PV_30_40','PV_50_35','PV_40_40','PV_-40_45','PV_10_45','PV_-50_30','PV_-30_35','PV_10_20','PV_20_30','PV_-50_45','PV_30_25','PV_10_40','PV_-50_30','PV_-50_25','PV_50_35','PV_10_25']\n",
    "  # Select the PV profiles randomly and include the size in the name of the columns\n",
    "    newcols=[]\n",
    "    #We select from all the combinations of azimuth and inclination randomly\n",
    "\n",
    "    selection=np.random.choice(df_gen_comb.columns,len(selection_PV)-len(selection_batt))\n",
    "    print('%%%%%%%%%%%%%%%%%%%%%%%')\n",
    "    print('Assingning PV to households')\n",
    "    j=0\n",
    "    k=0\n",
    "    m=0\n",
    "    df_sel=pd.DataFrame()\n",
    "    df_sel_batt=pd.DataFrame()\n",
    "    df_residual_load=pd.DataFrame()\n",
    "    for i in df_demand.columns:\n",
    "        if i in selection_PV_Batt:\n",
    "            if j==0:\n",
    "                df_sel_batt=df_gen_comb[selection_batt[j]]*sizes_PV_batt[j]\n",
    "            else:\n",
    "                df_sel_batt=pd.concat([df_sel_batt, df_gen_comb[selection_batt[j]]*sizes_PV_batt[j]], axis=1, join='inner')\n",
    "            if m==0:\n",
    "                df_residual_load=df_demand.loc[:,i]-df_gen_comb[selection_batt[j]]*sizes_PV_batt[j]\n",
    "            else:\n",
    "                df_residual_load=pd.concat([df_residual_load, df_demand.loc[:,i]-df_gen_comb[selection_batt[j]]*sizes_PV_batt[j]], axis=1, join='inner')\n",
    "            newcols_batt.append('hh_'+str(i)+'_'+selection_batt[j]+'_size_'+str(sizes_PV_batt[j]))\n",
    "\n",
    "            j+=1\n",
    "        elif i in selection_PV:\n",
    "\n",
    "            if k==0:\n",
    "                df_sel=df_gen_comb[selection[k]]*sizes[k]\n",
    "            else:\n",
    "                df_sel=pd.concat([df_sel, df_gen_comb[selection[k]]*sizes[k]], axis=1, join='inner')\n",
    "            if m==0:\n",
    "                df_residual_load=df_demand.loc[:,i]-df_gen_comb[selection[k]]*sizes[k]\n",
    "            else:\n",
    "                df_residual_load=pd.concat([df_residual_load, df_demand.loc[:,i]-df_gen_comb[selection[k]]*sizes[k]], axis=1, join='inner')\n",
    "            newcols.append('hh_'+str(i)+'_'+selection[k]+'_size_'+str(sizes[k]))\n",
    "\n",
    "            k+=1\n",
    "        else:\n",
    "            if m==0:\n",
    "                df_residual_load=df_demand.loc[:,i]\n",
    "            else:\n",
    "                df_residual_load=pd.concat([df_residual_load, df_demand.loc[:,i]], axis=1, join='inner')\n",
    "        m+=1\n",
    "\n",
    "    df_sel.columns=newcols\n",
    "    df_sel_batt.columns=newcols_batt\n",
    "    if inputs['Batt_penetration']==1:\n",
    "        df_sel=df_sel_batt\n",
    "    else:\n",
    "        if df_sel.shape[0]==0:\n",
    "            print('bla')\n",
    "            df_sel=df_sel_batt.copy()\n",
    "        else:\n",
    "            df_sel=pd.concat([df_sel, df_sel_batt], axis=1, join='inner')\n",
    "    df_residual_load.columns=df_demand.columns\n",
    "    #The matching from PV-demand is done first.\n",
    "    flag_surplus_community=df_residual_load.sum(axis=1)\n",
    "    flag_surplus_community[flag_surplus_community>0]=0\n",
    "    flag_surplus_community[flag_surplus_community<0]=1\n",
    "    inputs.update({'df_demand':df_demand,'df_generation':df_sel,'selection_PV':selection_PV,'selection_PV_Batt':selection_PV_Batt,'flag':flag_surplus_community})\n",
    "    print('%%%%%%%%%%%%%%%%%%%%%%%')\n",
    "    print('Finished')\n",
    "    return inputs\n",
    "\n"
   ]
  },
  {
   "cell_type": "code",
   "execution_count": 167,
   "metadata": {},
   "outputs": [],
   "source": [
    "\n",
    "def find_interval_PQ(x, partition):\n",
    "    '''\n",
    "    Description\n",
    "    -----------\n",
    "    find_interval at which x belongs inside partition. Returns the index i.\n",
    "\n",
    "    Parameters\n",
    "    ------\n",
    "    x: float; numerical value\n",
    "    partition: array; sequence of numerical values\n",
    "    Returns\n",
    "    ------\n",
    "    i: index; index for which applies\n",
    "    partition[i] < x < partition[i+1], if such an index exists.\n",
    "    -1 otherwise\n",
    "    TODO\n",
    "    ------\n",
    "    '''\n",
    "    \n",
    "    for i in range(0, len(partition)):\n",
    "        #print(partition)\n",
    "        if x<partition[1]:\n",
    "            return 1\n",
    "        elif x < partition[i]:\n",
    "            return i-1\n",
    "        \n",
    "    return -1"
   ]
  },
  {
   "cell_type": "code",
   "execution_count": null,
   "metadata": {},
   "outputs": [],
   "source": [
    "\n",
    "def find_interval(x, partition):\n",
    "    '''\n",
    "    Description\n",
    "    -----------\n",
    "    find_interval at which x belongs inside partition. Returns the index i.\n",
    "\n",
    "    Parameters\n",
    "    ------\n",
    "    x: float; numerical value\n",
    "    partition: array; sequence of numerical values\n",
    "    Returns\n",
    "    ------\n",
    "    i: index; index for which applies\n",
    "    partition[i] < x < partition[i+1], if such an index exists.\n",
    "    -1 otherwise\n",
    "    TODO\n",
    "    ------\n",
    "    '''\n",
    "\n",
    "    for i in range(0, len(partition)):\n",
    "        if x < partition[i]:\n",
    "            return i-1\n",
    "    return -1"
   ]
  },
  {
   "cell_type": "code",
   "execution_count": 476,
   "metadata": {},
   "outputs": [],
   "source": [
    "def price_probability(inputs):\n",
    "    '''\n",
    "    Description\n",
    "    -----------\n",
    "    Define the price structure according to the inputs (how the community is created), the choice of the probability, \n",
    "    whether it is for the 50% or other probability according to the psychology data, the amount of kWh that will be \n",
    "    discharged every time a decision is made (1 or 2 kWh are the \"normal\" options) and the case, whether it is the\n",
    "    price created from the probability of selling from PV or the battery in the morning or the evening.\n",
    "    \n",
    "    Parameters\n",
    "    ------\n",
    "    inputs:        dict; Dictionary that includes prob_choice (choice of the probability to create the prices 50% or other),\n",
    "                    prices, kWh_dis (amount of energy to be discharged at every time a decision is made),  \n",
    "                    case (included in ['PV', 'Batt'] the price may be created from the probability of selling from PV or the battery\n",
    "\n",
    "    Return\n",
    "    ------\n",
    "    inputs: dict; Input dictionary updated with prices\n",
    "\n",
    "    TODO\n",
    "    ------\n",
    "\n",
    "    '''\n",
    "    net_demand=inputs['df_demand'].sum(axis=1)-inputs['df_generation'].sum(axis=1)\n",
    "    df_prices=np.array([])\n",
    "\n",
    "\n",
    "    prob_mat=pd.read_csv(inputs['path']+'Input/P_selling_by_price_and_autarky2.txt',sep='\\t',index_col=[0])\n",
    "    q_supply=inputs['PV_penetration']*inputs['Batt_penetration']*inputs['df_demand'].shape[1]*prob_mat.loc[inputs['prob_choice'],:]*inputs['kWh_dis']\n",
    "    for i in net_demand:\n",
    "        ind=find_interval(i,q_supply)\n",
    "        #print(i)\n",
    "        df_prices=np.append(df_prices,inputs['prices'][ind])\n",
    "    df_prices=pd.DataFrame(df_prices.T, index=inputs['df_demand'].index)\n",
    "    inputs.update({'df_prices':df_prices,'q_supply':q_supply})\n",
    "    return inputs"
   ]
  },
  {
   "cell_type": "code",
   "execution_count": 293,
   "metadata": {},
   "outputs": [],
   "source": [
    "\n",
    "def sell_prob(SOC,price,Capacity,case,path):\n",
    "    '''\n",
    "    Description\n",
    "    -----------\n",
    "    This function returns the selling probability based on the SOC, price, capacity and case. As well as the results of the survey which are stored as .txt\n",
    "    Parameters\n",
    "    ------\n",
    "    SOC: float; Battery state of charge at time t\n",
    "    price: float; Electricity price at time t\n",
    "    Capacity: float; Battery capacity\n",
    "    case: string; either PV or batt from where the user is willing to sale\n",
    "    path: string; path where the .txt are found\n",
    "    ------\n",
    "    out: int; Either 1 or 0 if sell or not\n",
    "    TODO\n",
    "    ------\n",
    "    '''\n",
    "    #define the matrix of probs\n",
    "    if case=='PV':\n",
    "        prob_mat=pd.read_table(path+'Input/P_selling_by_price_and_autarky2.txt',sep='\\t',index_col=[0])\n",
    "        #prob_mat=pd.read_table(path+'Input/surplus_cluster1_p_selling.txt',sep='\\t',index_col=[0])\n",
    "        #prob_mat=pd.read_table(path+'Input/surplus_cluster2_p_selling.txt',sep='\\t',index_col=[0])\n",
    "    else:#when selling from battery\n",
    "        prob_mat=pd.read_table(path+'Input/P_selling_by_price_and_autarky_2.txt',sep='\\t',index_col=[0])\n",
    "        #prob_mat=pd.read_table(path+'Input/nosurplus_cluster1_p_selling.txt',sep='\\t',index_col=[0])\n",
    "        #prob_mat=pd.read_table(path+'Input/nosurplus_cluster2_p_selling.txt',sep='\\t',index_col=[0])\n",
    "    if SOC==0:\n",
    "        out=0\n",
    "    else:\n",
    "        I=np.array([0,0.05,0.2,0.35,0.5,0.65,0.8,0.95,1.0001])#define the interval of SOC\n",
    "        ind=find_interval(SOC,I*Capacity)\n",
    "        if ind==-1:\n",
    "            prob=prob_mat.loc[1,str(price)]\n",
    "        else:\n",
    "            prob=prob_mat.loc[I[ind],str(price)]\n",
    "        out=np.random.choice(2,1,p=[1-prob,prob])\n",
    "    return out\n"
   ]
  },
  {
   "cell_type": "code",
   "execution_count": 294,
   "metadata": {},
   "outputs": [],
   "source": [
    "\n",
    "def PV_SC(df,Batt,Conv_eff,Inv_eff,endo):\n",
    "    '''\n",
    "    Description\n",
    "    -----------\n",
    "    This function calculates the energy flows of each house WHITHOUT consumer behaviour.\n",
    "\n",
    "    Parameters\n",
    "    ------\n",
    "    df: DataFrame;\n",
    "    Batt: Battery class; Battery characteristics\n",
    "    Conv_eff: float; Converter efficiency\n",
    "    Inv_eff: float; Inverter efficiency\n",
    "    endo: int; Defines the last element of the index we want to simulate\n",
    "\n",
    "    ------\n",
    "    df: DataFrame; with energy flows for each house\n",
    "    TODO\n",
    "    ------\n",
    "\n",
    "    '''\n",
    "    for i in range(len(df.index[:endo])):\n",
    "        if df.gen[i]<df.demand[i]/Conv_eff/Inv_eff:#No surplus including losses\n",
    "            if i==0:#CI\n",
    "                df.grid_load[i]=df.demand[i]-df.gen[i]*Conv_eff*Inv_eff\n",
    "            else:\n",
    "                if df.SOC[i-1]>Batt.SOC_min:#Discharge battery to the load\n",
    "                    df.E_dis[i]=min(df.SOC[i-1]-Batt.SOC_min,\n",
    "                                        (df.demand[i]-df.gen[i]*Conv_eff*Inv_eff)/Inv_eff)\n",
    "                    df.Batt_load[i]=df.E_dis[i]*Inv_eff#after inverter\n",
    "                    df.SOC[i]=df.SOC[i-1]-df.E_dis[i]\n",
    "                    df.Batt_losses[i]=df.E_dis[i]*(1-Inv_eff)#+inherent to the batt (eff)\n",
    "                    df.PV_load[i]=df.gen[i]*Conv_eff*Inv_eff#after inverter\n",
    "                    df.PV_losses[i]=df.gen[i]*(1-Conv_eff*Inv_eff)\n",
    "                    df.grid_load[i]=df.demand[i]-df.PV_load[i]-df.Batt_load[i]\n",
    "\n",
    "                else:#Use energy from the grid\n",
    "                    df.E_dis[i]=0\n",
    "                    df.Batt_load[i]=df.E_dis[i]*Inv_eff\n",
    "                    df.grid_load[i]=df.demand[i]-df.gen[i]*Conv_eff*Inv_eff#-df.Batt_load[i], is zero\n",
    "                    df.PV_load[i]=df.gen[i]*Conv_eff*Inv_eff\n",
    "                    df.SOC[i]=df.SOC[i-1]\n",
    "                    df.PV_losses[i]=df.gen[i]*(1-Conv_eff*Inv_eff)\n",
    "        else:#Surplus\n",
    "            #include here the probability function\n",
    "            if i==0:#CI\n",
    "                df.grid_load[i]=df.demand[i]\n",
    "            else:\n",
    "                df.PV_load[i]=df.demand[i]#First, cover local demand (after inverter)\n",
    "                if df.SOC[i-1]<Batt.SOC_max:#then if battery not full, charge\n",
    "                    df.PV_batt[i]=min((df.gen[i]*Conv_eff-df.demand[i]/Inv_eff),\n",
    "                                      (Batt.SOC_max-df.SOC[i-1])*Conv_eff)\n",
    "                    df.SOC[i]=df.SOC[i-1]+df.PV_batt[i]*Batt.Efficiency\n",
    "                    df.Batt_losses[i]=df.PV_batt[i]*(1-Batt.Efficiency)\n",
    "\n",
    "                    df.PV_grid[i]=(df.gen[i]*Conv_eff-df.PV_batt[i])*Inv_eff-df.PV_load[i]\n",
    "                    df.grid_load[i]=0\n",
    "                else:#otherwise, export to the grid\n",
    "                    df.PV_batt[i]=0\n",
    "                    df.PV_grid[i]=df.gen[i]*Conv_eff*Inv_eff-df.PV_load[i]\n",
    "                    df.SOC[i]=df.SOC[i-1]\n",
    "                    df.grid_load[i]=0\n",
    "                df.PV_losses[i]=df.gen[i]-df.PV_grid[i]-df.PV_batt[i]-df.PV_load[i]\n",
    "    return df\n"
   ]
  },
  {
   "cell_type": "code",
   "execution_count": 421,
   "metadata": {},
   "outputs": [],
   "source": [
    "PV_penetration=0.5\n",
    "reso='1h'\n",
    "path='./'\n",
    "day_sel='winter'\n",
    "if (day_sel=='winter') or (day_sel=='summer'):\n",
    "    endo=96\n",
    "else:\n",
    "    endo=8760\n",
    "Conv_eff=0.98\n",
    "Inv_eff=0.95\n",
    "prices=np.array([0, 0.07,.10,.13,.16,.19,.22,.25,.28])\n",
    "prob_choice=0.5\n",
    "kWh_dis=1\n",
    "\n",
    "case='PV'\n",
    "Batt=pc.Battery(10,'NMC')\n"
   ]
  },
  {
   "cell_type": "code",
   "execution_count": 477,
   "metadata": {},
   "outputs": [
    {
     "name": "stdout",
     "output_type": "stream",
     "text": [
      "################################################\n",
      "Creating the community\n",
      "%%%%%%%%%%%%%%%%%%%%%%%\n",
      "Loading PV combinations\n",
      "%%%%%%%%%%%%%%%%%%%%%%%\n",
      "Loading demand\n",
      "%%%%%%%%%%%%%%%%%%%%%%%\n",
      "Creating distributions\n",
      "%%%%%%%%%%%%%%%%%%%%%%%\n",
      "Assingning PV to households\n",
      "bla\n",
      "%%%%%%%%%%%%%%%%%%%%%%%\n",
      "Finished\n",
      "################################################\n",
      "Simulation begins\n",
      "################################################\n",
      "Creating the community\n",
      "%%%%%%%%%%%%%%%%%%%%%%%\n",
      "Loading PV combinations\n",
      "%%%%%%%%%%%%%%%%%%%%%%%\n",
      "Loading demand\n",
      "%%%%%%%%%%%%%%%%%%%%%%%\n",
      "Creating distributions\n",
      "%%%%%%%%%%%%%%%%%%%%%%%\n",
      "Assingning PV to households\n",
      "bla\n",
      "%%%%%%%%%%%%%%%%%%%%%%%\n",
      "Finished\n",
      "################################################\n",
      "Simulation begins\n",
      "################################################\n",
      "Creating the community\n",
      "%%%%%%%%%%%%%%%%%%%%%%%\n",
      "Loading PV combinations\n",
      "%%%%%%%%%%%%%%%%%%%%%%%\n",
      "Loading demand\n",
      "%%%%%%%%%%%%%%%%%%%%%%%\n",
      "Creating distributions\n",
      "%%%%%%%%%%%%%%%%%%%%%%%\n",
      "Assingning PV to households\n",
      "bla\n",
      "%%%%%%%%%%%%%%%%%%%%%%%\n",
      "Finished\n",
      "################################################\n",
      "Simulation begins\n",
      "################################################\n",
      "Creating the community\n",
      "%%%%%%%%%%%%%%%%%%%%%%%\n",
      "Loading PV combinations\n",
      "%%%%%%%%%%%%%%%%%%%%%%%\n",
      "Loading demand\n",
      "%%%%%%%%%%%%%%%%%%%%%%%\n",
      "Creating distributions\n",
      "%%%%%%%%%%%%%%%%%%%%%%%\n",
      "Assingning PV to households\n",
      "%%%%%%%%%%%%%%%%%%%%%%%\n",
      "Finished\n",
      "################################################\n",
      "Simulation begins\n"
     ]
    }
   ],
   "source": [
    "p=[]\n",
    "qs=[]\n",
    "for i in range(4):\n",
    "    Batt_penetration=.25*(i+1)\n",
    "\n",
    "    inputs={'Conv_eff':Conv_eff, 'Inv_eff':Inv_eff,'prices':prices,'Batt':Batt,'PV_penetration':PV_penetration,\n",
    "                   'Batt_penetration':Batt_penetration,'prob_choice':prob_choice,'kWh_dis':kWh_dis,'case':case,'reso':reso,'path':path,'day_sel':day_sel}\n",
    "    inputs=create_community(inputs)\n",
    "    inputs=price_probability(inputs)\n",
    "    #inputs=Price_definition(prices,PV_penetration,Batt_penetration,reso,path,day_sel)\n",
    "\n",
    "    system_param={'Batt':Batt,'Conv_eff':Conv_eff,'Inv_eff':Inv_eff,'endo':endo,'day_sel':day_sel,'path':path}\n",
    "\n",
    "    print('################################################')\n",
    "    print('Simulation begins')\n",
    "    #inputs['df_prices'].groupby(inputs['df_prices'].index.hour).mean().plot()\n",
    "    p.append(inputs['df_prices'].groupby(inputs['df_prices'].index.hour).mean().values)\n",
    "    qs.append(inputs['q_supply'].values)\n",
    "#pd.DataFrame(np.array(p).reshape(3,24).T).plot()"
   ]
  },
  {
   "cell_type": "code",
   "execution_count": 527,
   "metadata": {},
   "outputs": [
    {
     "data": {
      "text/plain": [
       "<Figure size 720x720 with 0 Axes>"
      ]
     },
     "metadata": {},
     "output_type": "display_data"
    },
    {
     "data": {
      "image/png": "[encoded data removed]",
      "text/plain": [
       "<Figure size 432x288 with 1 Axes>"
      ]
     },
     "metadata": {},
     "output_type": "display_data"
    }
   ],
   "source": [
    "plt.figure(figsize=(10,10))\n",
    "\n",
    "pd.DataFrame(np.array(p).reshape(4,24).T,columns=['0.25','0.5','0.75','1.0']).plot()\n",
    "plt.title('Prices according to battery penetration')\n",
    "plt.xlabel('Hour')\n",
    "plt.ylabel('Electricity price [USD/kWh]')\n",
    "plt.savefig('prices.png')"
   ]
  },
  {
   "cell_type": "code",
   "execution_count": 534,
   "metadata": {},
   "outputs": [],
   "source": [
    "nd=inputs['df_demand'].sum(axis=1)-inputs['df_generation'].sum(axis=1)"
   ]
  },
  {
   "cell_type": "code",
   "execution_count": 537,
   "metadata": {},
   "outputs": [
    {
     "data": {
      "text/plain": [
       "<matplotlib.axes._subplots.AxesSubplot at 0x7fe11b26f940>"
      ]
     },
     "execution_count": 537,
     "metadata": {},
     "output_type": "execute_result"
    },
    {
     "data": {
      "image/png": "[encoded data removed]",
      "text/plain": [
       "<Figure size 432x288 with 1 Axes>"
      ]
     },
     "metadata": {},
     "output_type": "display_data"
    }
   ],
   "source": [
    "nd.groupby(nd.index.hour).mean().plot()"
   ]
  },
  {
   "cell_type": "code",
   "execution_count": 489,
   "metadata": {},
   "outputs": [
    {
     "data": {
      "text/plain": [
       "[array([0.5957  , 0.635475, 1.8463  , 2.85825 , 3.691675, 4.644425,\n",
       "        5.63695 , 5.79605 ]),\n",
       " array([ 1.1914 ,  1.27095,  3.6926 ,  5.7165 ,  7.38335,  9.28885,\n",
       "        11.2739 , 11.5921 ]),\n",
       " array([ 1.7871  ,  1.906425,  5.5389  ,  8.57475 , 11.075025, 13.933275,\n",
       "        16.91085 , 17.38815 ]),\n",
       " array([ 2.3828,  2.5419,  7.3852, 11.433 , 14.7667, 18.5777, 22.5478,\n",
       "        23.1842])]"
      ]
     },
     "execution_count": 489,
     "metadata": {},
     "output_type": "execute_result"
    }
   ],
   "source": [
    "qs"
   ]
  },
  {
   "cell_type": "code",
   "execution_count": 496,
   "metadata": {},
   "outputs": [
    {
     "data": {
      "text/plain": [
       "array([0.  , 0.07, 0.1 , 0.13, 0.16, 0.19, 0.22, 0.25, 0.28])"
      ]
     },
     "execution_count": 496,
     "metadata": {},
     "output_type": "execute_result"
    }
   ],
   "source": [
    "prices"
   ]
  },
  {
   "cell_type": "code",
   "execution_count": 495,
   "metadata": {},
   "outputs": [
    {
     "data": {
      "text/plain": [
       "array([[ 0.5957  ,  1.1914  ,  1.7871  ,  2.3828  ],\n",
       "       [ 0.635475,  1.27095 ,  1.906425,  2.5419  ],\n",
       "       [ 1.8463  ,  3.6926  ,  5.5389  ,  7.3852  ],\n",
       "       [ 2.85825 ,  5.7165  ,  8.57475 , 11.433   ],\n",
       "       [ 3.691675,  7.38335 , 11.075025, 14.7667  ],\n",
       "       [ 4.644425,  9.28885 , 13.933275, 18.5777  ],\n",
       "       [ 5.63695 , 11.2739  , 16.91085 , 22.5478  ],\n",
       "       [ 5.79605 , 11.5921  , 17.38815 , 23.1842  ]])"
      ]
     },
     "execution_count": 495,
     "metadata": {},
     "output_type": "execute_result"
    }
   ],
   "source": [
    "np.array(qs).reshape(4,8).T"
   ]
  },
  {
   "cell_type": "code",
   "execution_count": 504,
   "metadata": {},
   "outputs": [
    {
     "data": {
      "text/html": [
       "<div>\n",
       "<style scoped>\n",
       "    .dataframe tbody tr th:only-of-type {\n",
       "        vertical-align: middle;\n",
       "    }\n",
       "\n",
       "    .dataframe tbody tr th {\n",
       "        vertical-align: top;\n",
       "    }\n",
       "\n",
       "    .dataframe thead th {\n",
       "        text-align: right;\n",
       "    }\n",
       "</style>\n",
       "<table border=\"1\" class=\"dataframe\">\n",
       "  <thead>\n",
       "    <tr style=\"text-align: right;\">\n",
       "      <th></th>\n",
       "      <th>0.07</th>\n",
       "      <th>0.1</th>\n",
       "      <th>0.13</th>\n",
       "      <th>0.16</th>\n",
       "      <th>0.19</th>\n",
       "      <th>0.22</th>\n",
       "      <th>0.25</th>\n",
       "      <th>0.28</th>\n",
       "    </tr>\n",
       "  </thead>\n",
       "  <tbody>\n",
       "    <tr>\n",
       "      <th>0</th>\n",
       "      <td>0.5957</td>\n",
       "      <td>0.635475</td>\n",
       "      <td>1.8463</td>\n",
       "      <td>2.85825</td>\n",
       "      <td>3.691675</td>\n",
       "      <td>4.644425</td>\n",
       "      <td>5.63695</td>\n",
       "      <td>5.79605</td>\n",
       "    </tr>\n",
       "    <tr>\n",
       "      <th>1</th>\n",
       "      <td>1.1914</td>\n",
       "      <td>1.270950</td>\n",
       "      <td>3.6926</td>\n",
       "      <td>5.71650</td>\n",
       "      <td>7.383350</td>\n",
       "      <td>9.288850</td>\n",
       "      <td>11.27390</td>\n",
       "      <td>11.59210</td>\n",
       "    </tr>\n",
       "    <tr>\n",
       "      <th>2</th>\n",
       "      <td>1.7871</td>\n",
       "      <td>1.906425</td>\n",
       "      <td>5.5389</td>\n",
       "      <td>8.57475</td>\n",
       "      <td>11.075025</td>\n",
       "      <td>13.933275</td>\n",
       "      <td>16.91085</td>\n",
       "      <td>17.38815</td>\n",
       "    </tr>\n",
       "    <tr>\n",
       "      <th>3</th>\n",
       "      <td>2.3828</td>\n",
       "      <td>2.541900</td>\n",
       "      <td>7.3852</td>\n",
       "      <td>11.43300</td>\n",
       "      <td>14.766700</td>\n",
       "      <td>18.577700</td>\n",
       "      <td>22.54780</td>\n",
       "      <td>23.18420</td>\n",
       "    </tr>\n",
       "  </tbody>\n",
       "</table>\n",
       "</div>"
      ],
      "text/plain": [
       "     0.07      0.10    0.13      0.16       0.19       0.22      0.25  \\\n",
       "0  0.5957  0.635475  1.8463   2.85825   3.691675   4.644425   5.63695   \n",
       "1  1.1914  1.270950  3.6926   5.71650   7.383350   9.288850  11.27390   \n",
       "2  1.7871  1.906425  5.5389   8.57475  11.075025  13.933275  16.91085   \n",
       "3  2.3828  2.541900  7.3852  11.43300  14.766700  18.577700  22.54780   \n",
       "\n",
       "       0.28  \n",
       "0   5.79605  \n",
       "1  11.59210  \n",
       "2  17.38815  \n",
       "3  23.18420  "
      ]
     },
     "execution_count": 504,
     "metadata": {},
     "output_type": "execute_result"
    }
   ],
   "source": [
    "pd.DataFrame(np.array(qs).reshape(4,8).T,index=prices[1:]).T"
   ]
  },
  {
   "cell_type": "code",
   "execution_count": 524,
   "metadata": {},
   "outputs": [
    {
     "data": {
      "text/plain": [
       "[array([0.5957  , 0.635475, 1.8463  , 2.85825 , 3.691675, 4.644425,\n",
       "        5.63695 , 5.79605 ]),\n",
       " array([ 1.1914 ,  1.27095,  3.6926 ,  5.7165 ,  7.38335,  9.28885,\n",
       "        11.2739 , 11.5921 ]),\n",
       " array([ 1.7871  ,  1.906425,  5.5389  ,  8.57475 , 11.075025, 13.933275,\n",
       "        16.91085 , 17.38815 ]),\n",
       " array([ 2.3828,  2.5419,  7.3852, 11.433 , 14.7667, 18.5777, 22.5478,\n",
       "        23.1842])]"
      ]
     },
     "execution_count": 524,
     "metadata": {},
     "output_type": "execute_result"
    }
   ],
   "source": [
    "qs"
   ]
  },
  {
   "cell_type": "code",
   "execution_count": 518,
   "metadata": {},
   "outputs": [
    {
     "data": {
      "text/plain": [
       "array([[ 0.      ,  0.      ,  0.      ,  0.      ],\n",
       "       [ 0.5957  ,  1.1914  ,  1.7871  ,  2.3828  ],\n",
       "       [ 0.635475,  1.27095 ,  1.906425,  2.5419  ],\n",
       "       [ 1.8463  ,  3.6926  ,  5.5389  ,  7.3852  ],\n",
       "       [ 2.85825 ,  5.7165  ,  8.57475 , 11.433   ],\n",
       "       [ 3.691675,  7.38335 , 11.075025, 14.7667  ],\n",
       "       [ 4.644425,  9.28885 , 13.933275, 18.5777  ],\n",
       "       [ 5.63695 , 11.2739  , 16.91085 , 22.5478  ],\n",
       "       [ 5.79605 , 11.5921  , 17.38815 , 23.1842  ]])"
      ]
     },
     "execution_count": 518,
     "metadata": {},
     "output_type": "execute_result"
    }
   ],
   "source": [
    "np.insert(np.array(qs).reshape(4,8).T,0,values=[0,0,0,0],axis=0)"
   ]
  },
  {
   "cell_type": "code",
   "execution_count": 529,
   "metadata": {},
   "outputs": [
    {
     "data": {
      "image/png": "[encoded data removed]",
      "text/plain": [
       "<Figure size 432x288 with 1 Axes>"
      ]
     },
     "metadata": {},
     "output_type": "display_data"
    }
   ],
   "source": [
    "plt.plot(np.insert(np.array(qs).reshape(4,8).T,0,values=[0,0,0,0],axis=0),prices)\n",
    "labels=['0.25','0.5','0.75','1.0']\n",
    "plt.legend(labels)\n",
    "plt.xlabel('Quantity of supply [kWh]')\n",
    "plt.ylabel('Electricity price [USD/kWh]')\n",
    "plt.title('Supply curve according to battery penetration')\n",
    "plt.savefig('QP.png')"
   ]
  },
  {
   "cell_type": "code",
   "execution_count": 469,
   "metadata": {},
   "outputs": [
    {
     "data": {
      "text/plain": [
       "array([-25.03912403, -23.9523122 , -19.80414492, -17.19774757,\n",
       "        -7.31927926,  -5.0486992 ,  10.28349235,  11.54441678,\n",
       "        18.68757274,  18.86164037,  19.86933379,  21.71614613,\n",
       "        22.95759941,  23.20596502,  28.77391817,  28.97779298,\n",
       "        30.16944192,  31.05755707,  40.1380284 ,  43.56402809,\n",
       "        49.68055616,  54.1356013 ,  56.13925989,  57.92177752])"
      ]
     },
     "execution_count": 469,
     "metadata": {},
     "output_type": "execute_result"
    }
   ],
   "source": [
    "nd[1]"
   ]
  },
  {
   "cell_type": "code",
   "execution_count": null,
   "metadata": {},
   "outputs": [],
   "source": []
  },
  {
   "cell_type": "code",
   "execution_count": 458,
   "metadata": {},
   "outputs": [
    {
     "data": {
      "text/plain": [
       "<matplotlib.axes._subplots.AxesSubplot at 0x7fe0b7397b38>"
      ]
     },
     "execution_count": 458,
     "metadata": {},
     "output_type": "execute_result"
    },
    {
     "data": {
      "image/png": "[encoded data removed]",
      "text/plain": [
       "<Figure size 432x288 with 1 Axes>"
      ]
     },
     "metadata": {},
     "output_type": "display_data"
    }
   ],
   "source": [
    "pd.DataFrame(np.array(nd).reshape(4,24).T,columns=['0.25','0.5','0.75','1.0']).plot()"
   ]
  },
  {
   "cell_type": "code",
   "execution_count": 431,
   "metadata": {},
   "outputs": [],
   "source": [
    "#p=[]\n",
    "p.append(inputs['df_prices'].groupby(inputs['df_prices'].index.hour).mean().values)\n"
   ]
  },
  {
   "cell_type": "code",
   "execution_count": 472,
   "metadata": {},
   "outputs": [
    {
     "data": {
      "text/plain": [
       "<matplotlib.axes._subplots.AxesSubplot at 0x7fe0b6fa6c18>"
      ]
     },
     "execution_count": 472,
     "metadata": {},
     "output_type": "execute_result"
    },
    {
     "data": {
      "image/png": "[encoded data removed]",
      "text/plain": [
       "<Figure size 432x288 with 1 Axes>"
      ]
     },
     "metadata": {},
     "output_type": "display_data"
    }
   ],
   "source": [
    "pd.DataFrame(np.array(nd).reshape(4,24).T).plot()"
   ]
  },
  {
   "cell_type": "code",
   "execution_count": null,
   "metadata": {},
   "outputs": [],
   "source": []
  },
  {
   "cell_type": "code",
   "execution_count": 376,
   "metadata": {},
   "outputs": [
    {
     "data": {
      "text/plain": [
       "<matplotlib.axes._subplots.AxesSubplot at 0x7fe076ebb908>"
      ]
     },
     "execution_count": 376,
     "metadata": {},
     "output_type": "execute_result"
    },
    {
     "data": {
      "image/png": "[encoded data removed]",
      "text/plain": [
       "<Figure size 432x288 with 1 Axes>"
      ]
     },
     "metadata": {},
     "output_type": "display_data"
    }
   ],
   "source": [
    "inputs['df_prices'].groupby(inputs['df_prices'].index.hour).mean().plot()"
   ]
  },
  {
   "cell_type": "code",
   "execution_count": 295,
   "metadata": {},
   "outputs": [
    {
     "name": "stdout",
     "output_type": "stream",
     "text": [
      "################################################\n",
      "Simulating without community exchange\n",
      "demand           346695.14\n",
      "gen              175392.31\n",
      "SOC                3580.37\n",
      "PV_batt             260.73\n",
      "PV_load             232.84\n",
      "PV_grid              96.70\n",
      "E_dis               328.31\n",
      "Batt_load           311.89\n",
      "Batt_grid             0.00\n",
      "grid_load        265316.87\n",
      "PV_losses            29.74\n",
      "Batt_losses          37.80\n",
      "flag                  0.00\n",
      "type             315360.00\n",
      "df             23660760.00\n",
      "prices           145312.32\n",
      "dtype: float64\n",
      "End of simulation without community exchange\n",
      "###################################################\n",
      "################################################\n",
      "Simulation with community exchange\n"
     ]
    }
   ],
   "source": [
    "df_no_comm=no_community_approach(inputs,system_param)"
   ]
  },
  {
   "cell_type": "code",
   "execution_count": 297,
   "metadata": {},
   "outputs": [
    {
     "data": {
      "text/plain": [
       "2.278659917218304"
      ]
     },
     "execution_count": 297,
     "metadata": {},
     "output_type": "execute_result"
    }
   ],
   "source": [
    "7900/346695*100"
   ]
  },
  {
   "cell_type": "code",
   "execution_count": 418,
   "metadata": {},
   "outputs": [],
   "source": [
    "Batt_penetration=1.0\n",
    "probs_applied=3\n",
    "\n",
    "df_no_comm=pd.read_csv(path+'Output/no_community_{}_{}_{}.csv'.format(PV_penetration,Batt_penetration,probs_applied),encoding='utf8', sep=',',header=0,\n",
    "    engine='python',date_parser=lambda col: pd.to_datetime(col, utc=True), parse_dates=[1],infer_datetime_format=True,index_col=0,\n",
    "names=['index','date','demand','gen','SOC','PV_batt', 'PV_load', 'PV_grid', 'E_dis','Batt_load','Batt_grid','grid_load','PV_losses','Batt_losses','flag','type','df','prices'])\n",
    "df_no_comm.loc[:,'date'] =pd.DatetimeIndex(df_no_comm.loc[:,'date']).tz_convert('CET')\n",
    "#df_no_comm.loc[:,'date'].dt.hour\n",
    "\n",
    "df_comm=pd.read_csv(path+'Output/community_{}_{}_{}.csv'.format(PV_penetration,Batt_penetration,probs_applied),encoding='utf8', sep=',',header=0,\n",
    "    engine='python',date_parser=lambda col: pd.to_datetime(col, utc=True), parse_dates=[1],infer_datetime_format=True,index_col=0,\n",
    "                    names=['index','date','demand','gen','SOC','PV_batt', 'PV_load', 'PV_comm', 'E_dis','Batt_load','Batt_comm','comm_load','PV_losses','Batt_losses','flag','type','df','prices'])\n",
    "\n",
    "df_comm.loc[:,'date'] =pd.DatetimeIndex(df_comm.loc[:,'date']).tz_convert('CET')\n"
   ]
  },
  {
   "cell_type": "code",
   "execution_count": 411,
   "metadata": {},
   "outputs": [
    {
     "data": {
      "text/plain": [
       "Batt_comm    6.114168\n",
       "dtype: float64"
      ]
     },
     "execution_count": 411,
     "metadata": {},
     "output_type": "execute_result"
    }
   ],
   "source": [
    "df_comm.loc[:,['Batt_comm']].sum()/df_comm.loc[:,['demand']].sum().values*100"
   ]
  },
  {
   "cell_type": "code",
   "execution_count": 531,
   "metadata": {},
   "outputs": [
    {
     "data": {
      "text/plain": [
       "PV_comm    0.948342\n",
       "dtype: float64"
      ]
     },
     "execution_count": 531,
     "metadata": {},
     "output_type": "execute_result"
    }
   ],
   "source": [
    "\n",
    "df_comm[df_comm.flag==4].loc[:,['PV_comm']].max()"
   ]
  },
  {
   "cell_type": "code",
   "execution_count": 532,
   "metadata": {},
   "outputs": [
    {
     "data": {
      "text/plain": [
       "[]"
      ]
     },
     "execution_count": 532,
     "metadata": {},
     "output_type": "execute_result"
    }
   ],
   "source": [
    "df"
   ]
  },
  {
   "cell_type": "code",
   "execution_count": 419,
   "metadata": {},
   "outputs": [
    {
     "data": {
      "text/plain": [
       "flag\n",
       "0.0    595213.0\n",
       "1.0     46763.0\n",
       "2.0      3934.0\n",
       "3.0       208.0\n",
       "4.0      2122.0\n",
       "dtype: float64"
      ]
     },
     "execution_count": 419,
     "metadata": {},
     "output_type": "execute_result"
    }
   ],
   "source": [
    "df_comm.pivot_table(columns='flag',index='date',aggfunc='size').sum()"
   ]
  },
  {
   "cell_type": "code",
   "execution_count": null,
   "metadata": {},
   "outputs": [],
   "source": []
  }
 ],
 "metadata": {
  "kernelspec": {
   "display_name": "Python 3",
   "language": "python",
   "name": "python3"
  },
  "language_info": {
   "codemirror_mode": {
    "name": "ipython",
    "version": 3
   },
   "file_extension": ".py",
   "mimetype": "text/x-python",
   "name": "python",
   "nbconvert_exporter": "python",
   "pygments_lexer": "ipython3",
   "version": "3.6.8"
  }
 },
 "nbformat": 4,
 "nbformat_minor": 2
}
