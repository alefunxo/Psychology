{
 "cells": [
  {
   "cell_type": "code",
   "execution_count": 1,
   "metadata": {},
   "outputs": [
    {
     "name": "stdout",
     "output_type": "stream",
     "text": [
      "importing Jupyter notebook from comm_as_today_run.ipynb\n"
     ]
    }
   ],
   "source": [
    "import pandas as pd\n",
    "import numpy as np\n",
    "import import_ipynb\n",
    "import comm_as_today_run as comm"
   ]
  },
  {
   "cell_type": "code",
   "execution_count": 2,
   "metadata": {},
   "outputs": [],
   "source": [
    "first_time=True\n",
    "community_size=100\n",
    "timestep=1 # in hours\n",
    "if first_time:\n",
    "    out_comm_final=comm.load_obj('community_as_today_25_25')\n",
    "param_tech=out_comm_final['param_tech']\n",
    "param_tech.update({'kW_dis':1})\n",
    "\n",
    "df_CH=out_comm_final['df']\n",
    "selection=out_comm_final['selection']\n",
    "pv_penetration=50\n",
    "batt_penetration=50\n",
    "param_tech.update({'kW_dis':1,'PV_penetration':pv_penetration/100,'Batt_penetration':batt_penetration/100,'prob_choice':[0.35,0.5,.95],\n",
    "            'prices':np.array([0, 0.07,.10,.13,.16,.19,.22,.25,.28]),'community_size':community_size})"
   ]
  },
  {
   "cell_type": "code",
   "execution_count": 3,
   "metadata": {},
   "outputs": [],
   "source": [
    "nested=out_comm_final['nested_dict']\n",
    "\n",
    "param_tech_no_batt=param_tech.copy()\n",
    "param_tech_no_batt.update({'BatteryCapacity':0,'MaxPower':0})\n",
    "\n",
    "list_names=[str(i) for i in selection.iloc[:,1]]\n"
   ]
  },
  {
   "cell_type": "markdown",
   "metadata": {},
   "source": [
    "# Detached households"
   ]
  },
  {
   "cell_type": "code",
   "execution_count": 4,
   "metadata": {},
   "outputs": [],
   "source": [
    "param_tech_no_batt.update({'InverterEfficiency':1})#nested_dict['inv2grid'] is PV generation already in AC used as input for next step\n"
   ]
  },
  {
   "cell_type": "code",
   "execution_count": 5,
   "metadata": {},
   "outputs": [
    {
     "name": "stdout",
     "output_type": "stream",
     "text": [
      "Total yearly consumption: 262109 kWh\n",
      "Total PV production: 162585 kWh\n",
      "Self Consumption: 27827.9 kWh\n",
      "Total fed to the grid: 132348 kWh\n",
      "Total bought from the grid: 234281 kWh\n",
      "Self consumption rate (SCR): 17.1%\n",
      "Self sufficiency rate (SSR): 10.6%\n",
      "Amount of energy provided by the battery: 5389.81 kWh\n",
      "Average Charging/Discharging depth: inf\n",
      "Number of equivalent full cycles per year: inf \n",
      "Total battery losses: 535.623 kWh\n",
      "Total inverter losses: 1848.43 kWh\n",
      "Residue (check): -1.40545e-11 kWh\n"
     ]
    },
    {
     "name": "stderr",
     "output_type": "stream",
     "text": [
      "comm_as_today_run.ipynb:31: RuntimeWarning: divide by zero encountered in double_scalars\n",
      "  \"\\n\",\n"
     ]
    }
   ],
   "source": [
    "comm.print_analysis(df_CH.E_PV*out_comm_final['PV_size_comm'], df_CH.loc[:,list_names].sum(axis=1),param_tech_no_batt,nested)"
   ]
  },
  {
   "cell_type": "markdown",
   "metadata": {},
   "source": [
    "# Community as today"
   ]
  },
  {
   "cell_type": "markdown",
   "metadata": {},
   "source": [
    "No export from the battery to the grid"
   ]
  },
  {
   "cell_type": "code",
   "execution_count": 7,
   "metadata": {},
   "outputs": [
    {
     "name": "stdout",
     "output_type": "stream",
     "text": [
      "Total yearly consumption: 262109 kWh\n",
      "Total PV production: 162585 kWh\n",
      "Self Consumption: 93158.3 kWh\n",
      "Total fed to the grid: 67017.1 kWh\n",
      "Total bought from the grid: 168950 kWh\n",
      "Self consumption rate (SCR): 57.3%\n",
      "Self sufficiency rate (SSR): 35.5%\n",
      "Amount of energy provided by the battery: 5389.81 kWh\n",
      "Average Charging/Discharging depth: inf\n",
      "Number of equivalent full cycles per year: inf \n",
      "Total battery losses: 535.623 kWh\n",
      "Total inverter losses: 1848.43 kWh\n",
      "Residue (check): -7.22622e-11 kWh\n"
     ]
    }
   ],
   "source": [
    "comm.print_analysis(df_CH.E_PV*out_comm_final['PV_size_comm'], df_CH.loc[:,list_names].sum(axis=1),param_tech_no_batt,out_comm_final)"
   ]
  },
  {
   "cell_type": "markdown",
   "metadata": {},
   "source": [
    "# P2P community"
   ]
  },
  {
   "cell_type": "code",
   "execution_count": null,
   "metadata": {},
   "outputs": [],
   "source": []
  },
  {
   "cell_type": "code",
   "execution_count": null,
   "metadata": {},
   "outputs": [],
   "source": []
  },
  {
   "cell_type": "code",
   "execution_count": null,
   "metadata": {},
   "outputs": [],
   "source": []
  },
  {
   "cell_type": "code",
   "execution_count": null,
   "metadata": {},
   "outputs": [],
   "source": []
  },
  {
   "cell_type": "code",
   "execution_count": null,
   "metadata": {},
   "outputs": [],
   "source": []
  },
  {
   "cell_type": "code",
   "execution_count": null,
   "metadata": {},
   "outputs": [],
   "source": []
  },
  {
   "cell_type": "code",
   "execution_count": null,
   "metadata": {},
   "outputs": [],
   "source": []
  },
  {
   "cell_type": "code",
   "execution_count": 13,
   "metadata": {},
   "outputs": [
    {
     "data": {
      "text/plain": [
       "8760"
      ]
     },
     "execution_count": 13,
     "metadata": {},
     "output_type": "execute_result"
    }
   ],
   "source": [
    "24*365"
   ]
  },
  {
   "cell_type": "code",
   "execution_count": 32,
   "metadata": {},
   "outputs": [
    {
     "name": "stdout",
     "output_type": "stream",
     "text": [
      "########################################\n",
      "PV penetration 50\n",
      "Battery penetration 50\n"
     ]
    },
    {
     "data": {
      "text/plain": [
       "{'BatteryCapacity': 10,\n",
       " 'BatteryEfficiency': 0.91,\n",
       " 'InverterEfficiency': 0.94,\n",
       " 'timestep': 1,\n",
       " 'MaxPower': 4,\n",
       " 'kW_dis': 1,\n",
       " 'PV_penetration': 0.5,\n",
       " 'Batt_penetration': 0.5,\n",
       " 'prob_choice': [0.35, 0.5, 0.95],\n",
       " 'prices': array([0.  , 0.07, 0.1 , 0.13, 0.16, 0.19, 0.22, 0.25, 0.28]),\n",
       " 'community_size': 100,\n",
       " 'df_prices':                            prices\n",
       " 2017-01-01 00:00:00+01:00    0.28\n",
       " 2017-01-01 01:00:00+01:00    0.22\n",
       " 2017-01-01 02:00:00+01:00    0.19\n",
       " 2017-01-01 03:00:00+01:00    0.19\n",
       " 2017-01-01 04:00:00+01:00    0.16\n",
       " 2017-01-01 05:00:00+01:00    0.19\n",
       " 2017-01-01 06:00:00+01:00    0.28\n",
       " 2017-01-01 07:00:00+01:00    0.28\n",
       " 2017-01-01 08:00:00+01:00    0.28\n",
       " 2017-01-01 09:00:00+01:00    0.28\n",
       " 2017-01-01 10:00:00+01:00    0.28\n",
       " 2017-01-01 11:00:00+01:00    0.28\n",
       " 2017-01-01 12:00:00+01:00    0.28\n",
       " 2017-01-01 13:00:00+01:00    0.28\n",
       " 2017-01-01 14:00:00+01:00    0.28\n",
       " 2017-01-01 15:00:00+01:00    0.28\n",
       " 2017-01-01 16:00:00+01:00    0.28\n",
       " 2017-01-01 17:00:00+01:00    0.28\n",
       " 2017-01-01 18:00:00+01:00    0.28\n",
       " 2017-01-01 19:00:00+01:00    0.28\n",
       " 2017-01-01 20:00:00+01:00    0.28\n",
       " 2017-01-01 21:00:00+01:00    0.28\n",
       " 2017-01-01 22:00:00+01:00    0.28\n",
       " 2017-01-01 23:00:00+01:00    0.28\n",
       " 2017-01-02 00:00:00+01:00    0.28\n",
       " 2017-01-02 01:00:00+01:00    0.28\n",
       " 2017-01-02 02:00:00+01:00    0.22\n",
       " 2017-01-02 03:00:00+01:00    0.19\n",
       " 2017-01-02 04:00:00+01:00    0.16\n",
       " 2017-01-02 05:00:00+01:00    0.19\n",
       " ...                           ...\n",
       " 2017-12-30 18:00:00+01:00    0.28\n",
       " 2017-12-30 19:00:00+01:00    0.28\n",
       " 2017-12-30 20:00:00+01:00    0.28\n",
       " 2017-12-30 21:00:00+01:00    0.28\n",
       " 2017-12-30 22:00:00+01:00    0.28\n",
       " 2017-12-30 23:00:00+01:00    0.28\n",
       " 2017-12-31 00:00:00+01:00    0.28\n",
       " 2017-12-31 01:00:00+01:00    0.28\n",
       " 2017-12-31 02:00:00+01:00    0.28\n",
       " 2017-12-31 03:00:00+01:00    0.22\n",
       " 2017-12-31 04:00:00+01:00    0.19\n",
       " 2017-12-31 05:00:00+01:00    0.19\n",
       " 2017-12-31 06:00:00+01:00    0.19\n",
       " 2017-12-31 07:00:00+01:00    0.19\n",
       " 2017-12-31 08:00:00+01:00    0.07\n",
       " 2017-12-31 09:00:00+01:00    0.07\n",
       " 2017-12-31 10:00:00+01:00    0.07\n",
       " 2017-12-31 11:00:00+01:00    0.16\n",
       " 2017-12-31 12:00:00+01:00    0.28\n",
       " 2017-12-31 13:00:00+01:00    0.28\n",
       " 2017-12-31 14:00:00+01:00    0.28\n",
       " 2017-12-31 15:00:00+01:00    0.28\n",
       " 2017-12-31 16:00:00+01:00    0.28\n",
       " 2017-12-31 17:00:00+01:00    0.28\n",
       " 2017-12-31 18:00:00+01:00    0.28\n",
       " 2017-12-31 19:00:00+01:00    0.28\n",
       " 2017-12-31 20:00:00+01:00    0.28\n",
       " 2017-12-31 21:00:00+01:00    0.28\n",
       " 2017-12-31 22:00:00+01:00    0.28\n",
       " 2017-12-31 23:00:00+01:00    0.22\n",
       " \n",
       " [8760 rows x 1 columns]}"
      ]
     },
     "execution_count": 32,
     "metadata": {},
     "output_type": "execute_result"
    }
   ],
   "source": [
    "community_size=100\n",
    "timestep=1 # in hours\n",
    "\n",
    "list_pv_penetration=[100,75,50,25]# %\n",
    "list_batt_penetration=[100,75,50,25]# %\n",
    "\n",
    "print('########################################')\n",
    "print('PV penetration {}'.format(pv_penetration))\n",
    "\n",
    "print('Battery penetration {}'.format(batt_penetration))\n",
    "if first_time:\n",
    "    out_comm_final=comm.load_obj('community_as_today'+'_'+str(pv_penetration)+'_'+str(batt_penetration))\n",
    "param_tech=out_comm_final['param_tech']\n",
    "param_tech.update({'kW_dis':1})\n",
    "\n",
    "df_CH=out_comm_final['df']\n",
    "selection=out_comm_final['selection']\n",
    "\n",
    "param_tech.update({'kW_dis':1,'PV_penetration':pv_penetration/100,'Batt_penetration':batt_penetration/100,'prob_choice':[0.35,0.5,.95],\n",
    "            'prices':np.array([0, 0.07,.10,.13,.16,.19,.22,.25,.28]),'community_size':community_size})\n",
    "price_probability(df_CH,selection,param_tech,pv_penetration,batt_penetration)\n"
   ]
  },
  {
   "cell_type": "code",
   "execution_count": 30,
   "metadata": {},
   "outputs": [],
   "source": [
    "\n",
    "def find_interval(x, partition):\n",
    "    '''\n",
    "    Description\n",
    "    -----------\n",
    "    find_interval at which x belongs inside partition. Returns the index i.\n",
    "\n",
    "    Parameters\n",
    "    ------\n",
    "    x: float; numerical value\n",
    "    partition: array; sequence of numerical values\n",
    "    Returns\n",
    "    ------\n",
    "    i: index; index for which applies\n",
    "    partition[i] < x < partition[i+1], if such an index exists.\n",
    "    -1 otherwise\n",
    "    TODO\n",
    "    ------\n",
    "    '''\n",
    "\n",
    "    for i in range(0, len(partition)):\n",
    "        if x < partition[i]:\n",
    "            return i-1\n",
    "    return -1\n"
   ]
  },
  {
   "cell_type": "code",
   "execution_count": 31,
   "metadata": {},
   "outputs": [],
   "source": [
    "\n",
    "def find_interval_PQ(x, partition):\n",
    "    '''\n",
    "    Description\n",
    "    -----------\n",
    "    find_interval at which x belongs inside partition. Returns the index i.\n",
    "\n",
    "    Parameters\n",
    "    ------\n",
    "    x: float; numerical value\n",
    "    partition: array; sequence of numerical values\n",
    "    Returns\n",
    "    ------\n",
    "    i: index; index for which applies\n",
    "    partition[i] < x < partition[i+1], if such an index exists.\n",
    "    -1 otherwise\n",
    "    TODO\n",
    "    ------\n",
    "    '''\n",
    "    \n",
    "    for i in range(0, len(partition)):\n",
    "        #print(partition)\n",
    "        if x<partition[1]:\n",
    "            return 1\n",
    "        elif x < partition[i]:\n",
    "            return i-1\n",
    "        \n",
    "    return -1"
   ]
  },
  {
   "cell_type": "code",
   "execution_count": 11,
   "metadata": {},
   "outputs": [],
   "source": [
    "def get_surplus_hour(res_pv):\n",
    "#Get the first surplus hour\n",
    "    sp_hour=[]\n",
    "    if int(res_pv.shape[0]/365)==24:\n",
    "        aux_res_pv=np.array(res_pv).reshape((365,24))\n",
    "    else:\n",
    "        print('TODO')\n",
    "        \n",
    "        \n",
    "    for day in range(0,365):\n",
    "        sp_hour.append(np.argmax(aux_res_pv.reshape((365,24))[day]>0))\n",
    "    return sp_hour"
   ]
  },
  {
   "cell_type": "code",
   "execution_count": 26,
   "metadata": {},
   "outputs": [],
   "source": [
    "list_names=[str(name) for name in selection.name]\n",
    "# Get the total demand\n",
    "sum_demand=df_CH.loc[:,list_names].sum(axis=1)\n",
    "# Get total PV generation\n",
    "aux=pd.DataFrame()\n",
    "sum_PV=pd.DataFrame()\n",
    "for i in range(len(selection)):\n",
    "    aux=df_CH.E_PV*selection.loc[:,['PV_size','sub_'+str(pv_penetration)+'_'+str(batt_penetration)]].product(axis=1)[i]\n",
    "    if i==0:\n",
    "        sum_PV=aux\n",
    "    else:\n",
    "        sum_PV=aux+sum_PV\n"
   ]
  },
  {
   "cell_type": "code",
   "execution_count": 28,
   "metadata": {},
   "outputs": [],
   "source": [
    "\n",
    "def price_probability(df_CH,selection,inputs,pv_penetration,batt_penetration):\n",
    "    '''\n",
    "    Description\n",
    "    -----------\n",
    "    Define the price structure according to the inputs (how the community is created), the choice of the probability, \n",
    "    whether it is for the 50% or other probability according to the psychology data, the amount of kWh that will be \n",
    "    discharged every time a decision is made (1 or 2 kWh are the \"normal\" options) and the case, whether it is the\n",
    "    price created from the probability of selling from PV or the battery in the morning or the evening.\n",
    "    \n",
    "    Parameters\n",
    "    ------\n",
    "    inputs:        dict; Dictionary that includes prob_choice (choice of the probability to create the prices 50% or other),\n",
    "                    prices, kWh_dis (amount of energy to be discharged at every time a decision is made),  \n",
    "                    case (included in ['PV', 'Batt'] the price may be created from the probability of selling from PV or the battery\n",
    "\n",
    "    Return\n",
    "    ------\n",
    "    inputs: dict; Input dictionary updated with prices\n",
    "\n",
    "    TODO\n",
    "    ------\n",
    "\n",
    "    '''\n",
    "    list_names=[str(name) for name in selection.name]\n",
    "    # Get the total demand\n",
    "    sum_demand=df_CH.loc[:,list_names].sum(axis=1)\n",
    "    # Get total PV generation\n",
    "    aux=pd.DataFrame()\n",
    "    sum_PV=pd.DataFrame()\n",
    "    for i in range(len(selection)):\n",
    "        aux=df_CH.E_PV*selection.loc[:,['PV_size','sub_'+str(pv_penetration)+'_'+str(batt_penetration)]].product(axis=1)[i]\n",
    "        if i==0:\n",
    "            sum_PV=aux\n",
    "        else:\n",
    "            sum_PV=aux+sum_PV\n",
    "\n",
    "    net_demand=sum_demand-sum_PV\n",
    "    prob_mat_PV=pd.read_csv('Switzerland/Input/P_selling_by_price_and_autarky2.txt',sep='\\t',index_col=[0])\n",
    "    prob_mat_Batt=pd.read_csv('Switzerland/Input/P_selling_by_price_and_autarky_2.txt',sep='\\t',index_col=[0])\n",
    "    sp_hour=get_surplus_hour(sum_PV-sum_demand)\n",
    "    if len(inputs['prob_choice'])==1:\n",
    "        q_supply_midday=int(np.floor(inputs['PV_penetration']*inputs['Batt_penetration']*inputs['community_size']))*prob_mat_PV.loc[inputs['prob_choice'][0],:]*inputs['kW_dis']\n",
    "        q_supply_other=int(np.floor(inputs['PV_penetration']*inputs['Batt_penetration']*inputs['community_size']))*prob_mat_Batt.loc[inputs['prob_choice'][0],:]*inputs['kW_dis']\n",
    "        df_prices=pd.DataFrame(index=net_demand.index)\n",
    "        df_prices.loc[:,'prices']=net_demand.apply(lambda x:inputs['prices'][find_interval_PQ(x,q_supply_midday)])\n",
    "        df_prices.loc[(df_prices.index.hour<sp_hour[int(np.floor((i)/24))]-2)|(df_prices.index.hour>sp_hour[int(np.floor((i)/24))]-14+24),'prices']=net_demand[(net_demand.index.hour<sp_hour[int(np.floor((i)/24))]-2)|(net_demand.index.hour>sp_hour[int(np.floor((i)/24))]-14+24)].apply(lambda x:inputs['prices'][find_interval_PQ(x,q_supply_other)])\n",
    "        inputs.update({'df_prices':df_prices})\n",
    "        return inputs\n",
    "    elif len(inputs['prob_choice'])==3:\n",
    "        q_supply_morning=int(np.floor(inputs['PV_penetration']*inputs['Batt_penetration']*inputs['community_size']))*prob_mat_Batt.loc[inputs['prob_choice'][0],:]*inputs['kW_dis']\n",
    "        q_supply_midday=int(np.floor(inputs['PV_penetration']*inputs['Batt_penetration']*inputs['community_size']))*prob_mat_PV.loc[inputs['prob_choice'][1],:]*inputs['kW_dis']\n",
    "        q_supply_evening=int(np.floor(inputs['PV_penetration']*inputs['Batt_penetration']*inputs['community_size']))*prob_mat_Batt.loc[inputs['prob_choice'][2],:]*inputs['kW_dis']\n",
    "        df_prices=pd.DataFrame(index=net_demand.index)\n",
    "        df_prices.loc[:,'prices']=net_demand.apply(lambda x:inputs['prices'][find_interval_PQ(x,q_supply_midday)])\n",
    "        df_prices.loc[(df_prices.index.hour<sp_hour[int(np.floor((i)/24))]-2),'prices']=net_demand[net_demand.index.hour<sp_hour[int(np.floor((i)/24))]-2].apply(lambda x:inputs['prices'][find_interval_PQ(x,q_supply_morning)])\n",
    "        df_prices.loc[df_prices.index.hour>sp_hour[int(np.floor((i)/24))]-14+24,'prices']=net_demand[net_demand.index.hour>sp_hour[int(np.floor((i)/24))]-14+24].apply(lambda x:inputs['prices'][find_interval_PQ(x,q_supply_evening)])\n",
    "\n",
    "        inputs.update({'df_prices':df_prices})\n",
    "        return inputs\n",
    "    else:\n",
    "        print('Warning: this function only takes either one choice of probability for the whole day or three separated for morning, midday and evening')\n",
    "        return"
   ]
  },
  {
   "cell_type": "code",
   "execution_count": null,
   "metadata": {},
   "outputs": [],
   "source": []
  }
 ],
 "metadata": {
  "kernelspec": {
   "display_name": "alenv",
   "language": "python",
   "name": "alenv"
  },
  "language_info": {
   "codemirror_mode": {
    "name": "ipython",
    "version": 3
   },
   "file_extension": ".py",
   "mimetype": "text/x-python",
   "name": "python",
   "nbconvert_exporter": "python",
   "pygments_lexer": "ipython3",
   "version": "3.7.2"
  }
 },
 "nbformat": 4,
 "nbformat_minor": 2
}
