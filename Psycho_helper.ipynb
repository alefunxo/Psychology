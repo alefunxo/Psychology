{
 "cells": [
  {
   "cell_type": "code",
   "execution_count": 92,
   "metadata": {},
   "outputs": [],
   "source": [
    "import numpy as np\n",
    "import pandas as pd\n",
    "import matplotlib.pyplot as plt \n",
    "import paper_classes_2 as pc\n",
    "import Post_processing as pp"
   ]
  },
  {
   "cell_type": "code",
   "execution_count": null,
   "metadata": {},
   "outputs": [],
   "source": []
  },
  {
   "cell_type": "code",
   "execution_count": 2,
   "metadata": {},
   "outputs": [],
   "source": [
    "def create_community(inputs):\n",
    "    \n",
    "    '''\n",
    "    Description\n",
    "    -----------\n",
    "    Define the houses with PV and Battery\n",
    "    This function takes the PV and Batt penetration as inputs, reads the df of generation in Munich and the PV_size_distribution, \n",
    "    and RANDOMLY (unless we are in mode test or looking at a particular day of summer or winter) chooses the sizes \n",
    "    for the X houses (RANDOMLY selected unless in test mode) \n",
    "\n",
    "    Parameters\n",
    "    ------\n",
    "    inputs: dict; Dictionary that includes PV_penetration,Batt_penetration, resolution (reso),path,day_selection (day_sel)\n",
    "\n",
    "    Return\n",
    "    ------\n",
    "    inputs: dict; Updated dictionary that includes the demand, pv generation, flag of surplus in the community and the houses that include PV and PV+Batt\n",
    "\n",
    "    TODO\n",
    "    ------\n",
    "\n",
    "    '''\n",
    "    print('################################################')\n",
    "    print('Creating the community')\n",
    "    print('%%%%%%%%%%%%%%%%%%%%%%%')\n",
    "    print('Loading PV combinations')\n",
    "    df_gen_comb=pd.read_csv(inputs['path']+'Input/DE_gen_15_min_Energy.csv', encoding='utf8', sep=',',engine='python',\n",
    "                            date_parser=lambda col: pd.to_datetime(col, utc=True),infer_datetime_format=True,index_col=0)\n",
    "    df_gen_comb.index = df_gen_comb.index.tz_convert('CET')\n",
    "    print('%%%%%%%%%%%%%%%%%%%%%%%')\n",
    "    print('Loading demand')\n",
    "    if inputs['reso']=='1h':\n",
    "        df_demand=pd.read_csv(inputs['path']+'Input/DE_load_15_min_Power.csv', encoding='utf8', sep=',',\n",
    "                              engine='python',date_parser=lambda col: pd.to_datetime(col, utc=True),infer_datetime_format=True,index_col=0)/4\n",
    "        df_demand.index=df_demand.index.tz_convert('CET')\n",
    "        df_demand=df_demand.resample('1H').sum()\n",
    "        #df_demand.index = df_demand.index.tz_localize('UTC').tz_convert('CET')\n",
    "        df_gen_comb=df_gen_comb.resample('1H').sum()\n",
    "        df_demand.index=df_gen_comb.index\n",
    "    else:\n",
    "        df_demand=pd.read_csv(inputs['path']+'Input/DE_load_15_min_Power.csv', encoding='utf8', sep=',',engine='python', \n",
    "                              date_parser=lambda col: pd.to_datetime(col, utc=True),infer_datetime_format=True,index_col=0)/4\n",
    "        df_demand.index=df_demand.index.tz_convert('CET')\n",
    "        #df_demand.index = df_demand.index.tz_localize('UTC').tz_convert('CET')\n",
    "        df_demand.index=df_gen_comb.index\n",
    "    selection_PV=np.random.choice(df_demand.columns,int(np.floor(df_demand.shape[1]*inputs['PV_penetration'])), replace=False)\n",
    "    selection_PV_Batt=np.random.choice(selection_PV,int(np.floor(df_demand.shape[1]*inputs['PV_penetration']*inputs['Batt_penetration'])), replace=False)\n",
    "\n",
    "    #We decide among the whole community which houses will have PV and PV and Batt\n",
    "\n",
    "    if inputs['day_sel'] in ['winter','summer','test']:\n",
    "        selection_PV=['41','24','65','0','69','8','49','63','2','1','14','42','67','10','6','9','38','50']\n",
    "        selection_PV_Batt=['69','41','10','63','50','9','0','49','38','67','1','2','42','24','8','65','6','14']\n",
    "    # We have to define the prices for the community based on PV penetration. We can include some variation in azimuth and angle but in general, I guess, only three or four should be ok. The df loaded has 66 combinations.\n",
    "\n",
    "    # As an example I will take the 66 PV profiles for different azimuths and inclinations, but this input data must be modified once we define the final community\n",
    "\n",
    "    # The PV size for every house must be defined. If the household have a Battery the PV size comes from another distribution\n",
    "    print('%%%%%%%%%%%%%%%%%%%%%%%')\n",
    "    print('Creating distributions')\n",
    "    PV_sizes=pd.read_csv(inputs['path']+'Input/PV_size_distribution.csv',index_col=0,header=None)\n",
    "    PV_sizes_batt=pd.read_csv(inputs['path']+'Input/PV_size_distribution.csv',index_col=0,header=None)#change this input for the real distribution of PV+battery\n",
    "    #The output of this function: should be a combined df with\n",
    "    #df_prices,df_generation,df_demand\n",
    "    count_batt, division_batt = np.histogram(PV_sizes_batt)\n",
    "    prob_size_batt=count_batt/PV_sizes_batt.size\n",
    "    possible_sizes=np.arange(1,11)#for residential we consider from 1 to 10\n",
    "    amount_PV_batt_systems=int(np.floor(inputs['PV_penetration']*inputs['Batt_penetration']*74))\n",
    "    sizes_PV_batt=np.random.choice(possible_sizes,amount_PV_batt_systems, p=prob_size_batt)\n",
    "    #Delete after tests\n",
    "    if inputs['day_sel'] in ['winter','summer','test']:\n",
    "        sizes_PV_batt=[7,7,6,4,10,9,5,6,5,8,6,7,5,10,9,3,5,7]\n",
    "        \n",
    "    # Select the PV profiles randomly and include the size in the name of the columns\n",
    "    newcols_batt=[]\n",
    "    #We select from all the combinations of azimuth and inclination randomly\n",
    "    selection_batt=np.random.choice(df_gen_comb.columns,int(np.floor(inputs['PV_penetration']*inputs['Batt_penetration']*74)))\n",
    "    count, division = np.histogram(PV_sizes)\n",
    "    prob_size=count/PV_sizes.size\n",
    "    amount_PV_systems=int(np.floor(inputs['PV_penetration']*74))\n",
    "    sizes=np.random.choice(possible_sizes,amount_PV_systems, p=prob_size)\n",
    "    if inputs['day_sel'] in ['winter','summer','test']:\n",
    "        sizes=[3,3,9,10,9,6,4,10,3,7,5,10,6,4,10,10,5,9]\n",
    "        selection_batt=['PV_-50_35','PV_-10_20','PV_30_40','PV_50_35','PV_40_40','PV_-40_45','PV_10_45','PV_-50_30','PV_-30_35','PV_10_20','PV_20_30','PV_-50_45','PV_30_25','PV_10_40','PV_-50_30','PV_-50_25','PV_50_35','PV_10_25']\n",
    "  # Select the PV profiles randomly and include the size in the name of the columns\n",
    "    newcols=[]\n",
    "    #We select from all the combinations of azimuth and inclination randomly\n",
    "\n",
    "    selection=np.random.choice(df_gen_comb.columns,len(selection_PV)-len(selection_batt))\n",
    "    print('%%%%%%%%%%%%%%%%%%%%%%%')\n",
    "    print('Assingning PV to households')\n",
    "    j=0\n",
    "    k=0\n",
    "    m=0\n",
    "    df_sel=pd.DataFrame()\n",
    "    df_sel_batt=pd.DataFrame()\n",
    "    df_residual_load=pd.DataFrame()\n",
    "    for i in df_demand.columns:\n",
    "        if i in selection_PV_Batt:\n",
    "            if j==0:\n",
    "                df_sel_batt=df_gen_comb[selection_batt[j]]*sizes_PV_batt[j]\n",
    "            else:\n",
    "                df_sel_batt=pd.concat([df_sel_batt, df_gen_comb[selection_batt[j]]*sizes_PV_batt[j]], axis=1, join='inner')\n",
    "            if m==0:\n",
    "                df_residual_load=df_demand.loc[:,i]-df_gen_comb[selection_batt[j]]*sizes_PV_batt[j]\n",
    "            else:\n",
    "                df_residual_load=pd.concat([df_residual_load, df_demand.loc[:,i]-df_gen_comb[selection_batt[j]]*sizes_PV_batt[j]], axis=1, join='inner')\n",
    "            newcols_batt.append('hh_'+str(i)+'_'+selection_batt[j]+'_size_'+str(sizes_PV_batt[j]))\n",
    "\n",
    "            j+=1\n",
    "        elif i in selection_PV:\n",
    "\n",
    "            if k==0:\n",
    "                df_sel=df_gen_comb[selection[k]]*sizes[k]\n",
    "            else:\n",
    "                df_sel=pd.concat([df_sel, df_gen_comb[selection[k]]*sizes[k]], axis=1, join='inner')\n",
    "            if m==0:\n",
    "                df_residual_load=df_demand.loc[:,i]-df_gen_comb[selection[k]]*sizes[k]\n",
    "            else:\n",
    "                df_residual_load=pd.concat([df_residual_load, df_demand.loc[:,i]-df_gen_comb[selection[k]]*sizes[k]], axis=1, join='inner')\n",
    "            newcols.append('hh_'+str(i)+'_'+selection[k]+'_size_'+str(sizes[k]))\n",
    "\n",
    "            k+=1\n",
    "        else:\n",
    "            if m==0:\n",
    "                df_residual_load=df_demand.loc[:,i]\n",
    "            else:\n",
    "                df_residual_load=pd.concat([df_residual_load, df_demand.loc[:,i]], axis=1, join='inner')\n",
    "        m+=1\n",
    "\n",
    "    df_sel.columns=newcols\n",
    "    df_sel_batt.columns=newcols_batt\n",
    "    if inputs['Batt_penetration']==1:\n",
    "        df_sel=df_sel_batt\n",
    "    else:\n",
    "        if df_sel.shape[0]==0:\n",
    "            print('bla')\n",
    "            df_sel=df_sel_batt.copy()\n",
    "        else:\n",
    "            df_sel=pd.concat([df_sel, df_sel_batt], axis=1, join='inner')\n",
    "    df_residual_load.columns=df_demand.columns\n",
    "    #The matching from PV-demand is done first.\n",
    "    flag_surplus_community=df_residual_load.sum(axis=1)\n",
    "    flag_surplus_community[flag_surplus_community>0]=0\n",
    "    flag_surplus_community[flag_surplus_community<0]=1\n",
    "    inputs.update({'df_demand':df_demand,'df_generation':df_sel,'selection_PV':selection_PV,'selection_PV_Batt':selection_PV_Batt,'flag':flag_surplus_community})\n",
    "    print('%%%%%%%%%%%%%%%%%%%%%%%')\n",
    "    print('Finished')\n",
    "    return inputs\n",
    "\n"
   ]
  },
  {
   "cell_type": "code",
   "execution_count": 3,
   "metadata": {},
   "outputs": [],
   "source": [
    "\n",
    "def find_interval_PQ(x, partition):\n",
    "    '''\n",
    "    Description\n",
    "    -----------\n",
    "    find_interval at which x belongs inside partition. Returns the index i.\n",
    "\n",
    "    Parameters\n",
    "    ------\n",
    "    x: float; numerical value\n",
    "    partition: array; sequence of numerical values\n",
    "    Returns\n",
    "    ------\n",
    "    i: index; index for which applies\n",
    "    partition[i] < x < partition[i+1], if such an index exists.\n",
    "    -1 otherwise\n",
    "    TODO\n",
    "    ------\n",
    "    '''\n",
    "    \n",
    "    for i in range(0, len(partition)):\n",
    "        #print(partition)\n",
    "        if x<partition[1]:\n",
    "            return 1\n",
    "        elif x < partition[i]:\n",
    "            return i-1\n",
    "        \n",
    "    return -1"
   ]
  },
  {
   "cell_type": "code",
   "execution_count": 4,
   "metadata": {},
   "outputs": [],
   "source": [
    "\n",
    "def find_interval(x, partition):\n",
    "    '''\n",
    "    Description\n",
    "    -----------\n",
    "    find_interval at which x belongs inside partition. Returns the index i.\n",
    "\n",
    "    Parameters\n",
    "    ------\n",
    "    x: float; numerical value\n",
    "    partition: array; sequence of numerical values\n",
    "    Returns\n",
    "    ------\n",
    "    i: index; index for which applies\n",
    "    partition[i] < x < partition[i+1], if such an index exists.\n",
    "    -1 otherwise\n",
    "    TODO\n",
    "    ------\n",
    "    '''\n",
    "\n",
    "    for i in range(0, len(partition)):\n",
    "        if x < partition[i]:\n",
    "            return i-1\n",
    "    return -1"
   ]
  },
  {
   "cell_type": "code",
   "execution_count": 84,
   "metadata": {},
   "outputs": [],
   "source": [
    "def price_probability(inputs):\n",
    "    '''\n",
    "    Description\n",
    "    -----------\n",
    "    Define the price structure according to the inputs (how the community is created), the choice of the probability, \n",
    "    whether it is for the 50% or other probability according to the psychology data, the amount of kWh that will be \n",
    "    discharged every time a decision is made (1 or 2 kWh are the \"normal\" options) and the case, whether it is the\n",
    "    price created from the probability of selling from PV or the battery in the morning or the evening.\n",
    "    \n",
    "    Parameters\n",
    "    ------\n",
    "    inputs:        dict; Dictionary that includes prob_choice (choice of the probability to create the prices 50% or other),\n",
    "                    prices, kWh_dis (amount of energy to be discharged at every time a decision is made),  \n",
    "                    case (included in ['PV', 'Batt'] the price may be created from the probability of selling from PV or the battery\n",
    "\n",
    "    Return\n",
    "    ------\n",
    "    inputs: dict; Input dictionary updated with prices\n",
    "\n",
    "    TODO\n",
    "    ------\n",
    "\n",
    "    '''\n",
    "    net_demand=inputs['df_demand'].sum(axis=1)-inputs['df_generation'].sum(axis=1)\n",
    "    prob_mat_PV=pd.read_csv(inputs['path']+'Input/P_selling_by_price_and_autarky2.txt',sep='\\t',index_col=[0])\n",
    "    prob_mat_Batt=pd.read_csv(inputs['path']+'Input/P_selling_by_price_and_autarky_2.txt',sep='\\t',index_col=[0])\n",
    "    if len(inputs['prob_choice'])==1:\n",
    "        q_supply_midday=int(np.floor(inputs['PV_penetration']*inputs['Batt_penetration']*inputs['df_demand'].shape[1]))*prob_mat_PV.loc[inputs['prob_choice'][0],:]*inputs['kWh_dis']\n",
    "        q_supply_other=int(np.floor(inputs['PV_penetration']*inputs['Batt_penetration']*inputs['df_demand'].shape[1]))*prob_mat_Batt.loc[inputs['prob_choice'][0],:]*inputs['kWh_dis']\n",
    "        print(q_supply_other)\n",
    "        df_prices=pd.DataFrame(index=net_demand.index)\n",
    "        df_prices.loc[:,'prices']=net_demand.apply(lambda x:inputs['prices'][find_interval_PQ(x,q_supply_midday)])\n",
    "        df_prices.loc[(df_prices.index.hour<10)|(df_prices.index.hour>17),'prices']=net_demand[(net_demand.index.hour<10)|(net_demand.index.hour>17)].apply(lambda x:inputs['prices'][find_interval_PQ(x,q_supply_other)])\n",
    "        inputs.update({'df_prices':df_prices})\n",
    "        return inputs\n",
    "    elif len(inputs['prob_choice'])==3:\n",
    "        q_supply_morning=int(np.floor(inputs['PV_penetration']*inputs['Batt_penetration']*inputs['df_demand'].shape[1]))*prob_mat_Batt.loc[inputs['prob_choice'][0],:]*inputs['kWh_dis']\n",
    "        q_supply_midday=int(np.floor(inputs['PV_penetration']*inputs['Batt_penetration']*inputs['df_demand'].shape[1]))*prob_mat_PV.loc[inputs['prob_choice'][1],:]*inputs['kWh_dis']\n",
    "        q_supply_evening=int(np.floor(inputs['PV_penetration']*inputs['Batt_penetration']*inputs['df_demand'].shape[1]))*prob_mat_Batt.loc[inputs['prob_choice'][2],:]*inputs['kWh_dis']\n",
    "        print(q_supply_evening)\n",
    "        df_prices=pd.DataFrame(index=net_demand.index)\n",
    "        df_prices.loc[:,'prices']=net_demand.apply(lambda x:inputs['prices'][find_interval_PQ(x,q_supply_midday)])\n",
    "        df_prices.loc[df_prices.index.hour<10,'prices']=net_demand[net_demand.index.hour<10].apply(lambda x:inputs['prices'][find_interval_PQ(x,q_supply_morning)])\n",
    "        df_prices.loc[df_prices.index.hour>17,'prices']=net_demand[net_demand.index.hour>17].apply(lambda x:inputs['prices'][find_interval_PQ(x,q_supply_evening)])\n",
    "\n",
    "        inputs.update({'df_prices':df_prices})\n",
    "        return inputs\n",
    "    else:\n",
    "        print('Warning: this function only takes either one choice of probability for the whole day or three separated for morning, midday and evening')\n",
    "        return\n",
    "\n",
    "    "
   ]
  },
  {
   "cell_type": "code",
   "execution_count": 45,
   "metadata": {},
   "outputs": [],
   "source": [
    "\n",
    "def sell_prob(SOC,price,Capacity,case,path):\n",
    "    '''\n",
    "    Description\n",
    "    -----------\n",
    "    This function returns the selling probability based on the SOC, price, capacity and case. As well as the results of the survey which are stored as .txt\n",
    "    Parameters\n",
    "    ------\n",
    "    SOC: float; Battery state of charge at time t\n",
    "    price: float; Electricity price at time t\n",
    "    Capacity: float; Battery capacity\n",
    "    case: string; either PV or batt from where the user is willing to sale\n",
    "    path: string; path where the .txt are found\n",
    "    ------\n",
    "    out: int; Either 1 or 0 if sell or not\n",
    "    TODO\n",
    "    ------\n",
    "    '''\n",
    "    #define the matrix of probs\n",
    "    if case=='PV':\n",
    "        prob_mat=pd.read_table(path+'Input/P_selling_by_price_and_autarky2.txt',sep='\\t',index_col=[0])\n",
    "        #prob_mat=pd.read_table(path+'Input/surplus_cluster1_p_selling.txt',sep='\\t',index_col=[0])\n",
    "        #prob_mat=pd.read_table(path+'Input/surplus_cluster2_p_selling.txt',sep='\\t',index_col=[0])\n",
    "    else:#when selling from battery\n",
    "        prob_mat=pd.read_table(path+'Input/P_selling_by_price_and_autarky_2.txt',sep='\\t',index_col=[0])\n",
    "        #prob_mat=pd.read_table(path+'Input/nosurplus_cluster1_p_selling.txt',sep='\\t',index_col=[0])\n",
    "        #prob_mat=pd.read_table(path+'Input/nosurplus_cluster2_p_selling.txt',sep='\\t',index_col=[0])\n",
    "    if SOC==0:\n",
    "        out=0\n",
    "    else:\n",
    "        I=np.array([0,0.05,0.2,0.35,0.5,0.65,0.8,0.95,1.0001])#define the interval of SOC\n",
    "        ind=find_interval(SOC,I*Capacity)\n",
    "        if ind==-1:\n",
    "            prob=prob_mat.loc[1,str(price)]\n",
    "        else:\n",
    "            prob=prob_mat.loc[I[ind],str(price)]\n",
    "        out=np.random.choice(2,1,p=[1-prob,prob])\n",
    "    return out\n"
   ]
  },
  {
   "cell_type": "code",
   "execution_count": 46,
   "metadata": {},
   "outputs": [],
   "source": [
    "\n",
    "def PV_SC(df,Batt,Conv_eff,Inv_eff,endo):\n",
    "    '''\n",
    "    Description\n",
    "    -----------\n",
    "    This function calculates the energy flows of each house WHITHOUT consumer behaviour.\n",
    "\n",
    "    Parameters\n",
    "    ------\n",
    "    df: DataFrame;\n",
    "    Batt: Battery class; Battery characteristics\n",
    "    Conv_eff: float; Converter efficiency\n",
    "    Inv_eff: float; Inverter efficiency\n",
    "    endo: int; Defines the last element of the index we want to simulate\n",
    "\n",
    "    ------\n",
    "    df: DataFrame; with energy flows for each house\n",
    "    TODO\n",
    "    ------\n",
    "\n",
    "    '''\n",
    "    for i in range(len(df.index[:endo])):\n",
    "        if df.gen[i]<df.demand[i]/Conv_eff/Inv_eff:#No surplus including losses\n",
    "            if i==0:#CI\n",
    "                df.grid_load[i]=df.demand[i]-df.gen[i]*Conv_eff*Inv_eff\n",
    "            else:\n",
    "                if df.SOC[i-1]>Batt.SOC_min:#Discharge battery to the load\n",
    "                    df.E_dis[i]=min(df.SOC[i-1]-Batt.SOC_min,\n",
    "                                        (df.demand[i]-df.gen[i]*Conv_eff*Inv_eff)/Inv_eff)\n",
    "                    df.Batt_load[i]=df.E_dis[i]*Inv_eff#after inverter\n",
    "                    df.SOC[i]=df.SOC[i-1]-df.E_dis[i]\n",
    "                    df.Batt_losses[i]=df.E_dis[i]*(1-Inv_eff)#+inherent to the batt (eff)\n",
    "                    df.PV_load[i]=df.gen[i]*Conv_eff*Inv_eff#after inverter\n",
    "                    df.PV_losses[i]=df.gen[i]*(1-Conv_eff*Inv_eff)\n",
    "                    df.grid_load[i]=df.demand[i]-df.PV_load[i]-df.Batt_load[i]\n",
    "\n",
    "                else:#Use energy from the grid\n",
    "                    df.E_dis[i]=0\n",
    "                    df.Batt_load[i]=df.E_dis[i]*Inv_eff\n",
    "                    df.grid_load[i]=df.demand[i]-df.gen[i]*Conv_eff*Inv_eff#-df.Batt_load[i], is zero\n",
    "                    df.PV_load[i]=df.gen[i]*Conv_eff*Inv_eff\n",
    "                    df.SOC[i]=df.SOC[i-1]\n",
    "                    df.PV_losses[i]=df.gen[i]*(1-Conv_eff*Inv_eff)\n",
    "        else:#Surplus\n",
    "            #include here the probability function\n",
    "            if i==0:#CI\n",
    "                df.grid_load[i]=df.demand[i]\n",
    "            else:\n",
    "                df.PV_load[i]=df.demand[i]#First, cover local demand (after inverter)\n",
    "                if df.SOC[i-1]<Batt.SOC_max:#then if battery not full, charge\n",
    "                    df.PV_batt[i]=min((df.gen[i]*Conv_eff-df.demand[i]/Inv_eff),\n",
    "                                      (Batt.SOC_max-df.SOC[i-1])*Conv_eff)\n",
    "                    df.SOC[i]=df.SOC[i-1]+df.PV_batt[i]*Batt.Efficiency\n",
    "                    df.Batt_losses[i]=df.PV_batt[i]*(1-Batt.Efficiency)\n",
    "\n",
    "                    df.PV_grid[i]=(df.gen[i]*Conv_eff-df.PV_batt[i])*Inv_eff-df.PV_load[i]\n",
    "                    df.grid_load[i]=0\n",
    "                else:#otherwise, export to the grid\n",
    "                    df.PV_batt[i]=0\n",
    "                    df.PV_grid[i]=df.gen[i]*Conv_eff*Inv_eff-df.PV_load[i]\n",
    "                    df.SOC[i]=df.SOC[i-1]\n",
    "                    df.grid_load[i]=0\n",
    "                df.PV_losses[i]=df.gen[i]-df.PV_grid[i]-df.PV_batt[i]-df.PV_load[i]\n",
    "    return df\n"
   ]
  },
  {
   "cell_type": "code",
   "execution_count": 77,
   "metadata": {},
   "outputs": [],
   "source": [
    "PV_penetration=0.5\n",
    "reso='1h'\n",
    "path='./'\n",
    "day_sel='winter'\n",
    "if (day_sel=='winter') or (day_sel=='summer'):\n",
    "    endo=96\n",
    "else:\n",
    "    endo=8760\n",
    "Conv_eff=0.98\n",
    "Inv_eff=0.95\n",
    "prices=np.array([0, 0.07,.10,.13,.16,.19,.22,.25,.28])\n",
    "kWh_dis=1\n",
    "case='PV'\n",
    "prob_choice=[0.35,0.5,0.95]\n",
    "Batt=pc.Battery(10,'NMC')\n"
   ]
  },
  {
   "cell_type": "code",
   "execution_count": 78,
   "metadata": {},
   "outputs": [],
   "source": [
    "Batt_penetration=1.\n",
    "\n",
    "inputs={'Conv_eff':Conv_eff, 'Inv_eff':Inv_eff,'prices':prices,'Batt':Batt,'PV_penetration':PV_penetration,\n",
    "                   'Batt_penetration':Batt_penetration,'prob_choice':prob_choice,'kWh_dis':kWh_dis,'case':case,'reso':reso,'path':path,'day_sel':day_sel}"
   ]
  },
  {
   "cell_type": "code",
   "execution_count": 79,
   "metadata": {},
   "outputs": [
    {
     "name": "stdout",
     "output_type": "stream",
     "text": [
      "################################################\n",
      "Creating the community\n",
      "%%%%%%%%%%%%%%%%%%%%%%%\n",
      "Loading PV combinations\n",
      "%%%%%%%%%%%%%%%%%%%%%%%\n",
      "Loading demand\n",
      "%%%%%%%%%%%%%%%%%%%%%%%\n",
      "Creating distributions\n",
      "%%%%%%%%%%%%%%%%%%%%%%%\n",
      "Assingning PV to households\n",
      "%%%%%%%%%%%%%%%%%%%%%%%\n",
      "Finished\n"
     ]
    }
   ],
   "source": [
    "inputs=create_community(inputs)\n"
   ]
  },
  {
   "cell_type": "code",
   "execution_count": 85,
   "metadata": {},
   "outputs": [
    {
     "name": "stdout",
     "output_type": "stream",
     "text": [
      "0.07    4.32\n",
      "0.1     5.13\n",
      "0.13    7.83\n",
      "0.16    8.46\n",
      "0.19    8.73\n",
      "0.22    8.82\n",
      "0.25    8.64\n",
      "0.28    8.91\n",
      "Name: 0.95, dtype: float64\n"
     ]
    }
   ],
   "source": [
    "inputs=price_probability(inputs)"
   ]
  },
  {
   "cell_type": "code",
   "execution_count": 89,
   "metadata": {},
   "outputs": [
    {
     "name": "stdout",
     "output_type": "stream",
     "text": [
      "################################################\n",
      "Creating the community\n",
      "%%%%%%%%%%%%%%%%%%%%%%%\n",
      "Loading PV combinations\n",
      "%%%%%%%%%%%%%%%%%%%%%%%\n",
      "Loading demand\n",
      "%%%%%%%%%%%%%%%%%%%%%%%\n",
      "Creating distributions\n",
      "%%%%%%%%%%%%%%%%%%%%%%%\n",
      "Assingning PV to households\n",
      "bla\n",
      "%%%%%%%%%%%%%%%%%%%%%%%\n",
      "Finished\n",
      "0.07    4.32\n",
      "0.1     5.13\n",
      "0.13    7.83\n",
      "0.16    8.46\n",
      "0.19    8.73\n",
      "0.22    8.82\n",
      "0.25    8.64\n",
      "0.28    8.91\n",
      "Name: 0.95, dtype: float64\n",
      "################################################\n",
      "Simulation begins\n",
      "################################################\n",
      "Creating the community\n",
      "%%%%%%%%%%%%%%%%%%%%%%%\n",
      "Loading PV combinations\n",
      "%%%%%%%%%%%%%%%%%%%%%%%\n",
      "Loading demand\n",
      "%%%%%%%%%%%%%%%%%%%%%%%\n",
      "Creating distributions\n",
      "%%%%%%%%%%%%%%%%%%%%%%%\n",
      "Assingning PV to households\n",
      "bla\n",
      "%%%%%%%%%%%%%%%%%%%%%%%\n",
      "Finished\n",
      "0.07     8.64\n",
      "0.1     10.26\n",
      "0.13    15.66\n",
      "0.16    16.92\n",
      "0.19    17.46\n",
      "0.22    17.64\n",
      "0.25    17.28\n",
      "0.28    17.82\n",
      "Name: 0.95, dtype: float64\n",
      "################################################\n",
      "Simulation begins\n",
      "################################################\n",
      "Creating the community\n",
      "%%%%%%%%%%%%%%%%%%%%%%%\n",
      "Loading PV combinations\n",
      "%%%%%%%%%%%%%%%%%%%%%%%\n",
      "Loading demand\n",
      "%%%%%%%%%%%%%%%%%%%%%%%\n",
      "Creating distributions\n",
      "%%%%%%%%%%%%%%%%%%%%%%%\n",
      "Assingning PV to households\n",
      "bla\n",
      "%%%%%%%%%%%%%%%%%%%%%%%\n",
      "Finished\n",
      "0.07    12.96\n",
      "0.1     15.39\n",
      "0.13    23.49\n",
      "0.16    25.38\n",
      "0.19    26.19\n",
      "0.22    26.46\n",
      "0.25    25.92\n",
      "0.28    26.73\n",
      "Name: 0.95, dtype: float64\n",
      "################################################\n",
      "Simulation begins\n",
      "################################################\n",
      "Creating the community\n",
      "%%%%%%%%%%%%%%%%%%%%%%%\n",
      "Loading PV combinations\n",
      "%%%%%%%%%%%%%%%%%%%%%%%\n",
      "Loading demand\n",
      "%%%%%%%%%%%%%%%%%%%%%%%\n",
      "Creating distributions\n",
      "%%%%%%%%%%%%%%%%%%%%%%%\n",
      "Assingning PV to households\n",
      "%%%%%%%%%%%%%%%%%%%%%%%\n",
      "Finished\n",
      "0.07    17.76\n",
      "0.1     21.09\n",
      "0.13    32.19\n",
      "0.16    34.78\n",
      "0.19    35.89\n",
      "0.22    36.26\n",
      "0.25    35.52\n",
      "0.28    36.63\n",
      "Name: 0.95, dtype: float64\n",
      "################################################\n",
      "Simulation begins\n",
      "################################################\n",
      "Simulation ends\n"
     ]
    }
   ],
   "source": [
    "p=[]\n",
    "qs=[]\n",
    "for i in range(4):\n",
    "    Batt_penetration=.25*(i+1)\n",
    "\n",
    "    inputs={'Conv_eff':Conv_eff, 'Inv_eff':Inv_eff,'prices':prices,'Batt':Batt,'PV_penetration':PV_penetration,\n",
    "                   'Batt_penetration':Batt_penetration,'prob_choice':prob_choice,'kWh_dis':kWh_dis,'case':case,'reso':reso,'path':path,'day_sel':day_sel}\n",
    "    inputs=create_community(inputs)\n",
    "    inputs=price_probability(inputs)\n",
    "    #inputs=Price_definition(prices,PV_penetration,Batt_penetration,reso,path,day_sel)\n",
    "\n",
    "    system_param={'Batt':Batt,'Conv_eff':Conv_eff,'Inv_eff':Inv_eff,'endo':endo,'day_sel':day_sel,'path':path}\n",
    "\n",
    "    print('################################################')\n",
    "    print('Simulation begins')\n",
    "    #inputs['df_prices'].groupby(inputs['df_prices'].index.hour).mean().plot()\n",
    "    p.append(inputs['df_prices'].groupby(inputs['df_prices'].index.hour).mean().values)\n",
    "    #qs.append(inputs['q_supply'].values)\n",
    "#pd.DataFrame(np.array(p).reshape(3,24).T).plot()\n",
    "print('################################################')\n",
    "print('Simulation ends')"
   ]
  },
  {
   "cell_type": "code",
   "execution_count": 90,
   "metadata": {},
   "outputs": [
    {
     "data": {
      "text/plain": [
       "array([0.27712329, 0.24868493, 0.20052055, 0.18342466, 0.18884932,\n",
       "       0.20726027, 0.23438356, 0.23578082, 0.19986301, 0.15712329,\n",
       "       0.12063014, 0.10246575, 0.09589041, 0.09630137, 0.10016438,\n",
       "       0.11808219, 0.16024658, 0.19123288, 0.18441096, 0.22780822,\n",
       "       0.2710411 , 0.27934247, 0.27967123, 0.23890411])"
      ]
     },
     "execution_count": 90,
     "metadata": {},
     "output_type": "execute_result"
    }
   ],
   "source": [
    "inputs['df_prices'].groupby(inputs['df_prices'].index.hour).mean().values.flatten()"
   ]
  },
  {
   "cell_type": "code",
   "execution_count": 91,
   "metadata": {},
   "outputs": [
    {
     "data": {
      "text/plain": [
       "<Figure size 720x720 with 0 Axes>"
      ]
     },
     "metadata": {},
     "output_type": "display_data"
    },
    {
     "data": {
      "image/png": "[encoded data removed]",
      "text/plain": [
       "<Figure size 432x288 with 1 Axes>"
      ]
     },
     "metadata": {},
     "output_type": "display_data"
    }
   ],
   "source": [
    "plt.figure(figsize=(10,10))\n",
    "\n",
    "pd.DataFrame(np.array(p).reshape(4,24).T,columns=['25%','50%','75%','100%']).plot()\n",
    "plt.title('Prices according to battery penetration')\n",
    "plt.xlabel('Hour')\n",
    "plt.ylabel('Electricity price [USD/kWh]')\n",
    "plt.savefig('prices.png')"
   ]
  },
  {
   "cell_type": "code",
   "execution_count": 58,
   "metadata": {},
   "outputs": [],
   "source": [
    "nd=inputs['df_demand'].sum(axis=1)-inputs['df_generation'].sum(axis=1)"
   ]
  },
  {
   "cell_type": "code",
   "execution_count": 59,
   "metadata": {},
   "outputs": [
    {
     "data": {
      "text/plain": [
       "<matplotlib.axes._subplots.AxesSubplot at 0x7f94418614a8>"
      ]
     },
     "execution_count": 59,
     "metadata": {},
     "output_type": "execute_result"
    },
    {
     "data": {
      "image/png": "[encoded data removed]",
      "text/plain": [
       "<Figure size 432x288 with 1 Axes>"
      ]
     },
     "metadata": {},
     "output_type": "display_data"
    }
   ],
   "source": [
    "nd.groupby(nd.index.hour).mean().plot()"
   ]
  },
  {
   "cell_type": "code",
   "execution_count": 60,
   "metadata": {},
   "outputs": [
    {
     "data": {
      "text/plain": [
       "[array([0.5957  , 0.635475, 1.8463  , 2.85825 , 3.691675, 4.644425,\n",
       "        5.63695 , 5.79605 ]),\n",
       " array([ 1.1914 ,  1.27095,  3.6926 ,  5.7165 ,  7.38335,  9.28885,\n",
       "        11.2739 , 11.5921 ]),\n",
       " array([ 1.7871  ,  1.906425,  5.5389  ,  8.57475 , 11.075025, 13.933275,\n",
       "        16.91085 , 17.38815 ]),\n",
       " array([ 2.3828,  2.5419,  7.3852, 11.433 , 14.7667, 18.5777, 22.5478,\n",
       "        23.1842])]"
      ]
     },
     "execution_count": 60,
     "metadata": {},
     "output_type": "execute_result"
    }
   ],
   "source": [
    "qs"
   ]
  },
  {
   "cell_type": "code",
   "execution_count": 61,
   "metadata": {},
   "outputs": [
    {
     "data": {
      "text/plain": [
       "array([0.  , 0.07, 0.1 , 0.13, 0.16, 0.19, 0.22, 0.25, 0.28])"
      ]
     },
     "execution_count": 61,
     "metadata": {},
     "output_type": "execute_result"
    }
   ],
   "source": [
    "prices"
   ]
  },
  {
   "cell_type": "code",
   "execution_count": 62,
   "metadata": {},
   "outputs": [
    {
     "data": {
      "text/plain": [
       "array([[ 0.5957  ,  1.1914  ,  1.7871  ,  2.3828  ],\n",
       "       [ 0.635475,  1.27095 ,  1.906425,  2.5419  ],\n",
       "       [ 1.8463  ,  3.6926  ,  5.5389  ,  7.3852  ],\n",
       "       [ 2.85825 ,  5.7165  ,  8.57475 , 11.433   ],\n",
       "       [ 3.691675,  7.38335 , 11.075025, 14.7667  ],\n",
       "       [ 4.644425,  9.28885 , 13.933275, 18.5777  ],\n",
       "       [ 5.63695 , 11.2739  , 16.91085 , 22.5478  ],\n",
       "       [ 5.79605 , 11.5921  , 17.38815 , 23.1842  ]])"
      ]
     },
     "execution_count": 62,
     "metadata": {},
     "output_type": "execute_result"
    }
   ],
   "source": [
    "np.array(qs).reshape(4,8).T"
   ]
  },
  {
   "cell_type": "code",
   "execution_count": 63,
   "metadata": {},
   "outputs": [
    {
     "data": {
      "text/html": [
       "<div>\n",
       "<style scoped>\n",
       "    .dataframe tbody tr th:only-of-type {\n",
       "        vertical-align: middle;\n",
       "    }\n",
       "\n",
       "    .dataframe tbody tr th {\n",
       "        vertical-align: top;\n",
       "    }\n",
       "\n",
       "    .dataframe thead th {\n",
       "        text-align: right;\n",
       "    }\n",
       "</style>\n",
       "<table border=\"1\" class=\"dataframe\">\n",
       "  <thead>\n",
       "    <tr style=\"text-align: right;\">\n",
       "      <th></th>\n",
       "      <th>0.07</th>\n",
       "      <th>0.1</th>\n",
       "      <th>0.13</th>\n",
       "      <th>0.16</th>\n",
       "      <th>0.19</th>\n",
       "      <th>0.22</th>\n",
       "      <th>0.25</th>\n",
       "      <th>0.28</th>\n",
       "    </tr>\n",
       "  </thead>\n",
       "  <tbody>\n",
       "    <tr>\n",
       "      <th>0</th>\n",
       "      <td>0.5957</td>\n",
       "      <td>0.635475</td>\n",
       "      <td>1.8463</td>\n",
       "      <td>2.85825</td>\n",
       "      <td>3.691675</td>\n",
       "      <td>4.644425</td>\n",
       "      <td>5.63695</td>\n",
       "      <td>5.79605</td>\n",
       "    </tr>\n",
       "    <tr>\n",
       "      <th>1</th>\n",
       "      <td>1.1914</td>\n",
       "      <td>1.270950</td>\n",
       "      <td>3.6926</td>\n",
       "      <td>5.71650</td>\n",
       "      <td>7.383350</td>\n",
       "      <td>9.288850</td>\n",
       "      <td>11.27390</td>\n",
       "      <td>11.59210</td>\n",
       "    </tr>\n",
       "    <tr>\n",
       "      <th>2</th>\n",
       "      <td>1.7871</td>\n",
       "      <td>1.906425</td>\n",
       "      <td>5.5389</td>\n",
       "      <td>8.57475</td>\n",
       "      <td>11.075025</td>\n",
       "      <td>13.933275</td>\n",
       "      <td>16.91085</td>\n",
       "      <td>17.38815</td>\n",
       "    </tr>\n",
       "    <tr>\n",
       "      <th>3</th>\n",
       "      <td>2.3828</td>\n",
       "      <td>2.541900</td>\n",
       "      <td>7.3852</td>\n",
       "      <td>11.43300</td>\n",
       "      <td>14.766700</td>\n",
       "      <td>18.577700</td>\n",
       "      <td>22.54780</td>\n",
       "      <td>23.18420</td>\n",
       "    </tr>\n",
       "  </tbody>\n",
       "</table>\n",
       "</div>"
      ],
      "text/plain": [
       "     0.07      0.10    0.13      0.16       0.19       0.22      0.25  \\\n",
       "0  0.5957  0.635475  1.8463   2.85825   3.691675   4.644425   5.63695   \n",
       "1  1.1914  1.270950  3.6926   5.71650   7.383350   9.288850  11.27390   \n",
       "2  1.7871  1.906425  5.5389   8.57475  11.075025  13.933275  16.91085   \n",
       "3  2.3828  2.541900  7.3852  11.43300  14.766700  18.577700  22.54780   \n",
       "\n",
       "       0.28  \n",
       "0   5.79605  \n",
       "1  11.59210  \n",
       "2  17.38815  \n",
       "3  23.18420  "
      ]
     },
     "execution_count": 63,
     "metadata": {},
     "output_type": "execute_result"
    }
   ],
   "source": [
    "pd.DataFrame(np.array(qs).reshape(4,8).T,index=prices[1:]).T"
   ]
  },
  {
   "cell_type": "code",
   "execution_count": 64,
   "metadata": {},
   "outputs": [
    {
     "data": {
      "text/plain": [
       "[array([0.5957  , 0.635475, 1.8463  , 2.85825 , 3.691675, 4.644425,\n",
       "        5.63695 , 5.79605 ]),\n",
       " array([ 1.1914 ,  1.27095,  3.6926 ,  5.7165 ,  7.38335,  9.28885,\n",
       "        11.2739 , 11.5921 ]),\n",
       " array([ 1.7871  ,  1.906425,  5.5389  ,  8.57475 , 11.075025, 13.933275,\n",
       "        16.91085 , 17.38815 ]),\n",
       " array([ 2.3828,  2.5419,  7.3852, 11.433 , 14.7667, 18.5777, 22.5478,\n",
       "        23.1842])]"
      ]
     },
     "execution_count": 64,
     "metadata": {},
     "output_type": "execute_result"
    }
   ],
   "source": [
    "qs"
   ]
  },
  {
   "cell_type": "code",
   "execution_count": 65,
   "metadata": {},
   "outputs": [
    {
     "data": {
      "text/plain": [
       "array([[ 0.      ,  0.      ,  0.      ,  0.      ],\n",
       "       [ 0.5957  ,  1.1914  ,  1.7871  ,  2.3828  ],\n",
       "       [ 0.635475,  1.27095 ,  1.906425,  2.5419  ],\n",
       "       [ 1.8463  ,  3.6926  ,  5.5389  ,  7.3852  ],\n",
       "       [ 2.85825 ,  5.7165  ,  8.57475 , 11.433   ],\n",
       "       [ 3.691675,  7.38335 , 11.075025, 14.7667  ],\n",
       "       [ 4.644425,  9.28885 , 13.933275, 18.5777  ],\n",
       "       [ 5.63695 , 11.2739  , 16.91085 , 22.5478  ],\n",
       "       [ 5.79605 , 11.5921  , 17.38815 , 23.1842  ]])"
      ]
     },
     "execution_count": 65,
     "metadata": {},
     "output_type": "execute_result"
    }
   ],
   "source": [
    "np.insert(np.array(qs).reshape(4,8).T,0,values=[0,0,0,0],axis=0)"
   ]
  },
  {
   "cell_type": "code",
   "execution_count": 66,
   "metadata": {},
   "outputs": [
    {
     "data": {
      "image/png": "[encoded data removed]",
      "text/plain": [
       "<Figure size 432x288 with 1 Axes>"
      ]
     },
     "metadata": {},
     "output_type": "display_data"
    }
   ],
   "source": [
    "plt.plot(np.insert(np.array(qs).reshape(4,8).T,0,values=[0,0,0,0],axis=0),prices)\n",
    "labels=['25%','50%','75%','100%']\n",
    "plt.legend(labels)\n",
    "plt.xlabel('Quantity of battery supply [kWh]')\n",
    "plt.ylabel('Electricity price [USD/kWh]')\n",
    "plt.title('Supply curve according to battery penetration')\n",
    "plt.savefig('QP.png')"
   ]
  },
  {
   "cell_type": "code",
   "execution_count": 36,
   "metadata": {},
   "outputs": [
    {
     "data": {
      "text/plain": [
       "38.45785"
      ]
     },
     "execution_count": 36,
     "metadata": {},
     "output_type": "execute_result"
    }
   ],
   "source": [
    "nd[1]"
   ]
  },
  {
   "cell_type": "code",
   "execution_count": null,
   "metadata": {},
   "outputs": [],
   "source": []
  },
  {
   "cell_type": "code",
   "execution_count": 37,
   "metadata": {},
   "outputs": [
    {
     "ename": "ValueError",
     "evalue": "cannot reshape array of size 8760 into shape (4,24)",
     "output_type": "error",
     "traceback": [
      "\u001b[0;31m---------------------------------------------------------------------------\u001b[0m",
      "\u001b[0;31mValueError\u001b[0m                                Traceback (most recent call last)",
      "\u001b[0;32m<ipython-input-37-7c6888ec19ea>\u001b[0m in \u001b[0;36m<module>\u001b[0;34m()\u001b[0m\n\u001b[0;32m----> 1\u001b[0;31m \u001b[0mpd\u001b[0m\u001b[0;34m.\u001b[0m\u001b[0mDataFrame\u001b[0m\u001b[0;34m(\u001b[0m\u001b[0mnp\u001b[0m\u001b[0;34m.\u001b[0m\u001b[0marray\u001b[0m\u001b[0;34m(\u001b[0m\u001b[0mnd\u001b[0m\u001b[0;34m)\u001b[0m\u001b[0;34m.\u001b[0m\u001b[0mreshape\u001b[0m\u001b[0;34m(\u001b[0m\u001b[0;36m4\u001b[0m\u001b[0;34m,\u001b[0m\u001b[0;36m24\u001b[0m\u001b[0;34m)\u001b[0m\u001b[0;34m.\u001b[0m\u001b[0mT\u001b[0m\u001b[0;34m,\u001b[0m\u001b[0mcolumns\u001b[0m\u001b[0;34m=\u001b[0m\u001b[0;34m[\u001b[0m\u001b[0;34m'0.25'\u001b[0m\u001b[0;34m,\u001b[0m\u001b[0;34m'0.5'\u001b[0m\u001b[0;34m,\u001b[0m\u001b[0;34m'0.75'\u001b[0m\u001b[0;34m,\u001b[0m\u001b[0;34m'1.0'\u001b[0m\u001b[0;34m]\u001b[0m\u001b[0;34m)\u001b[0m\u001b[0;34m.\u001b[0m\u001b[0mplot\u001b[0m\u001b[0;34m(\u001b[0m\u001b[0;34m)\u001b[0m\u001b[0;34m\u001b[0m\u001b[0;34m\u001b[0m\u001b[0m\n\u001b[0m",
      "\u001b[0;31mValueError\u001b[0m: cannot reshape array of size 8760 into shape (4,24)"
     ]
    }
   ],
   "source": [
    "pd.DataFrame(np.array(nd).reshape(4,24).T,columns=['0.25','0.5','0.75','1.0']).plot()"
   ]
  },
  {
   "cell_type": "code",
   "execution_count": 431,
   "metadata": {},
   "outputs": [],
   "source": [
    "#p=[]\n",
    "p.append(inputs['df_prices'].groupby(inputs['df_prices'].index.hour).mean().values)\n"
   ]
  },
  {
   "cell_type": "code",
   "execution_count": 472,
   "metadata": {},
   "outputs": [
    {
     "data": {
      "text/plain": [
       "<matplotlib.axes._subplots.AxesSubplot at 0x7fe0b6fa6c18>"
      ]
     },
     "execution_count": 472,
     "metadata": {},
     "output_type": "execute_result"
    },
    {
     "data": {
      "image/png": "[encoded data removed]",
      "text/plain": [
       "<Figure size 432x288 with 1 Axes>"
      ]
     },
     "metadata": {},
     "output_type": "display_data"
    }
   ],
   "source": [
    "pd.DataFrame(np.array(nd).reshape(4,24).T).plot()"
   ]
  },
  {
   "cell_type": "code",
   "execution_count": null,
   "metadata": {},
   "outputs": [],
   "source": []
  },
  {
   "cell_type": "code",
   "execution_count": 376,
   "metadata": {},
   "outputs": [
    {
     "data": {
      "text/plain": [
       "<matplotlib.axes._subplots.AxesSubplot at 0x7fe076ebb908>"
      ]
     },
     "execution_count": 376,
     "metadata": {},
     "output_type": "execute_result"
    },
    {
     "data": {
      "image/png": "[encoded data removed]",
      "text/plain": [
       "<Figure size 432x288 with 1 Axes>"
      ]
     },
     "metadata": {},
     "output_type": "display_data"
    }
   ],
   "source": [
    "inputs['df_prices'].groupby(inputs['df_prices'].index.hour).mean().plot()"
   ]
  },
  {
   "cell_type": "code",
   "execution_count": 295,
   "metadata": {},
   "outputs": [
    {
     "name": "stdout",
     "output_type": "stream",
     "text": [
      "################################################\n",
      "Simulating without community exchange\n",
      "demand           346695.14\n",
      "gen              175392.31\n",
      "SOC                3580.37\n",
      "PV_batt             260.73\n",
      "PV_load             232.84\n",
      "PV_grid              96.70\n",
      "E_dis               328.31\n",
      "Batt_load           311.89\n",
      "Batt_grid             0.00\n",
      "grid_load        265316.87\n",
      "PV_losses            29.74\n",
      "Batt_losses          37.80\n",
      "flag                  0.00\n",
      "type             315360.00\n",
      "df             23660760.00\n",
      "prices           145312.32\n",
      "dtype: float64\n",
      "End of simulation without community exchange\n",
      "###################################################\n",
      "################################################\n",
      "Simulation with community exchange\n"
     ]
    }
   ],
   "source": [
    "df_no_comm=no_community_approach(inputs,system_param)"
   ]
  },
  {
   "cell_type": "code",
   "execution_count": 297,
   "metadata": {},
   "outputs": [
    {
     "data": {
      "text/plain": [
       "2.278659917218304"
      ]
     },
     "execution_count": 297,
     "metadata": {},
     "output_type": "execute_result"
    }
   ],
   "source": [
    "7900/346695*100"
   ]
  },
  {
   "cell_type": "code",
   "execution_count": 418,
   "metadata": {},
   "outputs": [],
   "source": [
    "Batt_penetration=1.0\n",
    "probs_applied=3\n",
    "\n",
    "df_no_comm=pd.read_csv(path+'Output/no_community_{}_{}_{}.csv'.format(PV_penetration,Batt_penetration,probs_applied),encoding='utf8', sep=',',header=0,\n",
    "    engine='python',date_parser=lambda col: pd.to_datetime(col, utc=True), parse_dates=[1],infer_datetime_format=True,index_col=0,\n",
    "names=['index','date','demand','gen','SOC','PV_batt', 'PV_load', 'PV_grid', 'E_dis','Batt_load','Batt_grid','grid_load','PV_losses','Batt_losses','flag','type','df','prices'])\n",
    "df_no_comm.loc[:,'date'] =pd.DatetimeIndex(df_no_comm.loc[:,'date']).tz_convert('CET')\n",
    "#df_no_comm.loc[:,'date'].dt.hour\n",
    "\n",
    "df_comm=pd.read_csv(path+'Output/community_{}_{}_{}.csv'.format(PV_penetration,Batt_penetration,probs_applied),encoding='utf8', sep=',',header=0,\n",
    "    engine='python',date_parser=lambda col: pd.to_datetime(col, utc=True), parse_dates=[1],infer_datetime_format=True,index_col=0,\n",
    "                    names=['index','date','demand','gen','SOC','PV_batt', 'PV_load', 'PV_comm', 'E_dis','Batt_load','Batt_comm','comm_load','PV_losses','Batt_losses','flag','type','df','prices'])\n",
    "\n",
    "df_comm.loc[:,'date'] =pd.DatetimeIndex(df_comm.loc[:,'date']).tz_convert('CET')\n"
   ]
  },
  {
   "cell_type": "code",
   "execution_count": 411,
   "metadata": {},
   "outputs": [
    {
     "data": {
      "text/plain": [
       "Batt_comm    6.114168\n",
       "dtype: float64"
      ]
     },
     "execution_count": 411,
     "metadata": {},
     "output_type": "execute_result"
    }
   ],
   "source": [
    "df_comm.loc[:,['Batt_comm']].sum()/df_comm.loc[:,['demand']].sum().values*100"
   ]
  },
  {
   "cell_type": "code",
   "execution_count": 531,
   "metadata": {},
   "outputs": [
    {
     "data": {
      "text/plain": [
       "PV_comm    0.948342\n",
       "dtype: float64"
      ]
     },
     "execution_count": 531,
     "metadata": {},
     "output_type": "execute_result"
    }
   ],
   "source": [
    "\n",
    "df_comm[df_comm.flag==4].loc[:,['PV_comm']].max()"
   ]
  },
  {
   "cell_type": "code",
   "execution_count": 532,
   "metadata": {},
   "outputs": [
    {
     "data": {
      "text/plain": [
       "[]"
      ]
     },
     "execution_count": 532,
     "metadata": {},
     "output_type": "execute_result"
    }
   ],
   "source": [
    "df"
   ]
  },
  {
   "cell_type": "code",
   "execution_count": 419,
   "metadata": {},
   "outputs": [
    {
     "data": {
      "text/plain": [
       "flag\n",
       "0.0    595213.0\n",
       "1.0     46763.0\n",
       "2.0      3934.0\n",
       "3.0       208.0\n",
       "4.0      2122.0\n",
       "dtype: float64"
      ]
     },
     "execution_count": 419,
     "metadata": {},
     "output_type": "execute_result"
    }
   ],
   "source": [
    "df_comm.pivot_table(columns='flag',index='date',aggfunc='size').sum()"
   ]
  },
  {
   "cell_type": "code",
   "execution_count": 560,
   "metadata": {},
   "outputs": [],
   "source": [
    "import Psycho_paper_community as ppc\n",
    "import paper_classes_2 as pp"
   ]
  },
  {
   "cell_type": "code",
   "execution_count": 561,
   "metadata": {},
   "outputs": [],
   "source": [
    "df1=df_comm[df_comm.df==0].loc[:,['date','demand','gen','prices']]"
   ]
  },
  {
   "cell_type": "code",
   "execution_count": 562,
   "metadata": {},
   "outputs": [
    {
     "data": {
      "text/html": [
       "<div>\n",
       "<style scoped>\n",
       "    .dataframe tbody tr th:only-of-type {\n",
       "        vertical-align: middle;\n",
       "    }\n",
       "\n",
       "    .dataframe tbody tr th {\n",
       "        vertical-align: top;\n",
       "    }\n",
       "\n",
       "    .dataframe thead th {\n",
       "        text-align: right;\n",
       "    }\n",
       "</style>\n",
       "<table border=\"1\" class=\"dataframe\">\n",
       "  <thead>\n",
       "    <tr style=\"text-align: right;\">\n",
       "      <th></th>\n",
       "      <th>date</th>\n",
       "      <th>demand</th>\n",
       "      <th>gen</th>\n",
       "      <th>prices</th>\n",
       "    </tr>\n",
       "    <tr>\n",
       "      <th>index</th>\n",
       "      <th></th>\n",
       "      <th></th>\n",
       "      <th></th>\n",
       "      <th></th>\n",
       "    </tr>\n",
       "  </thead>\n",
       "  <tbody>\n",
       "    <tr>\n",
       "      <th>0</th>\n",
       "      <td>2015-01-01 00:00:00+01:00</td>\n",
       "      <td>0.143233</td>\n",
       "      <td>0.0</td>\n",
       "      <td>0.28</td>\n",
       "    </tr>\n",
       "    <tr>\n",
       "      <th>1</th>\n",
       "      <td>2015-01-01 01:00:00+01:00</td>\n",
       "      <td>0.173217</td>\n",
       "      <td>0.0</td>\n",
       "      <td>0.28</td>\n",
       "    </tr>\n",
       "    <tr>\n",
       "      <th>2</th>\n",
       "      <td>2015-01-01 02:00:00+01:00</td>\n",
       "      <td>0.146900</td>\n",
       "      <td>0.0</td>\n",
       "      <td>0.28</td>\n",
       "    </tr>\n",
       "    <tr>\n",
       "      <th>3</th>\n",
       "      <td>2015-01-01 03:00:00+01:00</td>\n",
       "      <td>0.162667</td>\n",
       "      <td>0.0</td>\n",
       "      <td>0.28</td>\n",
       "    </tr>\n",
       "    <tr>\n",
       "      <th>4</th>\n",
       "      <td>2015-01-01 04:00:00+01:00</td>\n",
       "      <td>0.162200</td>\n",
       "      <td>0.0</td>\n",
       "      <td>0.28</td>\n",
       "    </tr>\n",
       "  </tbody>\n",
       "</table>\n",
       "</div>"
      ],
      "text/plain": [
       "                           date    demand  gen  prices\n",
       "index                                                 \n",
       "0     2015-01-01 00:00:00+01:00  0.143233  0.0    0.28\n",
       "1     2015-01-01 01:00:00+01:00  0.173217  0.0    0.28\n",
       "2     2015-01-01 02:00:00+01:00  0.146900  0.0    0.28\n",
       "3     2015-01-01 03:00:00+01:00  0.162667  0.0    0.28\n",
       "4     2015-01-01 04:00:00+01:00  0.162200  0.0    0.28"
      ]
     },
     "execution_count": 562,
     "metadata": {},
     "output_type": "execute_result"
    }
   ],
   "source": [
    "df1.head()"
   ]
  },
  {
   "cell_type": "code",
   "execution_count": 563,
   "metadata": {},
   "outputs": [],
   "source": [
    "df1 = df1.reindex( columns = df1.columns.tolist() + ['SOC','PV_batt', 'PV_load', 'PV_grid', 'E_dis','Batt_load','Batt_grid','grid_load','PV_losses','Batt_losses','flag','type','df']) "
   ]
  },
  {
   "cell_type": "code",
   "execution_count": 564,
   "metadata": {},
   "outputs": [],
   "source": [
    "df1.fillna(0, inplace=True)"
   ]
  },
  {
   "cell_type": "code",
   "execution_count": 565,
   "metadata": {},
   "outputs": [],
   "source": [
    "Batt=pp.Battery(Capacity=10,choicetype='LFP')"
   ]
  },
  {
   "cell_type": "code",
   "execution_count": 579,
   "metadata": {},
   "outputs": [
    {
     "name": "stderr",
     "output_type": "stream",
     "text": [
      "/data/home/alejandropena/Psychology/Psycho_paper_community.py:144: SettingWithCopyWarning: \n",
      "A value is trying to be set on a copy of a slice from a DataFrame\n",
      "\n",
      "See the caveats in the documentation: http://pandas.pydata.org/pandas-docs/stable/indexing.html#indexing-view-versus-copy\n",
      "  df.grid_load[i]=df.demand[i]-df.gen[i]*Conv_eff*Inv_eff\n",
      "/opt/miniconda3/lib/python3.6/site-packages/ipykernel_launcher.py:2: SettingWithCopyWarning: \n",
      "A value is trying to be set on a copy of a slice from a DataFrame\n",
      "\n",
      "See the caveats in the documentation: http://pandas.pydata.org/pandas-docs/stable/indexing.html#indexing-view-versus-copy\n",
      "  \n",
      "/data/home/alejandropena/Psychology/Psycho_paper_community.py:157: SettingWithCopyWarning: \n",
      "A value is trying to be set on a copy of a slice from a DataFrame\n",
      "\n",
      "See the caveats in the documentation: http://pandas.pydata.org/pandas-docs/stable/indexing.html#indexing-view-versus-copy\n",
      "  df.E_dis[i]=0\n",
      "/data/home/alejandropena/Psychology/Psycho_paper_community.py:158: SettingWithCopyWarning: \n",
      "A value is trying to be set on a copy of a slice from a DataFrame\n",
      "\n",
      "See the caveats in the documentation: http://pandas.pydata.org/pandas-docs/stable/indexing.html#indexing-view-versus-copy\n",
      "  df.Batt_load[i]=df.E_dis[i]*Inv_eff\n",
      "/data/home/alejandropena/Psychology/Psycho_paper_community.py:159: SettingWithCopyWarning: \n",
      "A value is trying to be set on a copy of a slice from a DataFrame\n",
      "\n",
      "See the caveats in the documentation: http://pandas.pydata.org/pandas-docs/stable/indexing.html#indexing-view-versus-copy\n",
      "  df.grid_load[i]=df.demand[i]-df.gen[i]*Conv_eff*Inv_eff#-df.Batt_load[i], is zero\n",
      "/data/home/alejandropena/Psychology/Psycho_paper_community.py:160: SettingWithCopyWarning: \n",
      "A value is trying to be set on a copy of a slice from a DataFrame\n",
      "\n",
      "See the caveats in the documentation: http://pandas.pydata.org/pandas-docs/stable/indexing.html#indexing-view-versus-copy\n",
      "  df.PV_load[i]=df.gen[i]*Conv_eff*Inv_eff\n",
      "/data/home/alejandropena/Psychology/Psycho_paper_community.py:161: SettingWithCopyWarning: \n",
      "A value is trying to be set on a copy of a slice from a DataFrame\n",
      "\n",
      "See the caveats in the documentation: http://pandas.pydata.org/pandas-docs/stable/indexing.html#indexing-view-versus-copy\n",
      "  df.SOC[i]=df.SOC[i-1]\n",
      "/data/home/alejandropena/Psychology/Psycho_paper_community.py:162: SettingWithCopyWarning: \n",
      "A value is trying to be set on a copy of a slice from a DataFrame\n",
      "\n",
      "See the caveats in the documentation: http://pandas.pydata.org/pandas-docs/stable/indexing.html#indexing-view-versus-copy\n",
      "  df.PV_losses[i]=df.gen[i]*(1-Conv_eff*Inv_eff)\n",
      "/data/home/alejandropena/Psychology/Psycho_paper_community.py:168: SettingWithCopyWarning: \n",
      "A value is trying to be set on a copy of a slice from a DataFrame\n",
      "\n",
      "See the caveats in the documentation: http://pandas.pydata.org/pandas-docs/stable/indexing.html#indexing-view-versus-copy\n",
      "  df.PV_load[i]=df.demand[i]#First, cover local demand (after inverter)\n",
      "/data/home/alejandropena/Psychology/Psycho_paper_community.py:171: SettingWithCopyWarning: \n",
      "A value is trying to be set on a copy of a slice from a DataFrame\n",
      "\n",
      "See the caveats in the documentation: http://pandas.pydata.org/pandas-docs/stable/indexing.html#indexing-view-versus-copy\n",
      "  (Batt.SOC_max-df.SOC[i-1])*Conv_eff)\n",
      "/data/home/alejandropena/Psychology/Psycho_paper_community.py:172: SettingWithCopyWarning: \n",
      "A value is trying to be set on a copy of a slice from a DataFrame\n",
      "\n",
      "See the caveats in the documentation: http://pandas.pydata.org/pandas-docs/stable/indexing.html#indexing-view-versus-copy\n",
      "  df.SOC[i]=df.SOC[i-1]+df.PV_batt[i]*Batt.Efficiency\n",
      "/data/home/alejandropena/Psychology/Psycho_paper_community.py:173: SettingWithCopyWarning: \n",
      "A value is trying to be set on a copy of a slice from a DataFrame\n",
      "\n",
      "See the caveats in the documentation: http://pandas.pydata.org/pandas-docs/stable/indexing.html#indexing-view-versus-copy\n",
      "  df.Batt_losses[i]=df.PV_batt[i]*(1-Batt.Efficiency)\n",
      "/data/home/alejandropena/Psychology/Psycho_paper_community.py:175: SettingWithCopyWarning: \n",
      "A value is trying to be set on a copy of a slice from a DataFrame\n",
      "\n",
      "See the caveats in the documentation: http://pandas.pydata.org/pandas-docs/stable/indexing.html#indexing-view-versus-copy\n",
      "  df.PV_grid[i]=(df.gen[i]*Conv_eff-df.PV_batt[i])*Inv_eff-df.PV_load[i]\n",
      "/data/home/alejandropena/Psychology/Psycho_paper_community.py:176: SettingWithCopyWarning: \n",
      "A value is trying to be set on a copy of a slice from a DataFrame\n",
      "\n",
      "See the caveats in the documentation: http://pandas.pydata.org/pandas-docs/stable/indexing.html#indexing-view-versus-copy\n",
      "  df.grid_load[i]=0\n",
      "/data/home/alejandropena/Psychology/Psycho_paper_community.py:182: SettingWithCopyWarning: \n",
      "A value is trying to be set on a copy of a slice from a DataFrame\n",
      "\n",
      "See the caveats in the documentation: http://pandas.pydata.org/pandas-docs/stable/indexing.html#indexing-view-versus-copy\n",
      "  df.PV_losses[i]=df.gen[i]-df.PV_grid[i]-df.PV_batt[i]-df.PV_load[i]\n",
      "/data/home/alejandropena/Psychology/Psycho_paper_community.py:148: SettingWithCopyWarning: \n",
      "A value is trying to be set on a copy of a slice from a DataFrame\n",
      "\n",
      "See the caveats in the documentation: http://pandas.pydata.org/pandas-docs/stable/indexing.html#indexing-view-versus-copy\n",
      "  (df.demand[i]-df.gen[i]*Conv_eff*Inv_eff)/Inv_eff)\n",
      "/data/home/alejandropena/Psychology/Psycho_paper_community.py:149: SettingWithCopyWarning: \n",
      "A value is trying to be set on a copy of a slice from a DataFrame\n",
      "\n",
      "See the caveats in the documentation: http://pandas.pydata.org/pandas-docs/stable/indexing.html#indexing-view-versus-copy\n",
      "  df.Batt_load[i]=df.E_dis[i]*Inv_eff#after inverter\n",
      "/data/home/alejandropena/Psychology/Psycho_paper_community.py:150: SettingWithCopyWarning: \n",
      "A value is trying to be set on a copy of a slice from a DataFrame\n",
      "\n",
      "See the caveats in the documentation: http://pandas.pydata.org/pandas-docs/stable/indexing.html#indexing-view-versus-copy\n",
      "  df.SOC[i]=df.SOC[i-1]-df.E_dis[i]\n",
      "/data/home/alejandropena/Psychology/Psycho_paper_community.py:151: SettingWithCopyWarning: \n",
      "A value is trying to be set on a copy of a slice from a DataFrame\n",
      "\n",
      "See the caveats in the documentation: http://pandas.pydata.org/pandas-docs/stable/indexing.html#indexing-view-versus-copy\n",
      "  df.Batt_losses[i]=df.E_dis[i]*(1-Inv_eff)#+inherent to the batt (eff)\n",
      "/data/home/alejandropena/Psychology/Psycho_paper_community.py:152: SettingWithCopyWarning: \n",
      "A value is trying to be set on a copy of a slice from a DataFrame\n",
      "\n",
      "See the caveats in the documentation: http://pandas.pydata.org/pandas-docs/stable/indexing.html#indexing-view-versus-copy\n",
      "  df.PV_load[i]=df.gen[i]*Conv_eff*Inv_eff#after inverter\n",
      "/data/home/alejandropena/Psychology/Psycho_paper_community.py:153: SettingWithCopyWarning: \n",
      "A value is trying to be set on a copy of a slice from a DataFrame\n",
      "\n",
      "See the caveats in the documentation: http://pandas.pydata.org/pandas-docs/stable/indexing.html#indexing-view-versus-copy\n",
      "  df.PV_losses[i]=df.gen[i]*(1-Conv_eff*Inv_eff)\n",
      "/data/home/alejandropena/Psychology/Psycho_paper_community.py:154: SettingWithCopyWarning: \n",
      "A value is trying to be set on a copy of a slice from a DataFrame\n",
      "\n",
      "See the caveats in the documentation: http://pandas.pydata.org/pandas-docs/stable/indexing.html#indexing-view-versus-copy\n",
      "  df.grid_load[i]=df.demand[i]-df.PV_load[i]-df.Batt_load[i]\n"
     ]
    }
   ],
   "source": [
    "\n",
    "df1 = df1.reindex( columns = df1.columns.tolist() + ['SOC','PV_batt', 'PV_load', 'PV_grid', 'E_dis','Batt_load','Batt_grid','grid_load','PV_losses','Batt_losses','flag','type','df']) \n",
    "df1.fillna(0, inplace=True)\n",
    "out_df=ppc.PV_SC(df1[:24],Batt=Batt,Conv_eff=0.8,Inv_eff=0.9,endo=24)"
   ]
  },
  {
   "cell_type": "code",
   "execution_count": 580,
   "metadata": {},
   "outputs": [
    {
     "data": {
      "text/plain": [
       "<matplotlib.axes._subplots.AxesSubplot at 0x7fe10ffd2b38>"
      ]
     },
     "execution_count": 580,
     "metadata": {},
     "output_type": "execute_result"
    },
    {
     "data": {
      "image/png": "[encoded data removed]",
      "text/plain": [
       "<Figure size 432x288 with 1 Axes>"
      ]
     },
     "metadata": {},
     "output_type": "display_data"
    }
   ],
   "source": [
    "out_df.demand.plot()\n",
    "out_df.gen.plot()\n",
    "(-out_df.PV_grid).plot()\n",
    "out_df.SOC.plot()\n",
    "(-out_df.grid_load).plot()\n"
   ]
  },
  {
   "cell_type": "code",
   "execution_count": 581,
   "metadata": {},
   "outputs": [
    {
     "data": {
      "text/plain": [
       "demand           5.289367\n",
       "gen             23.909665\n",
       "prices           5.310000\n",
       "SOC            117.429680\n",
       "PV_batt         10.618708\n",
       "PV_load          2.193277\n",
       "PV_grid          5.464845\n",
       "E_dis            1.897534\n",
       "Batt_load        1.707780\n",
       "Batt_grid        0.000000\n",
       "grid_load        1.388309\n",
       "PV_losses        5.632835\n",
       "Batt_losses      0.826876\n",
       "flag             0.000000\n",
       "type             0.000000\n",
       "df               0.000000\n",
       "dtype: float64"
      ]
     },
     "execution_count": 581,
     "metadata": {},
     "output_type": "execute_result"
    }
   ],
   "source": [
    "out_df.sum()"
   ]
  },
  {
   "cell_type": "code",
   "execution_count": 582,
   "metadata": {},
   "outputs": [
    {
     "data": {
      "text/plain": [
       "index\n",
       "0     0.0\n",
       "1     0.0\n",
       "2     0.0\n",
       "3     0.0\n",
       "4     0.0\n",
       "5     0.0\n",
       "6     0.0\n",
       "7     0.0\n",
       "8     0.0\n",
       "9     0.0\n",
       "10    0.0\n",
       "11    0.0\n",
       "12    0.0\n",
       "13    0.0\n",
       "14    0.0\n",
       "15    0.0\n",
       "16    0.0\n",
       "17    0.0\n",
       "18    0.0\n",
       "19    0.0\n",
       "20    0.0\n",
       "21    0.0\n",
       "22    0.0\n",
       "23    0.0\n",
       "dtype: float64"
      ]
     },
     "execution_count": 582,
     "metadata": {},
     "output_type": "execute_result"
    }
   ],
   "source": [
    "out_df.demand-out_df.PV_load-out_df.Batt_load-out_df.grid_load"
   ]
  },
  {
   "cell_type": "code",
   "execution_count": 583,
   "metadata": {},
   "outputs": [
    {
     "data": {
      "text/html": [
       "<div>\n",
       "<style scoped>\n",
       "    .dataframe tbody tr th:only-of-type {\n",
       "        vertical-align: middle;\n",
       "    }\n",
       "\n",
       "    .dataframe tbody tr th {\n",
       "        vertical-align: top;\n",
       "    }\n",
       "\n",
       "    .dataframe thead th {\n",
       "        text-align: right;\n",
       "    }\n",
       "</style>\n",
       "<table border=\"1\" class=\"dataframe\">\n",
       "  <thead>\n",
       "    <tr style=\"text-align: right;\">\n",
       "      <th></th>\n",
       "      <th>date</th>\n",
       "      <th>demand</th>\n",
       "      <th>gen</th>\n",
       "      <th>prices</th>\n",
       "      <th>SOC</th>\n",
       "      <th>PV_batt</th>\n",
       "      <th>PV_load</th>\n",
       "      <th>PV_grid</th>\n",
       "      <th>E_dis</th>\n",
       "      <th>Batt_load</th>\n",
       "      <th>Batt_grid</th>\n",
       "      <th>grid_load</th>\n",
       "      <th>PV_losses</th>\n",
       "      <th>Batt_losses</th>\n",
       "      <th>flag</th>\n",
       "      <th>type</th>\n",
       "      <th>df</th>\n",
       "    </tr>\n",
       "    <tr>\n",
       "      <th>index</th>\n",
       "      <th></th>\n",
       "      <th></th>\n",
       "      <th></th>\n",
       "      <th></th>\n",
       "      <th></th>\n",
       "      <th></th>\n",
       "      <th></th>\n",
       "      <th></th>\n",
       "      <th></th>\n",
       "      <th></th>\n",
       "      <th></th>\n",
       "      <th></th>\n",
       "      <th></th>\n",
       "      <th></th>\n",
       "      <th></th>\n",
       "      <th></th>\n",
       "      <th></th>\n",
       "    </tr>\n",
       "  </thead>\n",
       "  <tbody>\n",
       "    <tr>\n",
       "      <th>0</th>\n",
       "      <td>2015-01-01 00:00:00+01:00</td>\n",
       "      <td>0.143233</td>\n",
       "      <td>0.000000</td>\n",
       "      <td>0.28</td>\n",
       "      <td>0.000000</td>\n",
       "      <td>0.000000</td>\n",
       "      <td>0.000000</td>\n",
       "      <td>0.000000e+00</td>\n",
       "      <td>0.000000</td>\n",
       "      <td>0.000000</td>\n",
       "      <td>0.0</td>\n",
       "      <td>0.143233</td>\n",
       "      <td>0.000000</td>\n",
       "      <td>0.000000</td>\n",
       "      <td>0.0</td>\n",
       "      <td>0.0</td>\n",
       "      <td>0.0</td>\n",
       "    </tr>\n",
       "    <tr>\n",
       "      <th>1</th>\n",
       "      <td>2015-01-01 01:00:00+01:00</td>\n",
       "      <td>0.173217</td>\n",
       "      <td>0.000000</td>\n",
       "      <td>0.28</td>\n",
       "      <td>0.000000</td>\n",
       "      <td>0.000000</td>\n",
       "      <td>0.000000</td>\n",
       "      <td>0.000000e+00</td>\n",
       "      <td>0.000000</td>\n",
       "      <td>0.000000</td>\n",
       "      <td>0.0</td>\n",
       "      <td>0.173217</td>\n",
       "      <td>0.000000</td>\n",
       "      <td>0.000000</td>\n",
       "      <td>0.0</td>\n",
       "      <td>0.0</td>\n",
       "      <td>0.0</td>\n",
       "    </tr>\n",
       "    <tr>\n",
       "      <th>2</th>\n",
       "      <td>2015-01-01 02:00:00+01:00</td>\n",
       "      <td>0.146900</td>\n",
       "      <td>0.000000</td>\n",
       "      <td>0.28</td>\n",
       "      <td>0.000000</td>\n",
       "      <td>0.000000</td>\n",
       "      <td>0.000000</td>\n",
       "      <td>0.000000e+00</td>\n",
       "      <td>0.000000</td>\n",
       "      <td>0.000000</td>\n",
       "      <td>0.0</td>\n",
       "      <td>0.146900</td>\n",
       "      <td>0.000000</td>\n",
       "      <td>0.000000</td>\n",
       "      <td>0.0</td>\n",
       "      <td>0.0</td>\n",
       "      <td>0.0</td>\n",
       "    </tr>\n",
       "    <tr>\n",
       "      <th>3</th>\n",
       "      <td>2015-01-01 03:00:00+01:00</td>\n",
       "      <td>0.162667</td>\n",
       "      <td>0.000000</td>\n",
       "      <td>0.28</td>\n",
       "      <td>0.000000</td>\n",
       "      <td>0.000000</td>\n",
       "      <td>0.000000</td>\n",
       "      <td>0.000000e+00</td>\n",
       "      <td>0.000000</td>\n",
       "      <td>0.000000</td>\n",
       "      <td>0.0</td>\n",
       "      <td>0.162667</td>\n",
       "      <td>0.000000</td>\n",
       "      <td>0.000000</td>\n",
       "      <td>0.0</td>\n",
       "      <td>0.0</td>\n",
       "      <td>0.0</td>\n",
       "    </tr>\n",
       "    <tr>\n",
       "      <th>4</th>\n",
       "      <td>2015-01-01 04:00:00+01:00</td>\n",
       "      <td>0.162200</td>\n",
       "      <td>0.000000</td>\n",
       "      <td>0.28</td>\n",
       "      <td>0.000000</td>\n",
       "      <td>0.000000</td>\n",
       "      <td>0.000000</td>\n",
       "      <td>0.000000e+00</td>\n",
       "      <td>0.000000</td>\n",
       "      <td>0.000000</td>\n",
       "      <td>0.0</td>\n",
       "      <td>0.162200</td>\n",
       "      <td>0.000000</td>\n",
       "      <td>0.000000</td>\n",
       "      <td>0.0</td>\n",
       "      <td>0.0</td>\n",
       "      <td>0.0</td>\n",
       "    </tr>\n",
       "    <tr>\n",
       "      <th>5</th>\n",
       "      <td>2015-01-01 05:00:00+01:00</td>\n",
       "      <td>0.173000</td>\n",
       "      <td>0.000000</td>\n",
       "      <td>0.28</td>\n",
       "      <td>0.000000</td>\n",
       "      <td>0.000000</td>\n",
       "      <td>0.000000</td>\n",
       "      <td>0.000000e+00</td>\n",
       "      <td>0.000000</td>\n",
       "      <td>0.000000</td>\n",
       "      <td>0.0</td>\n",
       "      <td>0.173000</td>\n",
       "      <td>0.000000</td>\n",
       "      <td>0.000000</td>\n",
       "      <td>0.0</td>\n",
       "      <td>0.0</td>\n",
       "      <td>0.0</td>\n",
       "    </tr>\n",
       "    <tr>\n",
       "      <th>6</th>\n",
       "      <td>2015-01-01 06:00:00+01:00</td>\n",
       "      <td>0.136000</td>\n",
       "      <td>0.000000</td>\n",
       "      <td>0.28</td>\n",
       "      <td>0.000000</td>\n",
       "      <td>0.000000</td>\n",
       "      <td>0.000000</td>\n",
       "      <td>0.000000e+00</td>\n",
       "      <td>0.000000</td>\n",
       "      <td>0.000000</td>\n",
       "      <td>0.0</td>\n",
       "      <td>0.136000</td>\n",
       "      <td>0.000000</td>\n",
       "      <td>0.000000</td>\n",
       "      <td>0.0</td>\n",
       "      <td>0.0</td>\n",
       "      <td>0.0</td>\n",
       "    </tr>\n",
       "    <tr>\n",
       "      <th>7</th>\n",
       "      <td>2015-01-01 07:00:00+01:00</td>\n",
       "      <td>0.169467</td>\n",
       "      <td>0.000000</td>\n",
       "      <td>0.28</td>\n",
       "      <td>0.000000</td>\n",
       "      <td>0.000000</td>\n",
       "      <td>0.000000</td>\n",
       "      <td>0.000000e+00</td>\n",
       "      <td>0.000000</td>\n",
       "      <td>0.000000</td>\n",
       "      <td>0.0</td>\n",
       "      <td>0.169467</td>\n",
       "      <td>0.000000</td>\n",
       "      <td>0.000000</td>\n",
       "      <td>0.0</td>\n",
       "      <td>0.0</td>\n",
       "      <td>0.0</td>\n",
       "    </tr>\n",
       "    <tr>\n",
       "      <th>8</th>\n",
       "      <td>2015-01-01 08:00:00+01:00</td>\n",
       "      <td>0.166233</td>\n",
       "      <td>0.061955</td>\n",
       "      <td>0.28</td>\n",
       "      <td>0.000000</td>\n",
       "      <td>0.000000</td>\n",
       "      <td>0.044607</td>\n",
       "      <td>0.000000e+00</td>\n",
       "      <td>0.000000</td>\n",
       "      <td>0.000000</td>\n",
       "      <td>0.0</td>\n",
       "      <td>0.121626</td>\n",
       "      <td>0.017347</td>\n",
       "      <td>0.000000</td>\n",
       "      <td>0.0</td>\n",
       "      <td>0.0</td>\n",
       "      <td>0.0</td>\n",
       "    </tr>\n",
       "    <tr>\n",
       "      <th>9</th>\n",
       "      <td>2015-01-01 09:00:00+01:00</td>\n",
       "      <td>0.152467</td>\n",
       "      <td>0.820672</td>\n",
       "      <td>0.13</td>\n",
       "      <td>0.457902</td>\n",
       "      <td>0.487130</td>\n",
       "      <td>0.152467</td>\n",
       "      <td>0.000000e+00</td>\n",
       "      <td>0.000000</td>\n",
       "      <td>0.000000</td>\n",
       "      <td>0.0</td>\n",
       "      <td>0.000000</td>\n",
       "      <td>0.181075</td>\n",
       "      <td>0.029228</td>\n",
       "      <td>0.0</td>\n",
       "      <td>0.0</td>\n",
       "      <td>0.0</td>\n",
       "    </tr>\n",
       "    <tr>\n",
       "      <th>10</th>\n",
       "      <td>2015-01-01 10:00:00+01:00</td>\n",
       "      <td>0.160383</td>\n",
       "      <td>2.447381</td>\n",
       "      <td>0.07</td>\n",
       "      <td>2.130821</td>\n",
       "      <td>1.779701</td>\n",
       "      <td>0.160383</td>\n",
       "      <td>-5.551115e-17</td>\n",
       "      <td>0.000000</td>\n",
       "      <td>0.000000</td>\n",
       "      <td>0.0</td>\n",
       "      <td>0.000000</td>\n",
       "      <td>0.507297</td>\n",
       "      <td>0.106782</td>\n",
       "      <td>0.0</td>\n",
       "      <td>0.0</td>\n",
       "      <td>0.0</td>\n",
       "    </tr>\n",
       "    <tr>\n",
       "      <th>11</th>\n",
       "      <td>2015-01-01 11:00:00+01:00</td>\n",
       "      <td>0.164633</td>\n",
       "      <td>4.219444</td>\n",
       "      <td>0.07</td>\n",
       "      <td>5.131893</td>\n",
       "      <td>3.192629</td>\n",
       "      <td>0.164633</td>\n",
       "      <td>-1.665335e-16</td>\n",
       "      <td>0.000000</td>\n",
       "      <td>0.000000</td>\n",
       "      <td>0.0</td>\n",
       "      <td>0.000000</td>\n",
       "      <td>0.862181</td>\n",
       "      <td>0.191558</td>\n",
       "      <td>0.0</td>\n",
       "      <td>0.0</td>\n",
       "      <td>0.0</td>\n",
       "    </tr>\n",
       "    <tr>\n",
       "      <th>12</th>\n",
       "      <td>2015-01-01 12:00:00+01:00</td>\n",
       "      <td>0.151300</td>\n",
       "      <td>5.130196</td>\n",
       "      <td>0.07</td>\n",
       "      <td>8.792709</td>\n",
       "      <td>3.894486</td>\n",
       "      <td>0.151300</td>\n",
       "      <td>3.740356e-02</td>\n",
       "      <td>0.000000</td>\n",
       "      <td>0.000000</td>\n",
       "      <td>0.0</td>\n",
       "      <td>0.000000</td>\n",
       "      <td>1.047006</td>\n",
       "      <td>0.233669</td>\n",
       "      <td>0.0</td>\n",
       "      <td>0.0</td>\n",
       "      <td>0.0</td>\n",
       "    </tr>\n",
       "    <tr>\n",
       "      <th>13</th>\n",
       "      <td>2015-01-01 13:00:00+01:00</td>\n",
       "      <td>0.913317</td>\n",
       "      <td>4.910385</td>\n",
       "      <td>0.07</td>\n",
       "      <td>9.700592</td>\n",
       "      <td>0.965832</td>\n",
       "      <td>0.913317</td>\n",
       "      <td>1.752911e+00</td>\n",
       "      <td>0.000000</td>\n",
       "      <td>0.000000</td>\n",
       "      <td>0.0</td>\n",
       "      <td>0.000000</td>\n",
       "      <td>1.278324</td>\n",
       "      <td>0.057950</td>\n",
       "      <td>0.0</td>\n",
       "      <td>0.0</td>\n",
       "      <td>0.0</td>\n",
       "    </tr>\n",
       "    <tr>\n",
       "      <th>14</th>\n",
       "      <td>2015-01-01 14:00:00+01:00</td>\n",
       "      <td>0.323167</td>\n",
       "      <td>3.643792</td>\n",
       "      <td>0.07</td>\n",
       "      <td>9.925747</td>\n",
       "      <td>0.239526</td>\n",
       "      <td>0.323167</td>\n",
       "      <td>2.084789e+00</td>\n",
       "      <td>0.000000</td>\n",
       "      <td>0.000000</td>\n",
       "      <td>0.0</td>\n",
       "      <td>0.000000</td>\n",
       "      <td>0.996309</td>\n",
       "      <td>0.014372</td>\n",
       "      <td>0.0</td>\n",
       "      <td>0.0</td>\n",
       "      <td>0.0</td>\n",
       "    </tr>\n",
       "    <tr>\n",
       "      <th>15</th>\n",
       "      <td>2015-01-01 15:00:00+01:00</td>\n",
       "      <td>0.246200</td>\n",
       "      <td>2.624171</td>\n",
       "      <td>0.07</td>\n",
       "      <td>9.981585</td>\n",
       "      <td>0.059403</td>\n",
       "      <td>0.246200</td>\n",
       "      <td>1.589741e+00</td>\n",
       "      <td>0.000000</td>\n",
       "      <td>0.000000</td>\n",
       "      <td>0.0</td>\n",
       "      <td>0.000000</td>\n",
       "      <td>0.728828</td>\n",
       "      <td>0.003564</td>\n",
       "      <td>0.0</td>\n",
       "      <td>0.0</td>\n",
       "      <td>0.0</td>\n",
       "    </tr>\n",
       "    <tr>\n",
       "      <th>16</th>\n",
       "      <td>2015-01-01 16:00:00+01:00</td>\n",
       "      <td>0.141817</td>\n",
       "      <td>0.051671</td>\n",
       "      <td>0.28</td>\n",
       "      <td>9.865348</td>\n",
       "      <td>0.000000</td>\n",
       "      <td>0.037203</td>\n",
       "      <td>0.000000e+00</td>\n",
       "      <td>0.116237</td>\n",
       "      <td>0.104614</td>\n",
       "      <td>0.0</td>\n",
       "      <td>0.000000</td>\n",
       "      <td>0.014468</td>\n",
       "      <td>0.011624</td>\n",
       "      <td>0.0</td>\n",
       "      <td>0.0</td>\n",
       "      <td>0.0</td>\n",
       "    </tr>\n",
       "    <tr>\n",
       "      <th>17</th>\n",
       "      <td>2015-01-01 17:00:00+01:00</td>\n",
       "      <td>0.313733</td>\n",
       "      <td>0.000000</td>\n",
       "      <td>0.28</td>\n",
       "      <td>9.516755</td>\n",
       "      <td>0.000000</td>\n",
       "      <td>0.000000</td>\n",
       "      <td>0.000000e+00</td>\n",
       "      <td>0.348593</td>\n",
       "      <td>0.313733</td>\n",
       "      <td>0.0</td>\n",
       "      <td>0.000000</td>\n",
       "      <td>0.000000</td>\n",
       "      <td>0.034859</td>\n",
       "      <td>0.0</td>\n",
       "      <td>0.0</td>\n",
       "      <td>0.0</td>\n",
       "    </tr>\n",
       "    <tr>\n",
       "      <th>18</th>\n",
       "      <td>2015-01-01 18:00:00+01:00</td>\n",
       "      <td>0.313600</td>\n",
       "      <td>0.000000</td>\n",
       "      <td>0.28</td>\n",
       "      <td>9.168311</td>\n",
       "      <td>0.000000</td>\n",
       "      <td>0.000000</td>\n",
       "      <td>0.000000e+00</td>\n",
       "      <td>0.348444</td>\n",
       "      <td>0.313600</td>\n",
       "      <td>0.0</td>\n",
       "      <td>0.000000</td>\n",
       "      <td>0.000000</td>\n",
       "      <td>0.034844</td>\n",
       "      <td>0.0</td>\n",
       "      <td>0.0</td>\n",
       "      <td>0.0</td>\n",
       "    </tr>\n",
       "    <tr>\n",
       "      <th>19</th>\n",
       "      <td>2015-01-01 19:00:00+01:00</td>\n",
       "      <td>0.151567</td>\n",
       "      <td>0.000000</td>\n",
       "      <td>0.28</td>\n",
       "      <td>8.999903</td>\n",
       "      <td>0.000000</td>\n",
       "      <td>0.000000</td>\n",
       "      <td>0.000000e+00</td>\n",
       "      <td>0.168407</td>\n",
       "      <td>0.151567</td>\n",
       "      <td>0.0</td>\n",
       "      <td>0.000000</td>\n",
       "      <td>0.000000</td>\n",
       "      <td>0.016841</td>\n",
       "      <td>0.0</td>\n",
       "      <td>0.0</td>\n",
       "      <td>0.0</td>\n",
       "    </tr>\n",
       "    <tr>\n",
       "      <th>20</th>\n",
       "      <td>2015-01-01 20:00:00+01:00</td>\n",
       "      <td>0.166717</td>\n",
       "      <td>0.000000</td>\n",
       "      <td>0.28</td>\n",
       "      <td>8.814663</td>\n",
       "      <td>0.000000</td>\n",
       "      <td>0.000000</td>\n",
       "      <td>0.000000e+00</td>\n",
       "      <td>0.185241</td>\n",
       "      <td>0.166717</td>\n",
       "      <td>0.0</td>\n",
       "      <td>0.000000</td>\n",
       "      <td>0.000000</td>\n",
       "      <td>0.018524</td>\n",
       "      <td>0.0</td>\n",
       "      <td>0.0</td>\n",
       "      <td>0.0</td>\n",
       "    </tr>\n",
       "    <tr>\n",
       "      <th>21</th>\n",
       "      <td>2015-01-01 21:00:00+01:00</td>\n",
       "      <td>0.226017</td>\n",
       "      <td>0.000000</td>\n",
       "      <td>0.28</td>\n",
       "      <td>8.563533</td>\n",
       "      <td>0.000000</td>\n",
       "      <td>0.000000</td>\n",
       "      <td>0.000000e+00</td>\n",
       "      <td>0.251130</td>\n",
       "      <td>0.226017</td>\n",
       "      <td>0.0</td>\n",
       "      <td>0.000000</td>\n",
       "      <td>0.000000</td>\n",
       "      <td>0.025113</td>\n",
       "      <td>0.0</td>\n",
       "      <td>0.0</td>\n",
       "      <td>0.0</td>\n",
       "    </tr>\n",
       "    <tr>\n",
       "      <th>22</th>\n",
       "      <td>2015-01-01 22:00:00+01:00</td>\n",
       "      <td>0.240900</td>\n",
       "      <td>0.000000</td>\n",
       "      <td>0.28</td>\n",
       "      <td>8.295866</td>\n",
       "      <td>0.000000</td>\n",
       "      <td>0.000000</td>\n",
       "      <td>0.000000e+00</td>\n",
       "      <td>0.267667</td>\n",
       "      <td>0.240900</td>\n",
       "      <td>0.0</td>\n",
       "      <td>0.000000</td>\n",
       "      <td>0.000000</td>\n",
       "      <td>0.026767</td>\n",
       "      <td>0.0</td>\n",
       "      <td>0.0</td>\n",
       "      <td>0.0</td>\n",
       "    </tr>\n",
       "    <tr>\n",
       "      <th>23</th>\n",
       "      <td>2015-01-01 23:00:00+01:00</td>\n",
       "      <td>0.190633</td>\n",
       "      <td>0.000000</td>\n",
       "      <td>0.28</td>\n",
       "      <td>8.084051</td>\n",
       "      <td>0.000000</td>\n",
       "      <td>0.000000</td>\n",
       "      <td>0.000000e+00</td>\n",
       "      <td>0.211815</td>\n",
       "      <td>0.190633</td>\n",
       "      <td>0.0</td>\n",
       "      <td>0.000000</td>\n",
       "      <td>0.000000</td>\n",
       "      <td>0.021181</td>\n",
       "      <td>0.0</td>\n",
       "      <td>0.0</td>\n",
       "      <td>0.0</td>\n",
       "    </tr>\n",
       "  </tbody>\n",
       "</table>\n",
       "</div>"
      ],
      "text/plain": [
       "                           date    demand       gen  prices       SOC  \\\n",
       "index                                                                   \n",
       "0     2015-01-01 00:00:00+01:00  0.143233  0.000000    0.28  0.000000   \n",
       "1     2015-01-01 01:00:00+01:00  0.173217  0.000000    0.28  0.000000   \n",
       "2     2015-01-01 02:00:00+01:00  0.146900  0.000000    0.28  0.000000   \n",
       "3     2015-01-01 03:00:00+01:00  0.162667  0.000000    0.28  0.000000   \n",
       "4     2015-01-01 04:00:00+01:00  0.162200  0.000000    0.28  0.000000   \n",
       "5     2015-01-01 05:00:00+01:00  0.173000  0.000000    0.28  0.000000   \n",
       "6     2015-01-01 06:00:00+01:00  0.136000  0.000000    0.28  0.000000   \n",
       "7     2015-01-01 07:00:00+01:00  0.169467  0.000000    0.28  0.000000   \n",
       "8     2015-01-01 08:00:00+01:00  0.166233  0.061955    0.28  0.000000   \n",
       "9     2015-01-01 09:00:00+01:00  0.152467  0.820672    0.13  0.457902   \n",
       "10    2015-01-01 10:00:00+01:00  0.160383  2.447381    0.07  2.130821   \n",
       "11    2015-01-01 11:00:00+01:00  0.164633  4.219444    0.07  5.131893   \n",
       "12    2015-01-01 12:00:00+01:00  0.151300  5.130196    0.07  8.792709   \n",
       "13    2015-01-01 13:00:00+01:00  0.913317  4.910385    0.07  9.700592   \n",
       "14    2015-01-01 14:00:00+01:00  0.323167  3.643792    0.07  9.925747   \n",
       "15    2015-01-01 15:00:00+01:00  0.246200  2.624171    0.07  9.981585   \n",
       "16    2015-01-01 16:00:00+01:00  0.141817  0.051671    0.28  9.865348   \n",
       "17    2015-01-01 17:00:00+01:00  0.313733  0.000000    0.28  9.516755   \n",
       "18    2015-01-01 18:00:00+01:00  0.313600  0.000000    0.28  9.168311   \n",
       "19    2015-01-01 19:00:00+01:00  0.151567  0.000000    0.28  8.999903   \n",
       "20    2015-01-01 20:00:00+01:00  0.166717  0.000000    0.28  8.814663   \n",
       "21    2015-01-01 21:00:00+01:00  0.226017  0.000000    0.28  8.563533   \n",
       "22    2015-01-01 22:00:00+01:00  0.240900  0.000000    0.28  8.295866   \n",
       "23    2015-01-01 23:00:00+01:00  0.190633  0.000000    0.28  8.084051   \n",
       "\n",
       "        PV_batt   PV_load       PV_grid     E_dis  Batt_load  Batt_grid  \\\n",
       "index                                                                     \n",
       "0      0.000000  0.000000  0.000000e+00  0.000000   0.000000        0.0   \n",
       "1      0.000000  0.000000  0.000000e+00  0.000000   0.000000        0.0   \n",
       "2      0.000000  0.000000  0.000000e+00  0.000000   0.000000        0.0   \n",
       "3      0.000000  0.000000  0.000000e+00  0.000000   0.000000        0.0   \n",
       "4      0.000000  0.000000  0.000000e+00  0.000000   0.000000        0.0   \n",
       "5      0.000000  0.000000  0.000000e+00  0.000000   0.000000        0.0   \n",
       "6      0.000000  0.000000  0.000000e+00  0.000000   0.000000        0.0   \n",
       "7      0.000000  0.000000  0.000000e+00  0.000000   0.000000        0.0   \n",
       "8      0.000000  0.044607  0.000000e+00  0.000000   0.000000        0.0   \n",
       "9      0.487130  0.152467  0.000000e+00  0.000000   0.000000        0.0   \n",
       "10     1.779701  0.160383 -5.551115e-17  0.000000   0.000000        0.0   \n",
       "11     3.192629  0.164633 -1.665335e-16  0.000000   0.000000        0.0   \n",
       "12     3.894486  0.151300  3.740356e-02  0.000000   0.000000        0.0   \n",
       "13     0.965832  0.913317  1.752911e+00  0.000000   0.000000        0.0   \n",
       "14     0.239526  0.323167  2.084789e+00  0.000000   0.000000        0.0   \n",
       "15     0.059403  0.246200  1.589741e+00  0.000000   0.000000        0.0   \n",
       "16     0.000000  0.037203  0.000000e+00  0.116237   0.104614        0.0   \n",
       "17     0.000000  0.000000  0.000000e+00  0.348593   0.313733        0.0   \n",
       "18     0.000000  0.000000  0.000000e+00  0.348444   0.313600        0.0   \n",
       "19     0.000000  0.000000  0.000000e+00  0.168407   0.151567        0.0   \n",
       "20     0.000000  0.000000  0.000000e+00  0.185241   0.166717        0.0   \n",
       "21     0.000000  0.000000  0.000000e+00  0.251130   0.226017        0.0   \n",
       "22     0.000000  0.000000  0.000000e+00  0.267667   0.240900        0.0   \n",
       "23     0.000000  0.000000  0.000000e+00  0.211815   0.190633        0.0   \n",
       "\n",
       "       grid_load  PV_losses  Batt_losses  flag  type   df  \n",
       "index                                                      \n",
       "0       0.143233   0.000000     0.000000   0.0   0.0  0.0  \n",
       "1       0.173217   0.000000     0.000000   0.0   0.0  0.0  \n",
       "2       0.146900   0.000000     0.000000   0.0   0.0  0.0  \n",
       "3       0.162667   0.000000     0.000000   0.0   0.0  0.0  \n",
       "4       0.162200   0.000000     0.000000   0.0   0.0  0.0  \n",
       "5       0.173000   0.000000     0.000000   0.0   0.0  0.0  \n",
       "6       0.136000   0.000000     0.000000   0.0   0.0  0.0  \n",
       "7       0.169467   0.000000     0.000000   0.0   0.0  0.0  \n",
       "8       0.121626   0.017347     0.000000   0.0   0.0  0.0  \n",
       "9       0.000000   0.181075     0.029228   0.0   0.0  0.0  \n",
       "10      0.000000   0.507297     0.106782   0.0   0.0  0.0  \n",
       "11      0.000000   0.862181     0.191558   0.0   0.0  0.0  \n",
       "12      0.000000   1.047006     0.233669   0.0   0.0  0.0  \n",
       "13      0.000000   1.278324     0.057950   0.0   0.0  0.0  \n",
       "14      0.000000   0.996309     0.014372   0.0   0.0  0.0  \n",
       "15      0.000000   0.728828     0.003564   0.0   0.0  0.0  \n",
       "16      0.000000   0.014468     0.011624   0.0   0.0  0.0  \n",
       "17      0.000000   0.000000     0.034859   0.0   0.0  0.0  \n",
       "18      0.000000   0.000000     0.034844   0.0   0.0  0.0  \n",
       "19      0.000000   0.000000     0.016841   0.0   0.0  0.0  \n",
       "20      0.000000   0.000000     0.018524   0.0   0.0  0.0  \n",
       "21      0.000000   0.000000     0.025113   0.0   0.0  0.0  \n",
       "22      0.000000   0.000000     0.026767   0.0   0.0  0.0  \n",
       "23      0.000000   0.000000     0.021181   0.0   0.0  0.0  "
      ]
     },
     "execution_count": 583,
     "metadata": {},
     "output_type": "execute_result"
    }
   ],
   "source": [
    "out_df"
   ]
  },
  {
   "cell_type": "code",
   "execution_count": 584,
   "metadata": {},
   "outputs": [
    {
     "data": {
      "text/plain": [
       "demand           5.289367\n",
       "gen             23.909665\n",
       "prices           5.310000\n",
       "SOC            117.429680\n",
       "PV_batt         10.618708\n",
       "PV_load          2.193277\n",
       "PV_grid          5.464845\n",
       "E_dis            1.897534\n",
       "Batt_load        1.707780\n",
       "Batt_grid        0.000000\n",
       "grid_load        1.388309\n",
       "PV_losses        5.632835\n",
       "Batt_losses      0.826876\n",
       "flag             0.000000\n",
       "type             0.000000\n",
       "df               0.000000\n",
       "dtype: float64"
      ]
     },
     "execution_count": 584,
     "metadata": {},
     "output_type": "execute_result"
    }
   ],
   "source": [
    "out_df.sum()"
   ]
  },
  {
   "cell_type": "code",
   "execution_count": 121,
   "metadata": {},
   "outputs": [
    {
     "name": "stdout",
     "output_type": "stream",
     "text": [
      "%%%%%%%%%%%%%%%%%%%%%%%%%%%%%%%%%%%%%%%%%%%%%%\n",
      "Energy Balance:\n",
      "Demand Balance:\n",
      "4.831690603168681e-13\n",
      "Generation Balance:\n",
      "-9.018518964906775e-13\n",
      "Battery Balance:\n",
      "0.7607062619064209\n",
      "                              demand  gen       SOC  PV_batt  PV_load  \\\n",
      "date                                                                    \n",
      "2015-12-31 19:00:00+01:00  65.535350  0.0  2.606195      0.0      0.0   \n",
      "2015-12-31 20:00:00+01:00  53.980550  0.0  1.790914      0.0      0.0   \n",
      "2015-12-31 21:00:00+01:00  50.570267  0.0  1.190651      0.0      0.0   \n",
      "2015-12-31 22:00:00+01:00  44.928250  0.0  0.900145      0.0      0.0   \n",
      "2015-12-31 23:00:00+01:00  40.166367  0.0  0.760706      0.0      0.0   \n",
      "\n",
      "                           PV_comm     E_dis  Batt_load  Batt_comm  comm_load  \\\n",
      "date                                                                            \n",
      "2015-12-31 19:00:00+01:00      0.0  1.096357   1.041539        0.0  64.493811   \n",
      "2015-12-31 20:00:00+01:00      0.0  0.815281   0.774517        0.0  53.206033   \n",
      "2015-12-31 21:00:00+01:00      0.0  0.600263   0.570250        0.0  50.000017   \n",
      "2015-12-31 22:00:00+01:00      0.0  0.290506   0.275981        0.0  44.652269   \n",
      "2015-12-31 23:00:00+01:00      0.0  0.139439   0.132467        0.0  40.033900   \n",
      "\n",
      "                           ...  Batt_losses  flag  type      df  prices  \\\n",
      "date                       ...                                            \n",
      "2015-12-31 19:00:00+01:00  ...     0.054818   0.0    74  2701.0    7.40   \n",
      "2015-12-31 20:00:00+01:00  ...     0.040764   0.0    74  2701.0    5.18   \n",
      "2015-12-31 21:00:00+01:00  ...     0.030013   0.0    74  2701.0    5.18   \n",
      "2015-12-31 22:00:00+01:00  ...     0.014525   0.0    74  2701.0    5.18   \n",
      "2015-12-31 23:00:00+01:00  ...     0.006972   0.0    74  2701.0    5.18   \n",
      "\n",
      "                               bill  export_comm  comm_demand  comm_grid  \\\n",
      "date                                                                       \n",
      "2015-12-31 19:00:00+01:00  6.449381          0.0          0.0        0.0   \n",
      "2015-12-31 20:00:00+01:00  3.724422          0.0          0.0        0.0   \n",
      "2015-12-31 21:00:00+01:00  3.500001          0.0          0.0        0.0   \n",
      "2015-12-31 22:00:00+01:00  3.125659          0.0          0.0        0.0   \n",
      "2015-12-31 23:00:00+01:00  2.802373          0.0          0.0        0.0   \n",
      "\n",
      "                           grid_demand  \n",
      "date                                    \n",
      "2015-12-31 19:00:00+01:00    64.493811  \n",
      "2015-12-31 20:00:00+01:00    53.206033  \n",
      "2015-12-31 21:00:00+01:00    50.000017  \n",
      "2015-12-31 22:00:00+01:00    44.652269  \n",
      "2015-12-31 23:00:00+01:00    40.033900  \n",
      "\n",
      "[5 rows x 21 columns]\n",
      "Community Balance:\n",
      "0.0\n",
      "%%%%%%%%%%%%%%%%%%%%%%%%%%%%%%%%%%%%%%%%%%%%%%\n",
      "                              demand  gen       SOC  PV_batt  PV_load  \\\n",
      "date                                                                    \n",
      "2015-12-31 19:00:00+01:00  65.535350  0.0  2.606195      0.0      0.0   \n",
      "2015-12-31 20:00:00+01:00  53.980550  0.0  1.790914      0.0      0.0   \n",
      "2015-12-31 21:00:00+01:00  50.570267  0.0  1.190651      0.0      0.0   \n",
      "2015-12-31 22:00:00+01:00  44.928250  0.0  0.900145      0.0      0.0   \n",
      "2015-12-31 23:00:00+01:00  40.166367  0.0  0.760706      0.0      0.0   \n",
      "\n",
      "                           PV_comm     E_dis  Batt_load  Batt_comm  comm_load  \\\n",
      "date                                                                            \n",
      "2015-12-31 19:00:00+01:00      0.0  1.096357   1.041539        0.0  64.493811   \n",
      "2015-12-31 20:00:00+01:00      0.0  0.815281   0.774517        0.0  53.206033   \n",
      "2015-12-31 21:00:00+01:00      0.0  0.600263   0.570250        0.0  50.000017   \n",
      "2015-12-31 22:00:00+01:00      0.0  0.290506   0.275981        0.0  44.652269   \n",
      "2015-12-31 23:00:00+01:00      0.0  0.139439   0.132467        0.0  40.033900   \n",
      "\n",
      "                           ...  Batt_losses  flag  type      df  prices  \\\n",
      "date                       ...                                            \n",
      "2015-12-31 19:00:00+01:00  ...     0.054818   0.0    74  2701.0    7.40   \n",
      "2015-12-31 20:00:00+01:00  ...     0.040764   0.0    74  2701.0    5.18   \n",
      "2015-12-31 21:00:00+01:00  ...     0.030013   0.0    74  2701.0    5.18   \n",
      "2015-12-31 22:00:00+01:00  ...     0.014525   0.0    74  2701.0    5.18   \n",
      "2015-12-31 23:00:00+01:00  ...     0.006972   0.0    74  2701.0    5.18   \n",
      "\n",
      "                               bill  export_comm  comm_demand  comm_grid  \\\n",
      "date                                                                       \n",
      "2015-12-31 19:00:00+01:00  6.449381          0.0          0.0        0.0   \n",
      "2015-12-31 20:00:00+01:00  3.724422          0.0          0.0        0.0   \n",
      "2015-12-31 21:00:00+01:00  3.500001          0.0          0.0        0.0   \n",
      "2015-12-31 22:00:00+01:00  3.125659          0.0          0.0        0.0   \n",
      "2015-12-31 23:00:00+01:00  2.802373          0.0          0.0        0.0   \n",
      "\n",
      "                           grid_demand  \n",
      "date                                    \n",
      "2015-12-31 19:00:00+01:00    64.493811  \n",
      "2015-12-31 20:00:00+01:00    53.206033  \n",
      "2015-12-31 21:00:00+01:00    50.000017  \n",
      "2015-12-31 22:00:00+01:00    44.652269  \n",
      "2015-12-31 23:00:00+01:00    40.033900  \n",
      "\n",
      "[5 rows x 21 columns]\n",
      "amount of times energy when surplus was exchanged was: 1834.0\n",
      "amount of times energy when no surplus was exchanged was: 21460.0\n"
     ]
    }
   ],
   "source": [
    "df_100=pp.Post_processing(1.00,.50,0,'./',3)"
   ]
  },
  {
   "cell_type": "code",
   "execution_count": 155,
   "metadata": {},
   "outputs": [
    {
     "name": "stdout",
     "output_type": "stream",
     "text": [
      "%%%%%%%%%%%%%%%%%%%%%%%%%%%%%%%%%%%%%%%%%%%%%%\n",
      "Energy Balance:\n",
      "Demand Balance:\n",
      "1.341149413747189e-13\n",
      "Generation Balance:\n",
      "1.0758445925214825e-12\n",
      "Battery Balance:\n",
      "-1.0658141036401503e-12\n",
      "                              demand  gen  SOC  PV_batt  PV_load  PV_comm  \\\n",
      "date                                                                        \n",
      "2015-12-31 19:00:00+01:00  65.535350  0.0  0.0      0.0      0.0      0.0   \n",
      "2015-12-31 20:00:00+01:00  53.980550  0.0  0.0      0.0      0.0      0.0   \n",
      "2015-12-31 21:00:00+01:00  50.570267  0.0  0.0      0.0      0.0      0.0   \n",
      "2015-12-31 22:00:00+01:00  44.928250  0.0  0.0      0.0      0.0      0.0   \n",
      "2015-12-31 23:00:00+01:00  40.166367  0.0  0.0      0.0      0.0      0.0   \n",
      "\n",
      "                           E_dis  Batt_load  Batt_comm  comm_load  ...  \\\n",
      "date                                                               ...   \n",
      "2015-12-31 19:00:00+01:00    0.0        0.0        0.0  65.535350  ...   \n",
      "2015-12-31 20:00:00+01:00    0.0        0.0        0.0  53.980550  ...   \n",
      "2015-12-31 21:00:00+01:00    0.0        0.0        0.0  50.570267  ...   \n",
      "2015-12-31 22:00:00+01:00    0.0        0.0        0.0  44.928250  ...   \n",
      "2015-12-31 23:00:00+01:00    0.0        0.0        0.0  40.166367  ...   \n",
      "\n",
      "                           Batt_losses  flag  type      df  prices       bill  \\\n",
      "date                                                                            \n",
      "2015-12-31 19:00:00+01:00          0.0   0.0    46  2701.0   20.72  18.349898   \n",
      "2015-12-31 20:00:00+01:00          0.0   0.0    46  2701.0   20.72  15.114554   \n",
      "2015-12-31 21:00:00+01:00          0.0   0.0    46  2701.0   20.72  14.159675   \n",
      "2015-12-31 22:00:00+01:00          0.0   0.0    46  2701.0   20.72  12.579910   \n",
      "2015-12-31 23:00:00+01:00          0.0   0.0    46  2701.0   20.72  11.246583   \n",
      "\n",
      "                           export_comm  comm_demand  comm_grid  grid_demand  \n",
      "date                                                                         \n",
      "2015-12-31 19:00:00+01:00          0.0          0.0        0.0    65.535350  \n",
      "2015-12-31 20:00:00+01:00          0.0          0.0        0.0    53.980550  \n",
      "2015-12-31 21:00:00+01:00          0.0          0.0        0.0    50.570267  \n",
      "2015-12-31 22:00:00+01:00          0.0          0.0        0.0    44.928250  \n",
      "2015-12-31 23:00:00+01:00          0.0          0.0        0.0    40.166367  \n",
      "\n",
      "[5 rows x 21 columns]\n",
      "Community Balance:\n",
      "0.0\n",
      "%%%%%%%%%%%%%%%%%%%%%%%%%%%%%%%%%%%%%%%%%%%%%%\n",
      "                              demand  gen  SOC  PV_batt  PV_load  PV_comm  \\\n",
      "date                                                                        \n",
      "2015-12-31 19:00:00+01:00  65.535350  0.0  0.0      0.0      0.0      0.0   \n",
      "2015-12-31 20:00:00+01:00  53.980550  0.0  0.0      0.0      0.0      0.0   \n",
      "2015-12-31 21:00:00+01:00  50.570267  0.0  0.0      0.0      0.0      0.0   \n",
      "2015-12-31 22:00:00+01:00  44.928250  0.0  0.0      0.0      0.0      0.0   \n",
      "2015-12-31 23:00:00+01:00  40.166367  0.0  0.0      0.0      0.0      0.0   \n",
      "\n",
      "                           E_dis  Batt_load  Batt_comm  comm_load  ...  \\\n",
      "date                                                               ...   \n",
      "2015-12-31 19:00:00+01:00    0.0        0.0        0.0  65.535350  ...   \n",
      "2015-12-31 20:00:00+01:00    0.0        0.0        0.0  53.980550  ...   \n",
      "2015-12-31 21:00:00+01:00    0.0        0.0        0.0  50.570267  ...   \n",
      "2015-12-31 22:00:00+01:00    0.0        0.0        0.0  44.928250  ...   \n",
      "2015-12-31 23:00:00+01:00    0.0        0.0        0.0  40.166367  ...   \n",
      "\n",
      "                           Batt_losses  flag  type      df  prices       bill  \\\n",
      "date                                                                            \n",
      "2015-12-31 19:00:00+01:00          0.0   0.0    46  2701.0   20.72  18.349898   \n",
      "2015-12-31 20:00:00+01:00          0.0   0.0    46  2701.0   20.72  15.114554   \n",
      "2015-12-31 21:00:00+01:00          0.0   0.0    46  2701.0   20.72  14.159675   \n",
      "2015-12-31 22:00:00+01:00          0.0   0.0    46  2701.0   20.72  12.579910   \n",
      "2015-12-31 23:00:00+01:00          0.0   0.0    46  2701.0   20.72  11.246583   \n",
      "\n",
      "                           export_comm  comm_demand  comm_grid  grid_demand  \n",
      "date                                                                         \n",
      "2015-12-31 19:00:00+01:00          0.0          0.0        0.0    65.535350  \n",
      "2015-12-31 20:00:00+01:00          0.0          0.0        0.0    53.980550  \n",
      "2015-12-31 21:00:00+01:00          0.0          0.0        0.0    50.570267  \n",
      "2015-12-31 22:00:00+01:00          0.0          0.0        0.0    44.928250  \n",
      "2015-12-31 23:00:00+01:00          0.0          0.0        0.0    40.166367  \n",
      "\n",
      "[5 rows x 21 columns]\n",
      "amount of times energy when surplus was exchanged was: 615.0\n",
      "amount of times energy when no surplus was exchanged was: 7339.0\n"
     ]
    }
   ],
   "source": [
    "df_25=pp.Post_processing(.25,.50,0,'./',3)"
   ]
  },
  {
   "cell_type": "code",
   "execution_count": 123,
   "metadata": {},
   "outputs": [
    {
     "data": {
      "text/html": [
       "<div>\n",
       "<style scoped>\n",
       "    .dataframe tbody tr th:only-of-type {\n",
       "        vertical-align: middle;\n",
       "    }\n",
       "\n",
       "    .dataframe tbody tr th {\n",
       "        vertical-align: top;\n",
       "    }\n",
       "\n",
       "    .dataframe thead th {\n",
       "        text-align: right;\n",
       "    }\n",
       "</style>\n",
       "<table border=\"1\" class=\"dataframe\">\n",
       "  <thead>\n",
       "    <tr style=\"text-align: right;\">\n",
       "      <th></th>\n",
       "      <th>bill_comm</th>\n",
       "      <th>bill</th>\n",
       "    </tr>\n",
       "    <tr>\n",
       "      <th>types</th>\n",
       "      <th></th>\n",
       "      <th></th>\n",
       "    </tr>\n",
       "  </thead>\n",
       "  <tbody>\n",
       "    <tr>\n",
       "      <th>0.0</th>\n",
       "      <td>952.405344</td>\n",
       "      <td>952.405344</td>\n",
       "    </tr>\n",
       "    <tr>\n",
       "      <th>8760.0</th>\n",
       "      <td>189.174993</td>\n",
       "      <td>189.174993</td>\n",
       "    </tr>\n",
       "    <tr>\n",
       "      <th>17520.0</th>\n",
       "      <td>-188.010600</td>\n",
       "      <td>-41.181024</td>\n",
       "    </tr>\n",
       "  </tbody>\n",
       "</table>\n",
       "</div>"
      ],
      "text/plain": [
       "          bill_comm        bill\n",
       "types                          \n",
       "0.0      952.405344  952.405344\n",
       "8760.0   189.174993  189.174993\n",
       "17520.0 -188.010600  -41.181024"
      ]
     },
     "execution_count": 123,
     "metadata": {},
     "output_type": "execute_result"
    }
   ],
   "source": [
    "df_25.groupby(df_25.types).mean()"
   ]
  },
  {
   "cell_type": "code",
   "execution_count": 124,
   "metadata": {},
   "outputs": [
    {
     "data": {
      "text/html": [
       "<div>\n",
       "<style scoped>\n",
       "    .dataframe tbody tr th:only-of-type {\n",
       "        vertical-align: middle;\n",
       "    }\n",
       "\n",
       "    .dataframe tbody tr th {\n",
       "        vertical-align: top;\n",
       "    }\n",
       "\n",
       "    .dataframe thead th {\n",
       "        text-align: right;\n",
       "    }\n",
       "</style>\n",
       "<table border=\"1\" class=\"dataframe\">\n",
       "  <thead>\n",
       "    <tr style=\"text-align: right;\">\n",
       "      <th></th>\n",
       "      <th>bill_comm</th>\n",
       "      <th>bill</th>\n",
       "    </tr>\n",
       "    <tr>\n",
       "      <th>types</th>\n",
       "      <th></th>\n",
       "      <th></th>\n",
       "    </tr>\n",
       "  </thead>\n",
       "  <tbody>\n",
       "    <tr>\n",
       "      <th>0.0</th>\n",
       "      <td>951.331135</td>\n",
       "      <td>951.331135</td>\n",
       "    </tr>\n",
       "    <tr>\n",
       "      <th>8760.0</th>\n",
       "      <td>229.223240</td>\n",
       "      <td>229.223240</td>\n",
       "    </tr>\n",
       "    <tr>\n",
       "      <th>17520.0</th>\n",
       "      <td>-53.582825</td>\n",
       "      <td>65.325549</td>\n",
       "    </tr>\n",
       "  </tbody>\n",
       "</table>\n",
       "</div>"
      ],
      "text/plain": [
       "          bill_comm        bill\n",
       "types                          \n",
       "0.0      951.331135  951.331135\n",
       "8760.0   229.223240  229.223240\n",
       "17520.0  -53.582825   65.325549"
      ]
     },
     "execution_count": 124,
     "metadata": {},
     "output_type": "execute_result"
    }
   ],
   "source": [
    "df_25.groupby(df_25.types).median()"
   ]
  },
  {
   "cell_type": "code",
   "execution_count": 125,
   "metadata": {},
   "outputs": [
    {
     "data": {
      "text/html": [
       "<div>\n",
       "<style scoped>\n",
       "    .dataframe tbody tr th:only-of-type {\n",
       "        vertical-align: middle;\n",
       "    }\n",
       "\n",
       "    .dataframe tbody tr th {\n",
       "        vertical-align: top;\n",
       "    }\n",
       "\n",
       "    .dataframe thead th {\n",
       "        text-align: right;\n",
       "    }\n",
       "</style>\n",
       "<table border=\"1\" class=\"dataframe\">\n",
       "  <thead>\n",
       "    <tr style=\"text-align: right;\">\n",
       "      <th></th>\n",
       "      <th>bill_comm</th>\n",
       "      <th>bill</th>\n",
       "    </tr>\n",
       "    <tr>\n",
       "      <th>types</th>\n",
       "      <th></th>\n",
       "      <th></th>\n",
       "    </tr>\n",
       "  </thead>\n",
       "  <tbody>\n",
       "    <tr>\n",
       "      <th>0.0</th>\n",
       "      <td>506.600566</td>\n",
       "      <td>506.600566</td>\n",
       "    </tr>\n",
       "    <tr>\n",
       "      <th>17520.0</th>\n",
       "      <td>-238.090140</td>\n",
       "      <td>-187.535705</td>\n",
       "    </tr>\n",
       "  </tbody>\n",
       "</table>\n",
       "</div>"
      ],
      "text/plain": [
       "          bill_comm        bill\n",
       "types                          \n",
       "0.0      506.600566  506.600566\n",
       "17520.0 -238.090140 -187.535705"
      ]
     },
     "execution_count": 125,
     "metadata": {},
     "output_type": "execute_result"
    }
   ],
   "source": [
    "df_100.groupby(df_100.types).mean()"
   ]
  },
  {
   "cell_type": "code",
   "execution_count": 126,
   "metadata": {},
   "outputs": [
    {
     "data": {
      "text/html": [
       "<div>\n",
       "<style scoped>\n",
       "    .dataframe tbody tr th:only-of-type {\n",
       "        vertical-align: middle;\n",
       "    }\n",
       "\n",
       "    .dataframe tbody tr th {\n",
       "        vertical-align: top;\n",
       "    }\n",
       "\n",
       "    .dataframe thead th {\n",
       "        text-align: right;\n",
       "    }\n",
       "</style>\n",
       "<table border=\"1\" class=\"dataframe\">\n",
       "  <thead>\n",
       "    <tr style=\"text-align: right;\">\n",
       "      <th></th>\n",
       "      <th>bill_comm</th>\n",
       "      <th>bill</th>\n",
       "    </tr>\n",
       "    <tr>\n",
       "      <th>types</th>\n",
       "      <th></th>\n",
       "      <th></th>\n",
       "    </tr>\n",
       "  </thead>\n",
       "  <tbody>\n",
       "    <tr>\n",
       "      <th>0.0</th>\n",
       "      <td>494.693615</td>\n",
       "      <td>494.693615</td>\n",
       "    </tr>\n",
       "    <tr>\n",
       "      <th>17520.0</th>\n",
       "      <td>-227.820238</td>\n",
       "      <td>-177.413018</td>\n",
       "    </tr>\n",
       "  </tbody>\n",
       "</table>\n",
       "</div>"
      ],
      "text/plain": [
       "          bill_comm        bill\n",
       "types                          \n",
       "0.0      494.693615  494.693615\n",
       "17520.0 -227.820238 -177.413018"
      ]
     },
     "execution_count": 126,
     "metadata": {},
     "output_type": "execute_result"
    }
   ],
   "source": [
    "df_100.groupby(df_100.types).median()"
   ]
  },
  {
   "cell_type": "code",
   "execution_count": 143,
   "metadata": {},
   "outputs": [
    {
     "data": {
      "text/html": [
       "<div>\n",
       "<style scoped>\n",
       "    .dataframe tbody tr th:only-of-type {\n",
       "        vertical-align: middle;\n",
       "    }\n",
       "\n",
       "    .dataframe tbody tr th {\n",
       "        vertical-align: top;\n",
       "    }\n",
       "\n",
       "    .dataframe thead th {\n",
       "        text-align: right;\n",
       "    }\n",
       "</style>\n",
       "<table border=\"1\" class=\"dataframe\">\n",
       "  <thead>\n",
       "    <tr style=\"text-align: right;\">\n",
       "      <th></th>\n",
       "      <th>bill_comm</th>\n",
       "      <th>bill</th>\n",
       "    </tr>\n",
       "    <tr>\n",
       "      <th>types</th>\n",
       "      <th></th>\n",
       "      <th></th>\n",
       "    </tr>\n",
       "  </thead>\n",
       "  <tbody>\n",
       "    <tr>\n",
       "      <th>0.0</th>\n",
       "      <td>NaN</td>\n",
       "      <td>0.000000</td>\n",
       "    </tr>\n",
       "    <tr>\n",
       "      <th>8760.0</th>\n",
       "      <td>NaN</td>\n",
       "      <td>0.000000</td>\n",
       "    </tr>\n",
       "    <tr>\n",
       "      <th>17520.0</th>\n",
       "      <td>NaN</td>\n",
       "      <td>-2.219151</td>\n",
       "    </tr>\n",
       "  </tbody>\n",
       "</table>\n",
       "</div>"
      ],
      "text/plain": [
       "         bill_comm      bill\n",
       "types                       \n",
       "0.0            NaN  0.000000\n",
       "8760.0         NaN  0.000000\n",
       "17520.0        NaN -2.219151"
      ]
     },
     "execution_count": 143,
     "metadata": {},
     "output_type": "execute_result"
    }
   ],
   "source": [
    "df_25.groupby(df_25.types).median().pct_change(axis=1)"
   ]
  },
  {
   "cell_type": "code",
   "execution_count": 141,
   "metadata": {},
   "outputs": [
    {
     "data": {
      "text/html": [
       "<div>\n",
       "<style scoped>\n",
       "    .dataframe tbody tr th:only-of-type {\n",
       "        vertical-align: middle;\n",
       "    }\n",
       "\n",
       "    .dataframe tbody tr th {\n",
       "        vertical-align: top;\n",
       "    }\n",
       "\n",
       "    .dataframe thead th {\n",
       "        text-align: right;\n",
       "    }\n",
       "</style>\n",
       "<table border=\"1\" class=\"dataframe\">\n",
       "  <thead>\n",
       "    <tr style=\"text-align: right;\">\n",
       "      <th></th>\n",
       "      <th>bill_comm</th>\n",
       "      <th>bill</th>\n",
       "    </tr>\n",
       "    <tr>\n",
       "      <th>types</th>\n",
       "      <th></th>\n",
       "      <th></th>\n",
       "    </tr>\n",
       "  </thead>\n",
       "  <tbody>\n",
       "    <tr>\n",
       "      <th>0.0</th>\n",
       "      <td>NaN</td>\n",
       "      <td>0.000000</td>\n",
       "    </tr>\n",
       "    <tr>\n",
       "      <th>8760.0</th>\n",
       "      <td>NaN</td>\n",
       "      <td>0.000000</td>\n",
       "    </tr>\n",
       "    <tr>\n",
       "      <th>17520.0</th>\n",
       "      <td>NaN</td>\n",
       "      <td>-0.780964</td>\n",
       "    </tr>\n",
       "  </tbody>\n",
       "</table>\n",
       "</div>"
      ],
      "text/plain": [
       "         bill_comm      bill\n",
       "types                       \n",
       "0.0            NaN  0.000000\n",
       "8760.0         NaN  0.000000\n",
       "17520.0        NaN -0.780964"
      ]
     },
     "execution_count": 141,
     "metadata": {},
     "output_type": "execute_result"
    }
   ],
   "source": [
    "df_25.groupby(df_25.types).mean().pct_change(axis=1)"
   ]
  },
  {
   "cell_type": "code",
   "execution_count": 144,
   "metadata": {},
   "outputs": [
    {
     "data": {
      "text/html": [
       "<div>\n",
       "<style scoped>\n",
       "    .dataframe tbody tr th:only-of-type {\n",
       "        vertical-align: middle;\n",
       "    }\n",
       "\n",
       "    .dataframe tbody tr th {\n",
       "        vertical-align: top;\n",
       "    }\n",
       "\n",
       "    .dataframe thead th {\n",
       "        text-align: right;\n",
       "    }\n",
       "</style>\n",
       "<table border=\"1\" class=\"dataframe\">\n",
       "  <thead>\n",
       "    <tr style=\"text-align: right;\">\n",
       "      <th></th>\n",
       "      <th>bill_comm</th>\n",
       "      <th>bill</th>\n",
       "    </tr>\n",
       "    <tr>\n",
       "      <th>types</th>\n",
       "      <th></th>\n",
       "      <th></th>\n",
       "    </tr>\n",
       "  </thead>\n",
       "  <tbody>\n",
       "    <tr>\n",
       "      <th>0.0</th>\n",
       "      <td>NaN</td>\n",
       "      <td>0.000000</td>\n",
       "    </tr>\n",
       "    <tr>\n",
       "      <th>17520.0</th>\n",
       "      <td>NaN</td>\n",
       "      <td>-0.221259</td>\n",
       "    </tr>\n",
       "  </tbody>\n",
       "</table>\n",
       "</div>"
      ],
      "text/plain": [
       "         bill_comm      bill\n",
       "types                       \n",
       "0.0            NaN  0.000000\n",
       "17520.0        NaN -0.221259"
      ]
     },
     "execution_count": 144,
     "metadata": {},
     "output_type": "execute_result"
    }
   ],
   "source": [
    "df_100.groupby(df_100.types).median().pct_change(axis=1)"
   ]
  },
  {
   "cell_type": "code",
   "execution_count": 142,
   "metadata": {},
   "outputs": [
    {
     "data": {
      "text/html": [
       "<div>\n",
       "<style scoped>\n",
       "    .dataframe tbody tr th:only-of-type {\n",
       "        vertical-align: middle;\n",
       "    }\n",
       "\n",
       "    .dataframe tbody tr th {\n",
       "        vertical-align: top;\n",
       "    }\n",
       "\n",
       "    .dataframe thead th {\n",
       "        text-align: right;\n",
       "    }\n",
       "</style>\n",
       "<table border=\"1\" class=\"dataframe\">\n",
       "  <thead>\n",
       "    <tr style=\"text-align: right;\">\n",
       "      <th></th>\n",
       "      <th>bill_comm</th>\n",
       "      <th>bill</th>\n",
       "    </tr>\n",
       "    <tr>\n",
       "      <th>types</th>\n",
       "      <th></th>\n",
       "      <th></th>\n",
       "    </tr>\n",
       "  </thead>\n",
       "  <tbody>\n",
       "    <tr>\n",
       "      <th>0.0</th>\n",
       "      <td>NaN</td>\n",
       "      <td>0.000000</td>\n",
       "    </tr>\n",
       "    <tr>\n",
       "      <th>17520.0</th>\n",
       "      <td>NaN</td>\n",
       "      <td>-0.212333</td>\n",
       "    </tr>\n",
       "  </tbody>\n",
       "</table>\n",
       "</div>"
      ],
      "text/plain": [
       "         bill_comm      bill\n",
       "types                       \n",
       "0.0            NaN  0.000000\n",
       "17520.0        NaN -0.212333"
      ]
     },
     "execution_count": 142,
     "metadata": {},
     "output_type": "execute_result"
    }
   ],
   "source": [
    "df_100.groupby(df_100.types).mean().pct_change(axis=1)"
   ]
  },
  {
   "cell_type": "code",
   "execution_count": 113,
   "metadata": {},
   "outputs": [
    {
     "data": {
      "text/html": [
       "<div>\n",
       "<style scoped>\n",
       "    .dataframe tbody tr th:only-of-type {\n",
       "        vertical-align: middle;\n",
       "    }\n",
       "\n",
       "    .dataframe tbody tr th {\n",
       "        vertical-align: top;\n",
       "    }\n",
       "\n",
       "    .dataframe thead th {\n",
       "        text-align: right;\n",
       "    }\n",
       "</style>\n",
       "<table border=\"1\" class=\"dataframe\">\n",
       "  <thead>\n",
       "    <tr style=\"text-align: right;\">\n",
       "      <th></th>\n",
       "      <th>bill_comm</th>\n",
       "      <th>bill</th>\n",
       "    </tr>\n",
       "    <tr>\n",
       "      <th>types</th>\n",
       "      <th></th>\n",
       "      <th></th>\n",
       "    </tr>\n",
       "  </thead>\n",
       "  <tbody>\n",
       "    <tr>\n",
       "      <th>0.0</th>\n",
       "      <td>951.331135</td>\n",
       "      <td>951.331135</td>\n",
       "    </tr>\n",
       "    <tr>\n",
       "      <th>8760.0</th>\n",
       "      <td>229.223240</td>\n",
       "      <td>229.223240</td>\n",
       "    </tr>\n",
       "    <tr>\n",
       "      <th>17520.0</th>\n",
       "      <td>-53.582825</td>\n",
       "      <td>65.325549</td>\n",
       "    </tr>\n",
       "  </tbody>\n",
       "</table>\n",
       "</div>"
      ],
      "text/plain": [
       "          bill_comm        bill\n",
       "types                          \n",
       "0.0      951.331135  951.331135\n",
       "8760.0   229.223240  229.223240\n",
       "17520.0  -53.582825   65.325549"
      ]
     },
     "execution_count": 113,
     "metadata": {},
     "output_type": "execute_result"
    }
   ],
   "source": [
    "df_2.groupby(df_2.types).median()"
   ]
  },
  {
   "cell_type": "code",
   "execution_count": 167,
   "metadata": {},
   "outputs": [],
   "source": [
    "columnsTitles=[\"types\",\"bill\",\"bill_comm\"]\n",
    "df_25=df_25.reindex(columns=columnsTitles)\n",
    "df_100=df_100.reindex(columns=columnsTitles)\n"
   ]
  },
  {
   "cell_type": "code",
   "execution_count": 168,
   "metadata": {},
   "outputs": [
    {
     "data": {
      "text/html": [
       "<div>\n",
       "<style scoped>\n",
       "    .dataframe tbody tr th:only-of-type {\n",
       "        vertical-align: middle;\n",
       "    }\n",
       "\n",
       "    .dataframe tbody tr th {\n",
       "        vertical-align: top;\n",
       "    }\n",
       "\n",
       "    .dataframe thead th {\n",
       "        text-align: right;\n",
       "    }\n",
       "</style>\n",
       "<table border=\"1\" class=\"dataframe\">\n",
       "  <thead>\n",
       "    <tr style=\"text-align: right;\">\n",
       "      <th></th>\n",
       "      <th>bill</th>\n",
       "      <th>bill_comm</th>\n",
       "    </tr>\n",
       "    <tr>\n",
       "      <th>types</th>\n",
       "      <th></th>\n",
       "      <th></th>\n",
       "    </tr>\n",
       "  </thead>\n",
       "  <tbody>\n",
       "    <tr>\n",
       "      <th>0.0</th>\n",
       "      <td>951.331135</td>\n",
       "      <td>951.331135</td>\n",
       "    </tr>\n",
       "    <tr>\n",
       "      <th>8760.0</th>\n",
       "      <td>229.223240</td>\n",
       "      <td>229.223240</td>\n",
       "    </tr>\n",
       "    <tr>\n",
       "      <th>17520.0</th>\n",
       "      <td>65.325549</td>\n",
       "      <td>-53.582825</td>\n",
       "    </tr>\n",
       "  </tbody>\n",
       "</table>\n",
       "</div>"
      ],
      "text/plain": [
       "               bill   bill_comm\n",
       "types                          \n",
       "0.0      951.331135  951.331135\n",
       "8760.0   229.223240  229.223240\n",
       "17520.0   65.325549  -53.582825"
      ]
     },
     "execution_count": 168,
     "metadata": {},
     "output_type": "execute_result"
    }
   ],
   "source": [
    "df_25.groupby(df_25.types).median()"
   ]
  },
  {
   "cell_type": "code",
   "execution_count": 169,
   "metadata": {},
   "outputs": [
    {
     "data": {
      "text/html": [
       "<div>\n",
       "<style scoped>\n",
       "    .dataframe tbody tr th:only-of-type {\n",
       "        vertical-align: middle;\n",
       "    }\n",
       "\n",
       "    .dataframe tbody tr th {\n",
       "        vertical-align: top;\n",
       "    }\n",
       "\n",
       "    .dataframe thead th {\n",
       "        text-align: right;\n",
       "    }\n",
       "</style>\n",
       "<table border=\"1\" class=\"dataframe\">\n",
       "  <thead>\n",
       "    <tr style=\"text-align: right;\">\n",
       "      <th></th>\n",
       "      <th>bill</th>\n",
       "      <th>bill_comm</th>\n",
       "    </tr>\n",
       "    <tr>\n",
       "      <th>types</th>\n",
       "      <th></th>\n",
       "      <th></th>\n",
       "    </tr>\n",
       "  </thead>\n",
       "  <tbody>\n",
       "    <tr>\n",
       "      <th>0.0</th>\n",
       "      <td>952.405344</td>\n",
       "      <td>952.405344</td>\n",
       "    </tr>\n",
       "    <tr>\n",
       "      <th>8760.0</th>\n",
       "      <td>189.174993</td>\n",
       "      <td>189.174993</td>\n",
       "    </tr>\n",
       "    <tr>\n",
       "      <th>17520.0</th>\n",
       "      <td>-41.181024</td>\n",
       "      <td>-188.010600</td>\n",
       "    </tr>\n",
       "  </tbody>\n",
       "</table>\n",
       "</div>"
      ],
      "text/plain": [
       "               bill   bill_comm\n",
       "types                          \n",
       "0.0      952.405344  952.405344\n",
       "8760.0   189.174993  189.174993\n",
       "17520.0  -41.181024 -188.010600"
      ]
     },
     "execution_count": 169,
     "metadata": {},
     "output_type": "execute_result"
    }
   ],
   "source": [
    "df_25.groupby(df_25.types).mean()"
   ]
  },
  {
   "cell_type": "code",
   "execution_count": 170,
   "metadata": {},
   "outputs": [
    {
     "data": {
      "text/html": [
       "<div>\n",
       "<style scoped>\n",
       "    .dataframe tbody tr th:only-of-type {\n",
       "        vertical-align: middle;\n",
       "    }\n",
       "\n",
       "    .dataframe tbody tr th {\n",
       "        vertical-align: top;\n",
       "    }\n",
       "\n",
       "    .dataframe thead th {\n",
       "        text-align: right;\n",
       "    }\n",
       "</style>\n",
       "<table border=\"1\" class=\"dataframe\">\n",
       "  <thead>\n",
       "    <tr style=\"text-align: right;\">\n",
       "      <th></th>\n",
       "      <th>bill</th>\n",
       "      <th>bill_comm</th>\n",
       "    </tr>\n",
       "    <tr>\n",
       "      <th>types</th>\n",
       "      <th></th>\n",
       "      <th></th>\n",
       "    </tr>\n",
       "  </thead>\n",
       "  <tbody>\n",
       "    <tr>\n",
       "      <th>0.0</th>\n",
       "      <td>494.693615</td>\n",
       "      <td>494.693615</td>\n",
       "    </tr>\n",
       "    <tr>\n",
       "      <th>17520.0</th>\n",
       "      <td>-177.413018</td>\n",
       "      <td>-227.820238</td>\n",
       "    </tr>\n",
       "  </tbody>\n",
       "</table>\n",
       "</div>"
      ],
      "text/plain": [
       "               bill   bill_comm\n",
       "types                          \n",
       "0.0      494.693615  494.693615\n",
       "17520.0 -177.413018 -227.820238"
      ]
     },
     "execution_count": 170,
     "metadata": {},
     "output_type": "execute_result"
    }
   ],
   "source": [
    "df_100.groupby(df_100.types).median()"
   ]
  },
  {
   "cell_type": "code",
   "execution_count": 171,
   "metadata": {},
   "outputs": [
    {
     "data": {
      "text/html": [
       "<div>\n",
       "<style scoped>\n",
       "    .dataframe tbody tr th:only-of-type {\n",
       "        vertical-align: middle;\n",
       "    }\n",
       "\n",
       "    .dataframe tbody tr th {\n",
       "        vertical-align: top;\n",
       "    }\n",
       "\n",
       "    .dataframe thead th {\n",
       "        text-align: right;\n",
       "    }\n",
       "</style>\n",
       "<table border=\"1\" class=\"dataframe\">\n",
       "  <thead>\n",
       "    <tr style=\"text-align: right;\">\n",
       "      <th></th>\n",
       "      <th>bill</th>\n",
       "      <th>bill_comm</th>\n",
       "    </tr>\n",
       "    <tr>\n",
       "      <th>types</th>\n",
       "      <th></th>\n",
       "      <th></th>\n",
       "    </tr>\n",
       "  </thead>\n",
       "  <tbody>\n",
       "    <tr>\n",
       "      <th>0.0</th>\n",
       "      <td>506.600566</td>\n",
       "      <td>506.600566</td>\n",
       "    </tr>\n",
       "    <tr>\n",
       "      <th>17520.0</th>\n",
       "      <td>-187.535705</td>\n",
       "      <td>-238.090140</td>\n",
       "    </tr>\n",
       "  </tbody>\n",
       "</table>\n",
       "</div>"
      ],
      "text/plain": [
       "               bill   bill_comm\n",
       "types                          \n",
       "0.0      506.600566  506.600566\n",
       "17520.0 -187.535705 -238.090140"
      ]
     },
     "execution_count": 171,
     "metadata": {},
     "output_type": "execute_result"
    }
   ],
   "source": [
    "df_100.groupby(df_100.types).mean()"
   ]
  },
  {
   "cell_type": "code",
   "execution_count": 172,
   "metadata": {},
   "outputs": [
    {
     "data": {
      "text/html": [
       "<div>\n",
       "<style scoped>\n",
       "    .dataframe tbody tr th:only-of-type {\n",
       "        vertical-align: middle;\n",
       "    }\n",
       "\n",
       "    .dataframe tbody tr th {\n",
       "        vertical-align: top;\n",
       "    }\n",
       "\n",
       "    .dataframe thead th {\n",
       "        text-align: right;\n",
       "    }\n",
       "</style>\n",
       "<table border=\"1\" class=\"dataframe\">\n",
       "  <thead>\n",
       "    <tr style=\"text-align: right;\">\n",
       "      <th></th>\n",
       "      <th>bill</th>\n",
       "      <th>bill_comm</th>\n",
       "    </tr>\n",
       "    <tr>\n",
       "      <th>types</th>\n",
       "      <th></th>\n",
       "      <th></th>\n",
       "    </tr>\n",
       "  </thead>\n",
       "  <tbody>\n",
       "    <tr>\n",
       "      <th>0.0</th>\n",
       "      <td>NaN</td>\n",
       "      <td>0.000000</td>\n",
       "    </tr>\n",
       "    <tr>\n",
       "      <th>8760.0</th>\n",
       "      <td>NaN</td>\n",
       "      <td>0.000000</td>\n",
       "    </tr>\n",
       "    <tr>\n",
       "      <th>17520.0</th>\n",
       "      <td>NaN</td>\n",
       "      <td>-1.820243</td>\n",
       "    </tr>\n",
       "  </tbody>\n",
       "</table>\n",
       "</div>"
      ],
      "text/plain": [
       "         bill  bill_comm\n",
       "types                   \n",
       "0.0       NaN   0.000000\n",
       "8760.0    NaN   0.000000\n",
       "17520.0   NaN  -1.820243"
      ]
     },
     "execution_count": 172,
     "metadata": {},
     "output_type": "execute_result"
    }
   ],
   "source": [
    "df_25.groupby(df_25.types).median().pct_change(axis=1)"
   ]
  },
  {
   "cell_type": "code",
   "execution_count": 173,
   "metadata": {},
   "outputs": [
    {
     "data": {
      "text/html": [
       "<div>\n",
       "<style scoped>\n",
       "    .dataframe tbody tr th:only-of-type {\n",
       "        vertical-align: middle;\n",
       "    }\n",
       "\n",
       "    .dataframe tbody tr th {\n",
       "        vertical-align: top;\n",
       "    }\n",
       "\n",
       "    .dataframe thead th {\n",
       "        text-align: right;\n",
       "    }\n",
       "</style>\n",
       "<table border=\"1\" class=\"dataframe\">\n",
       "  <thead>\n",
       "    <tr style=\"text-align: right;\">\n",
       "      <th></th>\n",
       "      <th>bill</th>\n",
       "      <th>bill_comm</th>\n",
       "    </tr>\n",
       "    <tr>\n",
       "      <th>types</th>\n",
       "      <th></th>\n",
       "      <th></th>\n",
       "    </tr>\n",
       "  </thead>\n",
       "  <tbody>\n",
       "    <tr>\n",
       "      <th>0.0</th>\n",
       "      <td>NaN</td>\n",
       "      <td>0.000000</td>\n",
       "    </tr>\n",
       "    <tr>\n",
       "      <th>8760.0</th>\n",
       "      <td>NaN</td>\n",
       "      <td>0.000000</td>\n",
       "    </tr>\n",
       "    <tr>\n",
       "      <th>17520.0</th>\n",
       "      <td>NaN</td>\n",
       "      <td>3.565467</td>\n",
       "    </tr>\n",
       "  </tbody>\n",
       "</table>\n",
       "</div>"
      ],
      "text/plain": [
       "         bill  bill_comm\n",
       "types                   \n",
       "0.0       NaN   0.000000\n",
       "8760.0    NaN   0.000000\n",
       "17520.0   NaN   3.565467"
      ]
     },
     "execution_count": 173,
     "metadata": {},
     "output_type": "execute_result"
    }
   ],
   "source": [
    "df_25.groupby(df_25.types).mean().pct_change(axis=1)"
   ]
  },
  {
   "cell_type": "code",
   "execution_count": 174,
   "metadata": {},
   "outputs": [
    {
     "data": {
      "text/html": [
       "<div>\n",
       "<style scoped>\n",
       "    .dataframe tbody tr th:only-of-type {\n",
       "        vertical-align: middle;\n",
       "    }\n",
       "\n",
       "    .dataframe tbody tr th {\n",
       "        vertical-align: top;\n",
       "    }\n",
       "\n",
       "    .dataframe thead th {\n",
       "        text-align: right;\n",
       "    }\n",
       "</style>\n",
       "<table border=\"1\" class=\"dataframe\">\n",
       "  <thead>\n",
       "    <tr style=\"text-align: right;\">\n",
       "      <th></th>\n",
       "      <th>bill</th>\n",
       "      <th>bill_comm</th>\n",
       "    </tr>\n",
       "    <tr>\n",
       "      <th>types</th>\n",
       "      <th></th>\n",
       "      <th></th>\n",
       "    </tr>\n",
       "  </thead>\n",
       "  <tbody>\n",
       "    <tr>\n",
       "      <th>0.0</th>\n",
       "      <td>NaN</td>\n",
       "      <td>0.000000</td>\n",
       "    </tr>\n",
       "    <tr>\n",
       "      <th>17520.0</th>\n",
       "      <td>NaN</td>\n",
       "      <td>0.284124</td>\n",
       "    </tr>\n",
       "  </tbody>\n",
       "</table>\n",
       "</div>"
      ],
      "text/plain": [
       "         bill  bill_comm\n",
       "types                   \n",
       "0.0       NaN   0.000000\n",
       "17520.0   NaN   0.284124"
      ]
     },
     "execution_count": 174,
     "metadata": {},
     "output_type": "execute_result"
    }
   ],
   "source": [
    "df_100.groupby(df_100.types).median().pct_change(axis=1)"
   ]
  },
  {
   "cell_type": "code",
   "execution_count": 175,
   "metadata": {},
   "outputs": [
    {
     "data": {
      "text/html": [
       "<div>\n",
       "<style scoped>\n",
       "    .dataframe tbody tr th:only-of-type {\n",
       "        vertical-align: middle;\n",
       "    }\n",
       "\n",
       "    .dataframe tbody tr th {\n",
       "        vertical-align: top;\n",
       "    }\n",
       "\n",
       "    .dataframe thead th {\n",
       "        text-align: right;\n",
       "    }\n",
       "</style>\n",
       "<table border=\"1\" class=\"dataframe\">\n",
       "  <thead>\n",
       "    <tr style=\"text-align: right;\">\n",
       "      <th></th>\n",
       "      <th>bill</th>\n",
       "      <th>bill_comm</th>\n",
       "    </tr>\n",
       "    <tr>\n",
       "      <th>types</th>\n",
       "      <th></th>\n",
       "      <th></th>\n",
       "    </tr>\n",
       "  </thead>\n",
       "  <tbody>\n",
       "    <tr>\n",
       "      <th>0.0</th>\n",
       "      <td>NaN</td>\n",
       "      <td>0.000000</td>\n",
       "    </tr>\n",
       "    <tr>\n",
       "      <th>17520.0</th>\n",
       "      <td>NaN</td>\n",
       "      <td>0.269572</td>\n",
       "    </tr>\n",
       "  </tbody>\n",
       "</table>\n",
       "</div>"
      ],
      "text/plain": [
       "         bill  bill_comm\n",
       "types                   \n",
       "0.0       NaN   0.000000\n",
       "17520.0   NaN   0.269572"
      ]
     },
     "execution_count": 175,
     "metadata": {},
     "output_type": "execute_result"
    }
   ],
   "source": [
    "df_100.groupby(df_100.types).mean().pct_change(axis=1)"
   ]
  },
  {
   "cell_type": "code",
   "execution_count": 140,
   "metadata": {},
   "outputs": [
    {
     "data": {
      "text/plain": [
       "146.64000000000001"
      ]
     },
     "execution_count": 140,
     "metadata": {},
     "output_type": "execute_result"
    }
   ],
   "source": [
    "188*.78"
   ]
  },
  {
   "cell_type": "code",
   "execution_count": 139,
   "metadata": {},
   "outputs": [
    {
     "data": {
      "text/plain": [
       "147"
      ]
     },
     "execution_count": 139,
     "metadata": {},
     "output_type": "execute_result"
    }
   ],
   "source": [
    "188-41"
   ]
  },
  {
   "cell_type": "code",
   "execution_count": 120,
   "metadata": {},
   "outputs": [
    {
     "data": {
      "text/plain": [
       "171.52"
      ]
     },
     "execution_count": 120,
     "metadata": {},
     "output_type": "execute_result"
    }
   ],
   "source": [
    "53.6*(1+2.2)"
   ]
  },
  {
   "cell_type": "code",
   "execution_count": null,
   "metadata": {},
   "outputs": [],
   "source": []
  }
 ],
 "metadata": {
  "kernelspec": {
   "display_name": "Python 3",
   "language": "python",
   "name": "python3"
  },
  "language_info": {
   "codemirror_mode": {
    "name": "ipython",
    "version": 3
   },
   "file_extension": ".py",
   "mimetype": "text/x-python",
   "name": "python",
   "nbconvert_exporter": "python",
   "pygments_lexer": "ipython3",
   "version": "3.6.8"
  }
 },
 "nbformat": 4,
 "nbformat_minor": 2
}
